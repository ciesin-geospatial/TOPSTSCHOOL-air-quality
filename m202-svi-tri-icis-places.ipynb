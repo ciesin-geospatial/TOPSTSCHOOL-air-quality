{
  "cells": [
    {
      "cell_type": "raw",
      "id": "c5dc064a",
      "metadata": {},
      "source": [
        "---\n",
        "title: \"Exploring SVI, TRI, and Health Outcomes\"\n",
        "author: \"Joshua Brinks\"\n",
        "date: \"September 4, 2024\"\n",
        "df-print: paged\n",
        "code-block-bg: true\n",
        "code-block-border-left: \"#315c86\"\n",
        "format: \n",
        "    html\n",
        "keep-ipynb: true\n",
        "---"
      ]
    },
    {
      "cell_type": "markdown",
      "id": "514dc7fa",
      "metadata": {},
      "source": [
        "## Overview\n",
        "\n",
        "In this lesson, we will introduce you to 3 public health and air quality datasets. These include the EPA's Toxic Release Inventory (TRI), the EPA's Integrated Compliance Information System for Air (ICIS-AIR), and the CDC's PLACES health outcomes dataset. You will learn how to form queries and retrieve each dataset from their respective API, process the returned object into a useable format, create visualizations and perform simple analysis. You will also use NASA's Social Vulnerability Index (SVI) to examine socioeconomic patterns in the greater Detroit metropolitan area and explore relationships with public health.\n",
        "\n",
        "::: {.callout-tip style=\"color: #5a7a2b;\"}\n",
        "## Programming Reminder\n",
        "\n",
        "This lesson uses the Python programming environment.\n",
        ":::\n",
        "\n",
        "## Learning Objectives\n",
        "\n",
        "After completing this lesson, you should be able to:\n",
        "\n",
        "-   Retrieve multiple public health datasets through the EPA and CDC's APIs.\n",
        "-   Create multipanel raster maps from multilayered SVI data.\n",
        "-   Geolocating tabular data using latitude and longitude.\n",
        "-   Create maps joining geolocated points and basemaps.\n",
        "-   Create maps with graduated point symbols for point source pollution releases.\n",
        "-   Interpolate a raster surface from point spatial data.\n",
        "-   Perform raster math to create specialized indexes.\n",
        "-   Perform spatial correlation analysis.\n",
        "\n",
        "::: {.callout-warning}\n",
        "## Preface: A Note on Data Interpretation and Ethical Considerations\n",
        "\n",
        "This lesson is designed to introduce you to various environmental, public health, and socioeconomic datasets, and to provide you with the tools to analyze and visualize this information. However, it's crucial to approach this material with an understanding of its sensitive nature and potential implications.\n",
        "\n",
        "The topics of environmental justice, institutional racism, socioeconomic conditions, and pollution are complex and multifaceted. The data and analyses presented in this lesson are not intended to draw definitive conclusions or suggest scientific evidence of cause and effect relationships. Rather, they are meant to equip you with the skills to investigate data and perform analyses that could be applied to your local communities.\n",
        "\n",
        "As you work through this lesson, remember that correlation does not imply causation. The patterns you may observe in the data could be influenced by numerous factors not captured in these datasets. It's essential to approach your findings with caution and to consider the broader historical, social, and economic contexts that shape environmental and health outcomes in different communities.\n",
        "\n",
        "This lesson aims to empower you with data literacy and analytical skills. We encourage you to use these tools responsibly, always considering the ethical implications of your analyses and the potential impact on the communities represented in the data. When drawing insights or making decisions based on such analyses, it's crucial to involve community stakeholders, consider multiple perspectives, and seek additional expertise when necessary.\n",
        ":::\n",
        "\n",
        "## Introduction\n",
        "\n",
        "In many urban areas, air quality issues disproportionately affect low-income communities and communities of color. This disparity is a key focus of environmental justice efforts. In cities like Detroit, Chicago, and Cleveland industrial facilities, highways, and other pollution sources are often concentrated in disadvantaged neighborhoods. Detroit has a history of industrial pollution and is working to address air quality issues in areas like Southwest Detroit, where residents face higher exposure to pollutants from nearby industries and heavy truck traffic. Similarly, Chicago has seen community efforts to address air pollution in areas like the Southeast Side, where residents have fought against polluting industries and advocated for stricter regulations.\n",
        "\n",
        "The EPA is the primary federal agency responsible for environmental protection in the United States. It sets and enforces air quality standards, including the National Ambient Air Quality Standards (NAAQS) for six criteria pollutants. The EPA also maintains the AirNow system, which provides real-time air quality data to the public. CDC (Centers for Disease Control and Prevention): While primarily focused on public health, the CDC plays a crucial role in understanding the health impacts of air pollution. It conducts research on the relationships between air quality and various health outcomes, and provides guidance on protecting public health from environmental hazards.\n",
        "\n",
        "In response to these challenges, community-driven science initiatives have emerged. These efforts involve local residents in collecting data on air quality and other environmental factors, often using low-cost sensors and mobile monitoring techniques. This approach helps fill gaps in official monitoring networks and empowers communities to advocate for themselves. Open data is crucial for community-driven solutions in several ways:\n",
        "\n",
        "-   Transparency: Open data allows communities to verify official reports and hold authorities accountable.\n",
        "-   Accessibility: When air quality data is freely available, communities can use it to inform local decision-making and advocacy efforts.\n",
        "-   Innovation: Open data enables researchers, activists, and tech developers to create new tools and analyses that can benefit communities.\n",
        "-   Collaboration: Open data facilitates collaboration between communities, scientists, and policymakers, leading to more effective solutions.\n",
        "\n",
        "While the EPA and CDC provide federal networks of open-access datasets like the Air Quality System (AQS), TRI, ICIS-AIR, and PLACES collections, community driven data collection is a large part of driving change in traditionally underrepresented communities. In Chicago, the Array of Things project has installed sensors throughout the city, providing open data on various environmental factors including air quality, while Detroit's Community Air Monitoring Project uses low-cost sensors to collect and share air quality data in areas underserved by official monitoring stations.\n",
        "\n",
        "With access to open data, communities can:\n",
        "\n",
        "-   Identify local air quality hotspots that may be missed by sparse official monitoring networks.\n",
        "-   Correlate air quality data with health outcomes to strengthen advocacy efforts.\n",
        "-   Develop targeted interventions, such as promoting indoor air filtration on high-pollution days.\n",
        "-   Create custom alerts and information systems tailored to local needs.\n",
        "\n",
        "Although open data provides many benefits, challenges still remain. These include: 1) ensuring data quality and consistency, especially when integrating data from various sources; 2) addressing the \"digital divide\" to ensure all community members can access and use the data; 3) balancing the need for detailed local data with privacy concerns; and 4) building capacity within communities to effectively use and interpret complex environmental data.\n",
        "\n",
        "::: {.callout-tip style=\"color: #5a7a2b;\"}\n",
        "#### EJ in the News\n",
        "\n",
        "The Clear the Air Coalition, a new environmental justice advocacy group in Michigan, is calling for stronger protection of vulnerable communities from pollution. Launched in Detroit, the coalition argues that state regulators focus too much on technical compliance with environmental laws rather than public health. They claim the current permitting process favors polluters and fails to consider the cumulative impacts of pollution on overburdened communities. The group seeks changes in state law and a shift in mindset from environmental regulators.\n",
        "\n",
        "[![Clear the Air Coalition](https://npr.brightspotcdn.com/dims4/default/42a4f01/2147483647/strip/true/crop/960x720+0+0/resize/1760x1320!/format/webp/quality/90/?url=http%3A%2F%2Fnpr-brightspot.s3.amazonaws.com%2F78%2F01%2F1711cf6e442dbe579d452c0fc6f6%2Fclearair.jpg)](https://www.michiganpublic.org/environment-climate-change/2024-05-02/new-environmental-justice-coalition-aims-to-change-state-law-pressure-egle)\n",
        "\n",
        "While the Michigan Department of Environment, Great Lakes, and Energy (EGLE) states its commitment to protecting underserved communities and notes improvements in air quality over recent decades, coalition members argue that the current approach is insufficient. They call for regulators to consider the combined effects of multiple pollution sources in marginalized areas and to give local governments more power to reject new polluting facilities in already burdened communities. The coalition plans to raise awareness and push for these changes during the upcoming Air Quality Awareness Week.\n",
        ":::\n",
        "\n",
        "The state of Michigan, Department of Environment, Great Lakes, and Energy (EGLE), and the Office of the Environmental Justice Public Advocate are one of the most active state departments aiming to address issues of the environment, public health, and social justice. Here are some of the projects enacted in greater Detroit area:\n",
        "\n",
        "-   [Detroit Environmental Agenda](https://detroitenv.org/): This community-led initiative works closely with EGLE to address environmental concerns in Detroit. It focuses on issues like air quality, water quality, and waste management.\n",
        "-   [48217 Community Air Monitoring Project](https://www.michigan.gov/-/media/Project/Websites/egle/Documents/Reports/AQD/monitoring/2018-04-27-48217-air-monitoring-project.pdf): Named after the zip code of a heavily industrialized area in Southwest Detroit, this project involves community members working with EGLE to monitor air quality using low-cost sensors.\n",
        "-   [Detroit Climate Action Plan](https://detroitenvironmentaljustice.org/climate-action-plan/): Developed in partnership with EGLE, this plan addresses climate change impacts on the city, with a focus on vulnerable communities.\n",
        "-   [Delray Neighborhood Initiatives](https://detroitmi.gov/departments/planning-and-development-department/neighborhood-plans/central-design-region/delray): EGLE has been involved in efforts to address air quality concerns in the Delray neighborhood, which is impacted by industrial emissions and heavy truck traffic.\n",
        "-   [Green Door Initiative](https://www.greendoorinitiative.org/): This Detroit-based organization collaborates with EGLE on various environmental justice projects, including lead abatement and air quality improvement efforts.\n",
        "-   [Detroit River Sediment Cleanup](https://www.epa.gov/great-lakes-aocs/detroit-riverwalk-great-lakes-legacy-act-project-detroit-river-aoc): EGLE has been involved in efforts to clean up contaminated sediments in the Detroit River, which disproportionately affects nearby low-income communities.\n",
        "-   [Asthma Prevention Programs](https://getasthmahelp.org/asthma-collaborative-of-detroit.aspx): EGLE supports community-based asthma prevention programs in Detroit, recognizing the link between air quality and asthma rates in disadvantaged neighborhoods.\n",
        "\n",
        "These are just a few of examples that demonstrate the ongoing collaboration between community groups, local government, and EGLE to address environmental justice concerns in Detroit.\n",
        "\n",
        "Air quality issues in urban areas disproportionately affect low-income communities and communities of color, making it a critical focus for environmental justice efforts. Federal agencies like the EPA and CDC play crucial roles in setting standards and conducting research, but community-driven science initiatives have emerged as powerful tools for local action. Open data is key to these efforts, enabling transparency, accessibility, innovation, and collaboration. Cities like Detroit and Chicago are at the forefront of these initiatives, with projects that empower residents to monitor and advocate for better air quality. While challenges remain, particularly in data management and accessibility, the collaboration between community groups, local governments, and state agencies like Michigan's EGLE demonstrates a promising path forward.\n",
        "\n",
        "## Data Analysis and Exercises\n",
        "\n",
        "To better understand and address these complex issues, we'll work through a series of coding and data science exercises. These hands-on activities will allow users to explore some of the open datasets and tools that are available to community members and stakeholders that offer practical insights into air quality, public health, and social vulnerability.\n",
        "\n",
        "We'll begin with the ICIS-AIR dataset, then move on to the TRI Facility dataset, and finally work our way down to TRI Form A. After exploring these 3 air pollution datasets, we will take a look at the CDC PLACES health outcomes data and perform some simple analysis integrating the pollution and health outcomes data.\n",
        "\n",
        "::: {.callout-tip style=\"color: #5a7a2b;\"}\n",
        "#### Data Science Review\n",
        "\n",
        "This lesson uses the following Python modules:\n",
        "\n",
        "- [`pandas`](https://pandas.pydata.org/): Essential for data manipulation and analysis.\n",
        "- [`geopandas`](https://geopandas.org/): Extends pandas functionality to handle geospatial data.\n",
        "- [`matplotlib`](https://matplotlib.org/): Used for creating static, animated, and interactive visualizations.\n",
        "- [`numpy`](https://numpy.org/): Provides support for large, multi-dimensional arrays and matrices, along with mathematical functions to operate on these arrays.\n",
        "- [`requests`](https://docs.python-requests.org/en/latest/): Allows you to send HTTP requests and interact with APIs easily.\n",
        "- [`contextily`](https://contextily.readthedocs.io/en/latest/): Adds basemaps to your plots, enhancing the visual context of your geospatial data.\n",
        "- [`pygris`](https://pygris.readthedocs.io/en/latest/): Simplifies the process of working with US Census Bureau TIGER/Line shapefiles.\n",
        "- [`rasterio`](https://rasterio.readthedocs.io/en/latest/): Reads and writes geospatial raster datasets.\n",
        "- [`xarray`](https://xarray.pydata.org/): Introduces labels in the form of dimensions, coordinates, and attributes on top of raw NumPy-like arrays, making it easier to work with labeled multi-dimensional arrays.\n",
        "- [`shapely`](https://shapely.readthedocs.io/en/latest/): Manipulation and analysis of geometric objects in the Cartesian plane.\n",
        "- [`scipy`](https://www.scipy.org/): Used for scientific and technical computing, particularly the `stats` and `interpolate` submodules.\n",
        "- [`rioxarray`](https://corteva.github.io/rioxarray/stable/): Extends xarray to make it easier to handle geospatial raster data.\n",
        "- [`time`](https://docs.python.org/3/library/time.html): Provides various time-related functions (part of Python's standard library).\n",
        "- [`tabulate`](https://pypi.org/project/tabulate/): Used for creating nicely formatted tables in various output formats.\n",
        "- [`pysal`](https://pysal.org/): A library of spatial analysis functions.\n",
        "- [`splot`](https://splot.readthedocs.io/en/latest/): Provides statistical plots for spatial analysis.\n",
        "\n",
        "If you'd like to learn more about the functions used in this lesson, you can refer to the documentation on their respective websites.\n",
        "\n",
        "The `pandas` module is essential for data manipulation and analysis, while `geopandas` extends its functionality to handle geospatial data. `matplotlib` is used for creating static, animated, and interactive visualizations. `numpy` provides support for large, multi-dimensional arrays and matrices, along with a collection of mathematical functions to operate on these arrays.\n",
        "\n",
        "The `requests` module allows you to send HTTP requests and interact with APIs easily. `contextily` adds basemaps to your plots, enhancing the visual context of your geospatial data. `pygris` simplifies the process of working with US Census Bureau TIGER/Line shapefiles.\n",
        "\n",
        "`rasterio` and `xarray` are used for working with geospatial raster data. `rasterio` reads and writes geospatial raster datasets, while `xarray` introduces labels in the form of dimensions, coordinates, and attributes on top of raw NumPy-like arrays, making it easier to work with labeled multi-dimensional arrays.\n",
        "\n",
        "`shapely` is used for manipulation and analysis of geometric objects. `scipy` provides additional tools for scientific computing, including statistical functions and interpolation methods. `rioxarray` combines the functionality of rasterio and xarray for easier handling of geospatial raster data.\n",
        "\n",
        "`pysal` is a library for spatial analysis, providing tools for exploratory spatial data analysis. `splot` is a visualization module that works with pysal to create statistical plots for spatial analysis.\n",
        "\n",
        "Make sure these modules are installed before you begin working with the code in this document.\n",
        ":::\n",
        "\n",
        "### ICIS Air\n",
        "\n",
        "ICIS-AIR (Integrated Compliance Information System for Air) is a comprehensive database maintained by the U.S. Environmental Protection Agency (EPA) that focuses specifically on air quality compliance and enforcement data. It tracks information related to stationary sources of air pollution, including their compliance with various Clean Air Act regulations, permit data, and enforcement actions. While ICIS-AIR and the Toxic Release Inventory (TRI) are separate systems, they have significant overlap in their coverage of industrial facilities and air emissions. Many facilities that report to TRI also have data in ICIS-AIR, providing complementary information.\n",
        "\n",
        "Where TRI focuses on the quantities of specific toxic chemicals released into the air, ICIS-AIR offers a broader picture of a facility's overall air quality compliance status, including non-toxic pollutants regulated under the Clean Air Act. Together, these systems provide a more comprehensive view of industrial air pollution sources, enabling researchers, regulators, and the public to assess both the types and quantities of air pollutants emitted (from TRI) and the regulatory compliance status of the emitting facilities (from ICIS-AIR).\n",
        "\n",
        "#### Data Processing\n",
        "\n",
        "##### Defining Our Study Area\n",
        "\n",
        "Next we'll query the API for ICIS-AIR regulated facilities in the greater Detroit area, but first we need to create a spatial object that defines our study area that we can use throughout this analysis. The U.S. Census Bureau defines the Detroit, MI Metropolitan Statistical Area (MSA) as including 6 counties (Wayne, Macomb, Oakland, Lapeer, Livingston, and St. Clair), but for this lesson we will focus on the core 3 counties (Wayne, Macomb, and Oakland); both population and air emissions related facilities are much more sparse in the outer counties.\n",
        "\n",
        "We can us **pygris** to get vector boundaries for the counties and dissolve them into a single boundary we can you for cropping data and restricting API searches.\n"
      ]
    },
    {
      "cell_type": "code",
      "execution_count": null,
      "id": "252878fa",
      "metadata": {
        "vscode": {
          "languageId": "python"
        }
      },
      "outputs": [],
      "source": [
        "import geopandas as gpd\n",
        "import pandas as pd\n",
        "import pygris\n",
        "from shapely.geometry import box\n",
        "\n",
        "\n",
        "counties = ['Wayne', 'Oakland', 'Macomb']\n",
        "\n",
        "# Fetch the county boundaries for Michigan (MI) from the pygris dataset for the year 2022.\n",
        "# Then, filter the DataFrame to only include the counties in the Detroit metro area (Wayne, Oakland, Macomb).\n",
        "metro_counties = pygris.counties(state=\"MI\", year=2022)\n",
        "detroit_metro = metro_counties[metro_counties['NAME'].isin(counties)]\n",
        "\n",
        "# Combine the geometries of the selected counties into a single polygon (dissolve by state code).\n",
        "detroit_metro = detroit_metro.dissolve(by='STATEFP')\n",
        "\n",
        "# Convert the dissolved geometries into a GeoDataFrame and ensure the coordinate reference system (CRS) is EPSG:4269.\n",
        "detroit_metro = gpd.GeoDataFrame(detroit_metro, geometry='geometry', crs='EPSG:4269')\n",
        "\n",
        "# Obtain the total bounding box for the Detroit metro area polygon.\n",
        "bbox = detroit_metro.total_bounds\n",
        "\n",
        "# Create a bounding box polygon from the bounding coordinates and store it in a GeoDataFrame with the same CRS.\n",
        "bbox_polygon = gpd.GeoDataFrame(\n",
        "    geometry=[box(*bbox)],\n",
        "    crs=detroit_metro.crs\n",
        ")"
      ]
    },
    {
      "cell_type": "markdown",
      "id": "491c5857",
      "metadata": {},
      "source": [
        "Let's verify this by overlaying it on a basemap.\n"
      ]
    },
    {
      "cell_type": "code",
      "execution_count": null,
      "id": "7c9cf504",
      "metadata": {
        "vscode": {
          "languageId": "python"
        }
      },
      "outputs": [],
      "source": [
        "import matplotlib.pyplot as plt\n",
        "import contextily as ctx\n",
        "\n",
        "# Initialize a figure and axis with a 7x7 inch size for plotting.\n",
        "fig, ax = plt.subplots(figsize=(7, 7))\n",
        "\n",
        "# Reproject the Detroit metro area and bounding box to Web Mercator (EPSG:3857) to align with the basemap.\n",
        "detroit_metro_bm = detroit_metro.to_crs(epsg=3857)\n",
        "bbox_polygon_bm = bbox_polygon.to_crs(epsg=3857)\n",
        "\n",
        "# Plot the Detroit metro area with a light blue fill and dark blue edges at 30% opacity.\n",
        "detroit_metro_bm.plot(ax=ax, color='lightblue', edgecolor='darkblue', alpha=0.3)\n",
        "\n",
        "# Plot the boundary of the bounding box with a grey outline and a thicker line width.\n",
        "bbox_polygon_bm.boundary.plot(ax=ax, color='grey', linewidth=2)\n",
        "\n",
        "# Add a basemap from OpenStreetMap (Mapnik) to provide background geographic context.\n",
        "ctx.add_basemap(ax, source=ctx.providers.OpenStreetMap.Mapnik)\n",
        "\n",
        "# Adjust the map's visible area (extent) to fit the bounding box.\n",
        "ax.set_xlim(bbox_polygon_bm.total_bounds[0], bbox_polygon_bm.total_bounds[2])\n",
        "ax.set_ylim(bbox_polygon_bm.total_bounds[1], bbox_polygon_bm.total_bounds[3])\n",
        "\n",
        "# Remove axis lines and labels for a cleaner map visualization.\n",
        "ax.set_axis_off()\n",
        "\n",
        "# Add a title to the plot.\n",
        "plt.title(\"Detroit Metro Study Area\", fontsize=16)\n",
        "\n",
        "# Optimize layout to ensure proper spacing around the plot.\n",
        "plt.tight_layout()\n",
        "\n",
        "# Display the final plot.\n",
        "plt.show()"
      ]
    },
    {
      "cell_type": "markdown",
      "id": "4d287c3d",
      "metadata": {},
      "source": [
        "This looks correct, and we'll use this boundary object repeatedly throughout our analysis.\n",
        "\n",
        "#### Querying the API\n",
        "\n",
        "The EPA's Enforcement and Compliance History Online (ECHO) website serves as a comprehensive portal for environmental compliance and enforcement data. It includes the ECHO Data Service, which provides programmatic access to EPA data through RESTful APIs. Among these is the ICIS-AIR API, which specifically offers access to air quality compliance and enforcement data. This API allows users to retrieve detailed information about stationary sources of air pollution, including facility details, permit data, emissions reports, and compliance status.\n",
        "\n",
        "The ECHO API requires that users follow a multi-step workflow to acquire data via the [Facility Air API](https://echo.epa.gov/tools/web-services/facility-search-air):\n",
        "\n",
        "1.  Use get_facilities to validate parameters, get summary statistics, and obtain a query_id (QID), valid for about 30 minutes.\n",
        "2.  Use get_qid with the obtained QID to paginate through facility results.\n",
        "3.  Use get_map with the QID to visualize and navigate facility locations.\n",
        "4.  Use get_download with the QID to generate a CSV file of facility information.\n",
        "\n",
        "The get_facility_info endpoint operates independently, returning either clustered summary statistics or an array of individual facilities. This API structure allows for efficient querying, visualization, and extraction of air quality compliance data, making it a valuable resource for environmental analysis and research.\n",
        "\n",
        "We'll begin by querying this database for just Michigan facilities in the workflow detailed above. From there we'll subset with our list of counties.\n",
        "\n",
        "We start with the base url for the ECHO API and our parameter list.\n"
      ]
    },
    {
      "cell_type": "code",
      "execution_count": null,
      "id": "0ca9de99",
      "metadata": {
        "vscode": {
          "languageId": "python"
        }
      },
      "outputs": [],
      "source": [
        "# Base URL for the ECHO ICIS-AIR API, which provides access to air quality and compliance data from the EPA.\n",
        "base_url = \"https://echodata.epa.gov/echo/air_rest_services\"\n",
        "\n",
        "# Query parameters for the API call:\n",
        "# - \"output\": Specifies the response format as JSON.\n",
        "# - \"p_st\": Filters results to include only the state of Michigan (MI).\n",
        "params = {\n",
        "    \"output\": \"JSON\",\n",
        "    \"p_st\": \"MI\"\n",
        "}"
      ]
    },
    {
      "cell_type": "markdown",
      "id": "f284951f",
      "metadata": {},
      "source": [
        "::: column-margin\n",
        "::: {.callout-tip style=\"color: #5a7a2b;\"}\n",
        "#### Data Science Review\n",
        "\n",
        "An Application Programming Interface (API) is a set of protocols, tools, and definitions that enable different software applications to communicate with each other. It acts as an intermediary, allowing one application to request specific data or actions from another application or service without needing access to its entire codebase. APIs define the methods and data formats that applications can use to request and exchange information, typically through specific *endpoints* (URLs) that accept requests and return responses in standardized formats like JSON. They are crucial for integrating external services, accessing databases, and enabling communication between different parts of larger open science software systems.\n",
        ":::\n",
        ":::\n",
        "\n",
        "Now we define 2 functions that will carry out the first 2 steps; 1) identifying the facilities in our search and 2) retrieve the facility data.\n"
      ]
    },
    {
      "cell_type": "code",
      "execution_count": null,
      "id": "8cbccc98",
      "metadata": {
        "vscode": {
          "languageId": "python"
        }
      },
      "outputs": [],
      "source": [
        "import requests\n",
        "\n",
        "# Define the function to query the API for the facilities of interest\n",
        "def get_facilities():\n",
        "    response = requests.get(f\"{base_url}.get_facilities\", params=params)\n",
        "    if response.status_code == 200:\n",
        "        data = response.json()\n",
        "        if 'Results' in data:\n",
        "            qid = data['Results']['QueryID']\n",
        "            print(f\"Query ID: {qid}\")\n",
        "            print(f\"Total Facilities: {data['Results']['QueryRows']}\")\n",
        "            return qid\n",
        "    print(\"Failed to get facilities and QID\")\n",
        "    return None\n",
        "\n",
        "# Define the function to retrieve the relevant data from the facilities of interest\n",
        "def get_facility_data(qid):\n",
        "    all_facilities = []\n",
        "    page = 1\n",
        "    while True:\n",
        "        params = {\"qid\": qid, \"pageno\": page, \"output\": \"JSON\"}\n",
        "        response = requests.get(f\"{base_url}.get_qid\", params=params)\n",
        "        if response.status_code == 200:\n",
        "            data = response.json()\n",
        "            if 'Results' in data and 'Facilities' in data['Results']:\n",
        "                facilities = data['Results']['Facilities']\n",
        "                if not facilities:  # No more facilities to retrieve\n",
        "                    break\n",
        "                all_facilities.extend(facilities)\n",
        "                print(f\"Retrieved page {page}\")\n",
        "                page += 1\n",
        "            else:\n",
        "                break\n",
        "        else:\n",
        "            print(f\"Failed to retrieve page {page}\")\n",
        "            break\n",
        "    return all_facilities"
      ]
    },
    {
      "cell_type": "markdown",
      "id": "62254d90",
      "metadata": {},
      "source": [
        "Now that we've defined the functions we can make a request to the API with our Detroit metro counties.\n"
      ]
    },
    {
      "cell_type": "code",
      "execution_count": null,
      "id": "ea4aa66d",
      "metadata": {
        "vscode": {
          "languageId": "python"
        }
      },
      "outputs": [],
      "source": [
        "# Step 1: Get the Query ID\n",
        "qid = get_facilities()\n",
        "\n",
        "if qid:\n",
        "    # Step 2: Use get_qid to retrieve all facility data\n",
        "    print(\"Retrieving facility data...\")\n",
        "    facilities = get_facility_data(qid)\n",
        "    \n",
        "    # Convert to DataFrame\n",
        "    df_icis_air = pd.DataFrame(facilities)\n",
        "    \n",
        "    print(f\"\\nSuccessfully retrieved {len(df_icis_air)} ICIS-AIR facilities for Michigan\")\n",
        "    print(\"\\nColumns in the dataset:\")\n",
        "    print(df_icis_air.columns)\n",
        "    \n",
        "else:\n",
        "    print(\"Failed to retrieve facility data\")"
      ]
    },
    {
      "cell_type": "markdown",
      "id": "98f7ef5f",
      "metadata": {},
      "source": [
        "There are over three thousand facilities in the ICIS-AIR Michigan dataset. Here are the descriptions for some key columns.\n",
        "\n",
        "#### Key Columns in the ICIS-AIR ECHO API Dataset\n",
        "\n",
        "-   **AIRName**: The name of the facility\n",
        "-   **SourceID**: A unique identifier for the air pollution source\n",
        "-   **AIRStreet**, **AIRCity**, **AIRState**, **AIRZip**: Address components of the facility\n",
        "-   **RegistryID**: A unique identifier for the facility in the EPA's registry\n",
        "-   **AIRCounty**: The county where the facility is located\n",
        "-   **AIREPARegion**: The EPA region responsible for the facility\n",
        "-   **AIRNAICS**: North American Industry Classification System code(s) for the facility\n",
        "-   **FacLat**, **FacLong**: Latitude and longitude coordinates of the facility\n",
        "-   **AIRPrograms**: Air quality programs applicable to the facility\n",
        "-   **AIRStatus**: Current operational status of the facility\n",
        "-   **AIRUniverse**: Categorization of the facility within air quality regulation\n",
        "-   **AIRComplStatus**: Current compliance status under the Clean Air Act\n",
        "-   **AIRHpvStatus**: High Priority Violator status\n",
        "-   **AIRQtrsWithViol**: Number of quarters with violations\n",
        "-   **AIRLastViolDate**: Date of the most recent violation\n",
        "-   **AIREvalCnt**: Count of evaluations conducted\n",
        "-   **AIRLastEvalDate**: Date of the most recent evaluation\n",
        "-   **AIRFceCnt**: Count of Full Compliance Evaluations\n",
        "-   **AIRLastFceDate**: Date of the last Full Compliance Evaluation\n",
        "\n",
        "These columns provide information about each facility's location, operational characteristics, compliance history, and regulatory oversight under the Clean Air Act. It includes information on violations, evaluations, and compliance status that assess a facility's environmental performance and regulatory compliance.\n",
        "\n",
        "We can check some basic information like how many facilities are in Detroit metro and the breakdown by our 3 counties.\n"
      ]
    },
    {
      "cell_type": "code",
      "execution_count": null,
      "id": "38858ab3",
      "metadata": {
        "vscode": {
          "languageId": "python"
        }
      },
      "outputs": [],
      "source": [
        "# Subset the dataframe to include only the Detroit metro counties\n",
        "icis_air_detroit = df_icis_air[df_icis_air['AIRCounty'].isin(counties)]\n",
        "\n",
        "# Print information about the subset\n",
        "print(f\"Total ICIS-AIR facilities in Michigan: {len(df_icis_air)}\")\n",
        "print(f\"ICIS-AIR facilities in Detroit metro area: {len(icis_air_detroit)}\")\n",
        "\n",
        "# Display the count of facilities in each metro county\n",
        "print(\"\\nFacilities per county:\")\n",
        "print(icis_air_detroit['AIRCounty'].value_counts())"
      ]
    },
    {
      "cell_type": "markdown",
      "id": "58d726be",
      "metadata": {},
      "source": [
        "Next we should check for facilities with missing latitude or longitude coordinates.\n"
      ]
    },
    {
      "cell_type": "code",
      "execution_count": null,
      "id": "e9ec144f",
      "metadata": {
        "vscode": {
          "languageId": "python"
        }
      },
      "outputs": [],
      "source": [
        "# Count records with missing coordinate values\n",
        "missing_coords = icis_air_detroit[(icis_air_detroit['FacLat'].isnull()) | (icis_air_detroit['FacLong'].isnull())]\n",
        "print(f\"Number of ICIS-AIR records with missing coordinates: {len(missing_coords)}\")\n",
        "\n",
        "# Remove records with missing coordinates\n",
        "icis_air_detroit = icis_air_detroit.dropna(subset=['FacLat', 'FacLong'])"
      ]
    },
    {
      "cell_type": "markdown",
      "id": "755620de",
      "metadata": {},
      "source": [
        "No missing records! That's great. As you'll find out later, you won't always be so lucky.\n",
        "\n",
        "Now we can create a spatial object, reproject it so it matches the basemap of Detroit, and make a map showing the location of all the ICIS-AIR facilities in Detroit metro.\n"
      ]
    },
    {
      "cell_type": "code",
      "execution_count": null,
      "id": "d10a4209",
      "metadata": {
        "vscode": {
          "languageId": "python"
        }
      },
      "outputs": [],
      "source": [
        "# Create a GeoDataFrame for ICIS-AIR facilities\n",
        "gdf_icis_air = gpd.GeoDataFrame(\n",
        "    icis_air_detroit, \n",
        "    geometry=gpd.points_from_xy(icis_air_detroit.FacLong, icis_air_detroit.FacLat),\n",
        "    crs=\"EPSG:4326\"\n",
        ")\n",
        "\n",
        "# Reproject ICIS-AIR data to Web Mercator so it matches the basemap\n",
        "gdf_icis_air_bm = gdf_icis_air.to_crs(epsg=3857)\n",
        "\n",
        "# Create the plot\n",
        "fig, ax = plt.subplots(figsize=(7, 7))\n",
        "\n",
        "# Plot the metro area and bounding box (reusing objects from earlier)\n",
        "detroit_metro_bm.plot(ax=ax, facecolor='none', edgecolor='blue', linewidth=2)\n",
        "bbox_polygon_bm.boundary.plot(ax=ax, color='#315c86', linewidth=3)\n",
        "\n",
        "# Plot ICIS-AIR facilities\n",
        "gdf_icis_air_bm.plot(ax=ax, color='cyan', markersize=50, alpha=0.5, label='ICIS-AIR Facilities', edgecolor = \"grey\")\n",
        "\n",
        "# Add the basemap\n",
        "ctx.add_basemap(ax, source=ctx.providers.OpenStreetMap.Mapnik)\n",
        "\n",
        "# Set the extent of the map to the bounding box\n",
        "ax.set_xlim(bbox_polygon_bm.total_bounds[0], bbox_polygon_bm.total_bounds[2])\n",
        "ax.set_ylim(bbox_polygon_bm.total_bounds[1], bbox_polygon_bm.total_bounds[3])\n",
        "\n",
        "# Remove axes\n",
        "ax.set_axis_off()\n",
        "\n",
        "# Add legend\n",
        "ax.legend()\n",
        "\n",
        "plt.title(\"Detroit Metro Area ICIS-AIR Facilities\", fontsize=16)\n",
        "plt.tight_layout()\n",
        "plt.show()\n",
        "\n",
        "print(f\"Number of ICIS-AIR facilities plotted: {len(gdf_icis_air)}\")"
      ]
    },
    {
      "cell_type": "markdown",
      "id": "032a6cb2",
      "metadata": {},
      "source": [
        "These are distributed along business and industrial sectors as expected, but we can't infer much else from this map.\n",
        "\n",
        "Which regulated facilities have been in violation status? We can plot all the facilities with at least one violation during a reporting quarter and use graduated symbols that reflect the total number of quarters with violations. This information is in the `AIRQtrsWithViol` column.\n"
      ]
    },
    {
      "cell_type": "code",
      "execution_count": null,
      "id": "58fa6238",
      "metadata": {
        "vscode": {
          "languageId": "python"
        }
      },
      "outputs": [],
      "source": [
        "# Convert to numeric, replacing non-numeric values with NaN\n",
        "gdf_icis_air_bm['AIRQtrsWithViol'] = pd.to_numeric(gdf_icis_air_bm['AIRQtrsWithViol'], errors='coerce')\n",
        "\n",
        "# subset the dataset for those with violations\n",
        "gdf_icis_air_violators = gdf_icis_air_bm = gdf_icis_air_bm[gdf_icis_air_bm['AIRQtrsWithViol'] > 0]\n",
        "\n",
        "# Create the plot\n",
        "fig, ax = plt.subplots(figsize=(7, 7))\n",
        "\n",
        "# Plot the metro area and bounding box (reusing objects from earlier)\n",
        "detroit_metro_bm.plot(ax=ax, facecolor='none', edgecolor='blue', linewidth=2)\n",
        "bbox_polygon_bm.boundary.plot(ax=ax, color='#315c86', linewidth=3)\n",
        "\n",
        "# Plot TRI facilities with graduated symbols based on air releases\n",
        "scatter = ax.scatter(gdf_icis_air_violators.geometry.x,\n",
        "                     gdf_icis_air_violators.geometry.y, \n",
        "                     s=gdf_icis_air_violators['AIRQtrsWithViol']*10,  # Adjust the multiplier as needed\n",
        "                     c='orangered', \n",
        "                     edgecolor='yellow', \n",
        "                     linewidth=1, \n",
        "                     alpha=0.7)\n",
        "\n",
        "# Add the basemap\n",
        "ctx.add_basemap(ax, source=ctx.providers.OpenStreetMap.Mapnik)\n",
        "\n",
        "# Set the extent of the map to the bounding box\n",
        "ax.set_xlim(bbox_polygon_bm.total_bounds[0], bbox_polygon_bm.total_bounds[2])\n",
        "ax.set_ylim(bbox_polygon_bm.total_bounds[1], bbox_polygon_bm.total_bounds[3])\n",
        "\n",
        "# Remove axes\n",
        "ax.set_axis_off()\n",
        "\n",
        "# Add legend\n",
        "ax.legend()\n",
        "\n",
        "plt.title(\"Detroit Metro Area ICIS-AIR Facilities w/ Violations\", fontsize=16)\n",
        "plt.tight_layout()\n",
        "plt.show()"
      ]
    },
    {
      "cell_type": "markdown",
      "id": "2a6a415f",
      "metadata": {},
      "source": [
        "We can also create a table showing which businesses have been in violation statues, their name, address, and the date of their most recent violation using the **tabulate** module.\n"
      ]
    },
    {
      "cell_type": "code",
      "execution_count": null,
      "id": "e1e72670",
      "metadata": {
        "vscode": {
          "languageId": "python"
        }
      },
      "outputs": [],
      "source": [
        "from tabulate import tabulate\n",
        "\n",
        "gdf_icis_air_violators = gdf_icis_air_bm = gdf_icis_air_bm[gdf_icis_air_bm['AIRQtrsWithViol'] >= 10]\n",
        "\n",
        "# List the columns we want to use\n",
        "table_columns = ['AIRName', 'AIRStreet', 'AIRCity', 'AIRQtrsWithViol', 'AIRLastViolDate']\n",
        "\n",
        "# Create a new DataFrame with only the columns we want\n",
        "table_data = gdf_icis_air_violators[table_columns].copy()\n",
        "\n",
        "# Ensure AIRLastViolDate is in datetime format\n",
        "table_data['AIRLastViolDate'] = pd.to_datetime(table_data['AIRLastViolDate'])\n",
        "\n",
        "# Sort the DataFrame by AIRLastViolDate in descending order\n",
        "table_data = table_data.sort_values('AIRLastViolDate', ascending=False)\n",
        "\n",
        "# Create a dictionary to map old column names to pretty column names\n",
        "pretty_names = {\n",
        "    'AIRName': 'Name',\n",
        "    'AIRStreet': 'Street',\n",
        "    'AIRCity': 'City',\n",
        "    'AIRQtrsWithViol': 'Violations',\n",
        "    'AIRLastViolDate': 'Violation Date'\n",
        "}\n",
        "\n",
        "# Rename the columns\n",
        "table_data.rename(columns=pretty_names, inplace=True)\n",
        "\n",
        "# Format the 'Violation Date' column to a specific date format (optional)\n",
        "table_data['Violation Date'] = table_data['Violation Date'].dt.strftime('%Y-%m-%d')\n",
        "\n",
        "# Create the table\n",
        "table = tabulate(table_data, headers='keys', tablefmt='html', showindex=False)\n",
        "table "
      ]
    },
    {
      "cell_type": "markdown",
      "id": "3816392b",
      "metadata": {},
      "source": [
        "ICIS-AIR is a powerfule tool for communites and policy-makers to identify regulated facilities and their compliance status, but the dataset does have limitations. Next, we'll take a look at facilities required to report to the Toxic Release Inventory (TRI).\n",
        "\n",
        "::: {.callout-tip style=\"color: #9f0b64;\"}\n",
        "#### Knowledge Check\n",
        "Which of the following best describes the ICIS-AIR database?\n",
        "\n",
        "a) A database of air quality measurements from monitoring stations\n",
        "b) A comprehensive database of air quality compliance and enforcement data\n",
        "c) A public health database tracking respiratory illnesses\n",
        "d) A database of weather patterns affecting air quality\n",
        ":::\n",
        "\n",
        "### Toxic Release Inventory\n",
        "\n",
        "The Toxic Release Inventory (TRI) is a crucial resource in understanding and addressing air quality issues in the United States. Established under the Emergency Planning and Community Right-to-Know Act of 1986, the TRI is a publicly accessible database maintained by the Environmental Protection Agency (EPA). It requires certain industrial facilities to report annually on their releases of toxic chemicals into the environment, including air emissions. The TRI provides valuable data on over 770 chemicals and chemical categories, offering insights into the types and quantities of pollutants released into the air by various industries. This information is vital to researchers, policymakers, and community advocates in assessing local air quality, identifying potential health risks, and developing targeted strategies to reduce toxic air emissions. By making this data publicly available, the TRI plays an important role in promoting transparency and supporting environmental justice initiatives focused on improving air quality in communities across the nation.\n",
        "\n",
        "::: {.callout-tip style=\"color: #5a7a2b;\"}\n",
        "#### Data Review\n",
        "\n",
        "The Toxics Release Inventory (TRI) and the Integrated Compliance Information System for Air (ICIS-AIR) are two important but distinct environmental reporting systems maintained by the U.S. Environmental Protection Agency (EPA). They have several key differences:\n",
        "\n",
        "-   **Regulatory Basis**\n",
        "    -   TRI: Established under the Emergency Planning and Community Right-to-Know Act (EPCRA) of 1986\n",
        "    -   ICIS-AIR: Part of the Clean Air Act (CAA) compliance and enforcement program\n",
        "-   **Focus**\n",
        "    -   TRI: Tracks the management of certain toxic chemicals that may pose a threat to human health and the environment\n",
        "    -   ICIS-AIR: Focuses specifically on air quality and emissions from facilities regulated under the Clean Air Act\n",
        "-   **Reported Information**\n",
        "    -   TRI: Facilities report on releases, waste management, and pollution prevention activities for specific toxic chemicals\n",
        "    -   ICIS-AIR: Tracks emissions data, compliance status, and enforcement actions related to air quality regulations\n",
        "-   **Facility Coverage**\n",
        "    -   TRI: Covers facilities in specific industries that manufacture, process, or use TRI-listed chemicals above certain thresholds\n",
        "    -   ICIS-AIR: Includes a broader range of facilities that emit air pollutants, regardless of the specific chemicals involved\n",
        "-   **Reporting Thresholds**\n",
        "    -   TRI: Has specific chemical thresholds that trigger reporting requirements\n",
        "    -   ICIS-AIR: Generally doesn't have chemical-specific thresholds; requirements are based on overall emissions and facility type\n",
        "-   **Public Accessibility**\n",
        "    -   TRI: Designed with a strong focus on public right-to-know, with data easily accessible to the public\n",
        "    -   ICIS-AIR: While public, it's primarily designed for regulatory and enforcement purposes\n",
        "-   **Data Frequency**\n",
        "    -   TRI: Annual reporting is required for covered facilities\n",
        "    -   ICIS-AIR: May involve more frequent reporting, depending on permit requirements and compliance status\n",
        "-   **Scope of Pollutants**\n",
        "    -   TRI: Focuses on a specific list of toxic chemicals and chemical categories\n",
        "    -   ICIS-AIR: Covers a wider range of air pollutants, including criteria air pollutants and hazardous air pollutants\n",
        "-   **Use in Environmental Management**\n",
        "    -   TRI: Often used for assessing long-term trends in toxic chemical releases and waste management practices\n",
        "    -   ICIS-AIR: More commonly used for day-to-day air quality management and enforcement activities\n",
        "-   **Geographic Coverage**\n",
        "    -   TRI: Nationwide program with consistent reporting across states\n",
        "    -   ICIS-AIR: While national, implementation can vary more by state or local air quality management district\n",
        ":::\n",
        "\n",
        "#### Envirofacts API\n",
        "\n",
        "EnviroFacts is a comprehensive online database and information system maintained by the U.S. Environmental Protection Agency (EPA). It serves as a centralized hub for accessing a wide range of environmental data collected by the EPA and other federal agencies. EnviroFacts integrates information from multiple EPA databases, covering various aspects of environmental health, including air quality, water quality, hazardous waste, and toxic releases. One of the key components of EnviroFacts is the Toxic Release Inventory (TRI) data. Through EnviroFacts, users can easily access and query TRI information, allowing them to investigate toxic chemical releases and waste management activities in their local areas. The integration of TRI data within the broader EnviroFacts system enables researchers, policymakers, and community members to contextualize toxic release information alongside other environmental indicators.\n",
        "\n",
        "Envirofacts is available as a [web based search and data platform](https://enviro.epa.gov/) and also as a [programmatic API](https://www.epa.gov/enviro/envirofacts-data-service-api). The web platform is a great way to familiarize yourself with the available datasets and create simple downloads, however, for analytical purposes we recommend learning to navigate their API so you can create repeatable and reliable analysis.\n",
        "\n",
        "::: {.callout-tip style=\"color: #5a7a2b;\"}\n",
        "#### Environmental Justice In the News\n",
        "\n",
        "[The Michigan Department of Environment, Great Lakes and Energy (EGLE) has settled a civil rights complaint regarding a hazardous waste facility in Detroit](https://www.detroitnews.com/story/news/local/michigan/2024/08/29/egle-settles-civil-rights-complaint-about-detroit-hazardous-waste-approval-us-ecology-north/75001763007/). The complaint, filed in 2020 by environmental groups and local residents, challenged the renewal and expansion of U.S. Ecology North's license, arguing it was unjust to increase hazardous waste storage in a predominantly low-income and minority neighborhood. As part of the settlement, EGLE will now consider environmental justice concerns in future licensing decisions for hazardous waste facilities.\n",
        "\n",
        "The agreement, described as \"groundbreaking\" by the Sierra Club, introduces several new measures. EGLE will conduct environmental justice and cumulative impact analyses for future licensing decisions, potentially denying licenses that would have an unlawful impact on human health and the environment. The settlement also includes provisions for improved community engagement, such as better translation services, public input processes, and the installation of air monitors around U.S. Ecology North. Additionally, the state will work with local residents to conduct a community health assessment. While some details remain to be clarified, environmental advocates view this as a significant step towards advancing environmental justice in Michigan.\n",
        ":::\n",
        "\n",
        "#### Querying the API\n",
        "\n",
        "We'll continue to use the Detroit metro boundary we created earlier. We assigned them the names `detroit_metro` and `detroit_metro_bm` (projected to mercator to match **b**ase**m**aps for plotting).\n"
      ]
    },
    {
      "cell_type": "code",
      "execution_count": null,
      "id": "59cbdea5",
      "metadata": {
        "vscode": {
          "languageId": "python"
        }
      },
      "outputs": [],
      "source": [
        "# Print the bounding box coordinates\n",
        "print(\"Bounding Box:\")\n",
        "print(f\"Minimum X (Longitude): {bbox[0]}\")\n",
        "print(f\"Minimum Y (Latitude): {bbox[1]}\")\n",
        "print(f\"Maximum X (Longitude): {bbox[2]}\")\n",
        "print(f\"Maximum Y (Latitude): {bbox[3]}\")"
      ]
    },
    {
      "cell_type": "markdown",
      "id": "02e77c0a",
      "metadata": {},
      "source": [
        "Now we'll create and empty list to store the TRI data, loop through each county making an API query, and place the retrieved data in the empty container.\n"
      ]
    },
    {
      "cell_type": "code",
      "execution_count": null,
      "id": "a6561f4a",
      "metadata": {
        "vscode": {
          "languageId": "python"
        }
      },
      "outputs": [],
      "source": [
        "# Fetch TRI facility data from EPA API for each county\n",
        "tri_data = []\n",
        "\n",
        "# Loop through each county to make a separate API inquiry (was having trouble attempting all at once)\n",
        "for county in counties:\n",
        "    api_url = f\"https://data.epa.gov/efservice/tri_facility/state_abbr/MI/county_name/{county}/JSON\"\n",
        "    response = requests.get(api_url)\n",
        "    # Is our response good\n",
        "    if response.status_code == 200:\n",
        "        county_data = response.json()\n",
        "        # Add the county to the list\n",
        "        tri_data.extend(county_data)\n",
        "    else:\n",
        "        print(f\"Failed to fetch data for {county} County. Status code: {response.status_code}\")"
      ]
    },
    {
      "cell_type": "markdown",
      "id": "be4bea94",
      "metadata": {},
      "source": [
        "#### Processing the Data\n",
        "\n",
        "The TRI data comes in json format. They can be a little confusing to interpret, becauce each record (traditionally a row in a table) is viewed with columns structured vertically. Let's look at the first record.\n"
      ]
    },
    {
      "cell_type": "code",
      "execution_count": null,
      "id": "0e225a73",
      "metadata": {
        "vscode": {
          "languageId": "python"
        }
      },
      "outputs": [],
      "source": [
        "tri_data[1]"
      ]
    },
    {
      "cell_type": "markdown",
      "id": "19f337aa",
      "metadata": {},
      "source": [
        "This record shows all the information for PPG GROW DETROIT with columns and values listed side-by-side ('city_name': 'DETROIT'). This may seem difficult to deal with, but most programming languages have tools to easily parse json data into traditional tables. `pd.DataFrame` does it automatically when you attempt to create a **pandas** data frame.\n"
      ]
    },
    {
      "cell_type": "code",
      "execution_count": null,
      "id": "8c3830ef",
      "metadata": {
        "vscode": {
          "languageId": "python"
        }
      },
      "outputs": [],
      "source": [
        "# Convert TRI data to a DataFrame\n",
        "tri_df = pd.DataFrame(tri_data)\n",
        "\n",
        "print(f\"Number of facilities fetched: {len(tri_df)}\")\n",
        "\n",
        "# Check the first few rows (too large to print in this document)\n",
        "# tri_df.head"
      ]
    },
    {
      "cell_type": "markdown",
      "id": "a9c8b048",
      "metadata": {},
      "source": [
        "Checking the first few rows--everything looks as it should. We want to geocode the facility locations into a point layer using the latitude and longitude values. Therefore, we should start by making sure all the facilities have latitude and longitude values.\n",
        "\n",
        "We'll check and remove those without.\n"
      ]
    },
    {
      "cell_type": "code",
      "execution_count": null,
      "id": "31ae8682",
      "metadata": {
        "vscode": {
          "languageId": "python"
        }
      },
      "outputs": [],
      "source": [
        "# Create a copy of the dataframe to avoid SettingWithCopyWarning\n",
        "tri_df_clean = tri_df.copy()\n",
        "\n",
        "# Remove facilities with empty latitude or longitude values\n",
        "tri_df_clean = tri_df_clean.dropna(subset=['pref_latitude', 'pref_longitude'])\n",
        "\n",
        "print(f\"Number of facilities after removing empty coordinates: {len(tri_df_clean)}\")\n",
        "\n",
        "# Convert latitude and longitude to numeric type\n",
        "tri_df_clean['pref_latitude'] = pd.to_numeric(tri_df_clean['pref_latitude'], errors='coerce')\n",
        "tri_df_clean['pref_longitude'] = pd.to_numeric(tri_df_clean['pref_longitude'], errors='coerce')"
      ]
    },
    {
      "cell_type": "markdown",
      "id": "7bc38aff",
      "metadata": {},
      "source": [
        "Ouch! We lost roughly 300 records due to missing coordinates (789 vs. 478). If this were an important analysis for policy-making or scientific research we would take the time to geocode the listed addresses into lat/long coordinates, but for the purposes of this exercise we'll move on.\n",
        "\n",
        "In my personal investigations of this data, I noticed that some longitude coordinates were not negative, but had an absolute value (e.g. 83.25) that made sense for the Detroit metro area, therefore we will flip the sign on these records.\n"
      ]
    },
    {
      "cell_type": "code",
      "execution_count": null,
      "id": "4e360c10",
      "metadata": {
        "vscode": {
          "languageId": "python"
        }
      },
      "outputs": [],
      "source": [
        "# Function to correct longitude by making it negative if positive\n",
        "def correct_longitude(lon):\n",
        "    if lon > 0:\n",
        "        return -lon\n",
        "    return lon\n",
        "\n",
        "# Apply longitude correction\n",
        "tri_df_clean['pref_longitude'] = tri_df_clean['pref_longitude'].apply(correct_longitude)"
      ]
    },
    {
      "cell_type": "markdown",
      "id": "ba0cba33",
      "metadata": {},
      "source": [
        "Additionally, there are some records with wild longitudinal values that are not simply from a missing negative sign. We'll identify these outliers using the interquantile range. Anything outside the range will be tosses. One of the downsides of the TRI database is that many aspects are provided directly by the facility (and therefore subject to errors). Again, if this were a more important analysis we would carefully explore all of these missing records and possible geocode using the address.\n",
        "\n",
        "Toss the quartile outliers.\n"
      ]
    },
    {
      "cell_type": "code",
      "execution_count": null,
      "id": "08b21819",
      "metadata": {
        "vscode": {
          "languageId": "python"
        }
      },
      "outputs": [],
      "source": [
        "# Calculate IQR for longitude\n",
        "Q1 = tri_df_clean['pref_longitude'].quantile(0.25)\n",
        "Q3 = tri_df_clean['pref_longitude'].quantile(0.75)\n",
        "IQR = Q3 - Q1\n",
        "\n",
        "# Define bounds for outliers\n",
        "lower_bound = Q1 - 1.5 * IQR\n",
        "upper_bound = Q3 + 1.5 * IQR\n",
        "\n",
        "lower_bound, upper_bound\n",
        "\n",
        "# Remove outliers\n",
        "tri_df_clean = tri_df_clean[(tri_df_clean['pref_longitude'] >= lower_bound) & \n",
        "                            (tri_df_clean['pref_longitude'] <= upper_bound)]\n",
        "\n",
        "print(f\"Number of facilities after removing longitude outliers: {len(tri_df_clean)}\")"
      ]
    },
    {
      "cell_type": "markdown",
      "id": "383da5dc",
      "metadata": {},
      "source": [
        "Thankfully we only lost 2 more records from outlier.\n",
        "\n",
        "#### Visualizing the Data\n",
        "\n",
        "The data has been cleaned up a bit so now lets create a spatial point object from the data with **geopandas** and use **matplotlib** to plot the values on top of a basemap of Detroit we'll acquire using **contextily** and our original Wayne, Macomb, and Oakland counties boundary.\n"
      ]
    },
    {
      "cell_type": "code",
      "execution_count": null,
      "id": "d1d88be5",
      "metadata": {
        "vscode": {
          "languageId": "python"
        }
      },
      "outputs": [],
      "source": [
        "# Create a GeoDataFrame from the cleaned TRI data\n",
        "detroit_tri = gpd.GeoDataFrame(\n",
        "    tri_df_clean, \n",
        "    geometry=gpd.points_from_xy(tri_df_clean.pref_longitude, tri_df_clean.pref_latitude),\n",
        "    crs=\"EPSG:4326\"\n",
        ")\n",
        "\n",
        "# Reproject data to Web Mercator for contextily\n",
        "# detroit_metro = detroit_metro.to_crs(epsg=3857)\n",
        "# bbox_polygon = bbox_polygon.to_crs(epsg=3857)\n",
        "detroit_tri = detroit_tri.to_crs(epsg=3857)\n",
        "\n",
        "# Create the plot\n",
        "fig, ax = plt.subplots(figsize=(7, 7))\n",
        "\n",
        "# Plot the metro area and bounding box (reusing objects from earlier)\n",
        "detroit_metro_bm.plot(ax=ax, facecolor='none', edgecolor='blue', linewidth=2)\n",
        "bbox_polygon_bm.boundary.plot(ax=ax, color='#315c86', linewidth=3)\n",
        "\n",
        "# Plot TRI facilities (reusing the detroit_tri object from earlier)\n",
        "detroit_tri.plot(ax=ax, color='purple', edgecolor='grey', markersize=50, alpha=0.5, label='TRI Facilities')\n",
        "# Plot ICIS-AIR facilities\n",
        "gdf_icis_air_bm.plot(ax=ax, color='cyan', edgecolor='grey', markersize=50, alpha=0.5, label='ICIS-AIR Facilities')\n",
        "\n",
        "# Add the basemap\n",
        "ctx.add_basemap(ax, source=ctx.providers.OpenStreetMap.Mapnik)\n",
        "\n",
        "# Set the extent of the map to the bounding box\n",
        "ax.set_xlim(bbox_polygon_bm.total_bounds[0], bbox_polygon_bm.total_bounds[2])\n",
        "ax.set_ylim(bbox_polygon_bm.total_bounds[1], bbox_polygon_bm.total_bounds[3])\n",
        "\n",
        "# Remove axes\n",
        "ax.set_axis_off()\n",
        "\n",
        "# Add legend\n",
        "ax.legend()\n",
        "\n",
        "plt.title(\"Detroit Metro Area TRI and ICIS-AIR Facilities\", fontsize=16)\n",
        "plt.tight_layout()\n",
        "plt.show()\n",
        "\n",
        "print(f\"Number of TRI facilities plotted: {len(detroit_tri)}\")\n",
        "print(f\"Number of ICIS-AIR facilities plotted: {len(gdf_icis_air)}\")"
      ]
    },
    {
      "cell_type": "markdown",
      "id": "dffd71ec",
      "metadata": {},
      "source": [
        "We can see that there are far fewer facilities being tracked in TRI compared to ICIS-AIR. While some of this can be attributed to the records we tossed after checking for valid geographic coordinates and outliers, but generally speaking ICIS-AIR will contain far more as it tracks every facility regulated by the Clean Air Act as opposed to only those that are part of TRI.\n",
        "\n",
        "You may have also noticed that this dataset does not contain any actually pollution data; only facility information for those that are regulated by TRI.\n",
        "\n",
        "TRI is made up of numerous tables containing a wealth of information regarding the facilities themselves and all the regulated chemicals that are handled at each site. The TRI_FACILITY table we requested is the starter table used in most of the examples in the Envirofacts API documentation, however, it does not contain any chemical release data.\n",
        "\n",
        "Navigating the TRI Envirofacts interface can be overwhelming at times. Multiple tables can be queried with a single URL, however, for a proper join to be carried out both tables must contain at least 1 column. In most cases this can be accomplished using TRI_FACILITY_ID. That said, air pollution release data (column name [AIR_TOTAL_RELEASE](https://enviro.epa.gov/enviro/ef_metadata_html.tri_page?p_column_name=air_total_release)) is only found in the [TRI_FORM_R](https://enviro.epa.gov/enviro/ef_metadata_html.ef_metadata_table?p_table_name=TRI_FORM_R&p_topic=TRI) table, which does not contain the FACILITY_ID column.\n",
        "\n",
        "You can querry the V_TRI_FORM_R_EZ using the API even though it's not a documented table listed in the API website. This form contains facility information and AIR_TOTAL_RELEASE reporting, but it only goes until 2021. To get the most recent data (2023) you would have to manually download the individual tables with separate calls perform the joins, or use the [custom form search web portal](https://enviro.epa.gov/facts/tri/form_ra_download.html). We'll demonstrate a quick API call for the V_TRI_FORM_R_EZ, but move forward with the most recent data available in the custom form search web portal.\n",
        "\n",
        "::: {.callout-tip style=\"color: #9f0b64;\"}\n",
        "#### Knowledge Check\n",
        "What is the primary purpose of the Toxic Release Inventory (TRI)?\n",
        "\n",
        "a) To track emissions of greenhouse gases\n",
        "b) To monitor compliance with the Clean Air Act\n",
        "c) To provide data on toxic chemical releases from industrial facilities\n",
        "d) To record air quality index values for major cities\n",
        ":::\n",
        "\n",
        "### Toxic Release Inventory: Form R\n",
        "\n",
        "We can make the query to Envirofacts. Let's breakdown the call.\n"
      ]
    },
    {
      "cell_type": "code",
      "execution_count": null,
      "id": "2116a42a",
      "metadata": {
        "vscode": {
          "languageId": "python"
        }
      },
      "outputs": [],
      "source": [
        "# URL of the CSV file\n",
        "url = \"https://data.epa.gov/efservice/V_TRI_FORM_R_EZ/REPORTING_YEAR/2021/AIR_TOTAL_RELEASE/>/0/STATE_ABBR/MI/COUNTY_NAME/CONTAINING/WAYNE/CONTAINING/OAKLAND/CONTAINING/MACOMB/CSV\""
      ]
    },
    {
      "cell_type": "markdown",
      "id": "66b9e235",
      "metadata": {},
      "source": [
        "-   Base url: https://data.epa.gov/efservice/\n",
        "-   The table we're requesting: V_TRI_FORM_R_EZ/\n",
        "-   For just 2021: REPORTING_YEAR/2021/\n",
        "-   Only facilities that report some air release: AIR_TOTAL_RELEASE/\\>/0/\n",
        "-   Just Michigan: STATE_ABBR/MI/\n",
        "-   Our counties: COUNTY_NAME/CONTAINING/WAYNE/CONTAINING/OAKLAND/CONTAINING/MACOMB/\n",
        "-   We want it as a csv: CSV\n"
      ]
    },
    {
      "cell_type": "code",
      "execution_count": null,
      "id": "680570e5",
      "metadata": {
        "vscode": {
          "languageId": "python"
        }
      },
      "outputs": [],
      "source": [
        "# Read the CSV file directly with pandas\n",
        "tri_form_r = pd.read_csv(url)\n",
        "print(f\"Successfully read CSV. Number of records: {len(tri_form_r)}\")\n",
        "\n",
        "# Display information about the dataset\n",
        "print(\"\\nColumns in the dataset:\")\n",
        "print(tri_form_r.columns)"
      ]
    },
    {
      "cell_type": "markdown",
      "id": "4e8d8a22",
      "metadata": {},
      "source": [
        "We have roughly the same number of facilities as before, but this table has a lot of columns (568). We should make it more manageable.\n"
      ]
    },
    {
      "cell_type": "code",
      "execution_count": null,
      "id": "15be1968",
      "metadata": {
        "vscode": {
          "languageId": "python"
        }
      },
      "outputs": [],
      "source": [
        "keeps = [\n",
        "    'facility_name', 'street_address', 'city_name',\n",
        "    'reporting_year', 'air_total_release']\n",
        "\n",
        "tri_form_r = tri_form_r[keeps]"
      ]
    },
    {
      "cell_type": "markdown",
      "id": "3a36c8a5",
      "metadata": {},
      "source": [
        "This works well but we can get more recent data that is already filtered using the [web portal](https://enviro.epa.gov/facts/tri/form_ra_download.html). The user selects location, years of interest, and columns of interests. The portal serves up your requested dataset in an Amazon S3 cloud storage. We can important the dataset directly from the address they provide you.\n"
      ]
    },
    {
      "cell_type": "code",
      "execution_count": null,
      "id": "d801e122",
      "metadata": {
        "vscode": {
          "languageId": "python"
        }
      },
      "outputs": [],
      "source": [
        "tri_form_r = pd.read_csv(\"https://dmap-epa-enviro-prod-export.s3.amazonaws.com/396975438.CSV\")\n",
        "\n",
        "# Display information about the dataset\n",
        "print(f\"Successfully read CSV. Number of records: {len(tri_form_r)}\")\n",
        "print(\"\\nColumns in the dataset:\")\n",
        "print(tri_form_r.columns)"
      ]
    },
    {
      "cell_type": "markdown",
      "id": "dca5b3a9",
      "metadata": {},
      "source": [
        "This is a bit more manageable, but we have multiple records per facility because each chemical release has a separate record. This allows the user to investigate specific chemicals, but for the purposes of this exercise we will aggregate `AIR_TOTAL_RELEASE` for each facility.\n"
      ]
    },
    {
      "cell_type": "code",
      "execution_count": null,
      "id": "8559fa2e",
      "metadata": {
        "vscode": {
          "languageId": "python"
        }
      },
      "outputs": [],
      "source": [
        "# Check how it looks (too large to print on the web)\n",
        "# tri_form_r.head"
      ]
    },
    {
      "cell_type": "markdown",
      "id": "d479451e",
      "metadata": {},
      "source": [
        "Let's aggregate it.\n"
      ]
    },
    {
      "cell_type": "code",
      "execution_count": null,
      "id": "8c900f83",
      "metadata": {
        "vscode": {
          "languageId": "python"
        }
      },
      "outputs": [],
      "source": [
        "# Sum across individual facilities\n",
        "tri_form_r = tri_form_r.groupby(['FACILITY_NAME', 'LATITUDE','LONGITUDE','STREET_ADDRESS'], as_index=False).agg({\n",
        "    'AIR_TOTAL_RELEASE': 'sum'\n",
        "})\n",
        "# How many records are there now\n",
        "print(f\"Successfully read CSV. Number of records: {len(tri_form_r)}\")"
      ]
    },
    {
      "cell_type": "markdown",
      "id": "1a1f4cf2",
      "metadata": {},
      "source": [
        "There were only 211 unique listings in the 2023 data.\n",
        "\n",
        "As before, we should check for valid coordinates and release data.\n"
      ]
    },
    {
      "cell_type": "code",
      "execution_count": null,
      "id": "6aa9a927",
      "metadata": {
        "vscode": {
          "languageId": "python"
        }
      },
      "outputs": [],
      "source": [
        "# Assuming the latitude and longitude columns are named 'LATITUDE' and 'LONGITUDE'\n",
        "# Adjust these names if they're different in your CSV\n",
        "lat_col = 'LATITUDE'\n",
        "lon_col = 'LONGITUDE'\n",
        "release_col = 'AIR_TOTAL_RELEASE'  # Adjust this to the actual column name for air releases\n",
        "\n",
        "# Remove records with missing coordinates or air release data\n",
        "df_tri_clean = tri_form_r.dropna(subset=[lat_col, lon_col, release_col])\n",
        "\n",
        "print(f\"\\nNumber of records after removing missing data: {len(df_tri_clean)}\")"
      ]
    },
    {
      "cell_type": "markdown",
      "id": "536fbb67",
      "metadata": {},
      "source": [
        "There were no missing coordinates are release data.\n",
        "\n",
        "Now we can create a spatial object with **GeoPandas** using the latitude and longitude coordinates in the table.\n"
      ]
    },
    {
      "cell_type": "code",
      "execution_count": null,
      "id": "13d1f88a",
      "metadata": {
        "vscode": {
          "languageId": "python"
        }
      },
      "outputs": [],
      "source": [
        "# Create a GeoDataFrame\n",
        "gdf_tri_form_r = gpd.GeoDataFrame(\n",
        "    df_tri_clean, \n",
        "    geometry=gpd.points_from_xy(df_tri_clean[lon_col], df_tri_clean[lat_col]),\n",
        "    crs=\"EPSG:4326\"\n",
        ")"
      ]
    },
    {
      "cell_type": "markdown",
      "id": "48803d9b",
      "metadata": {},
      "source": [
        "Let's check the distribution of the air release data. I suspect there will be outliers.\n"
      ]
    },
    {
      "cell_type": "code",
      "execution_count": null,
      "id": "a0dd2d98",
      "metadata": {
        "vscode": {
          "languageId": "python"
        }
      },
      "outputs": [],
      "source": [
        "# Create the histogram\n",
        "plt.figure(figsize=(8, 8))\n",
        "plt.hist(gdf_tri_form_r['AIR_TOTAL_RELEASE'], bins=10, edgecolor='black')\n",
        "plt.title('Histogram of Air Total Release Sum')\n",
        "plt.xlabel('Air Sum')\n",
        "plt.ylabel('Frequency')\n",
        "plt.grid(True, alpha=0.3)\n",
        "\n",
        "# Show the plot\n",
        "plt.show()"
      ]
    },
    {
      "cell_type": "markdown",
      "id": "fbe42fba",
      "metadata": {},
      "source": [
        "Looks like there are outliers around 100,000 lbs and 400,000 lbs. Before we map the data, it would be a good idea to perform a log transformation of `AIR_TOTAL_RELEASE` to smooth out the visuals. You can't take the log of negative or zero values, so we'll use the `log1p` function, which adds 1 to every value before taking the log.\n"
      ]
    },
    {
      "cell_type": "code",
      "execution_count": null,
      "id": "15554272",
      "metadata": {
        "vscode": {
          "languageId": "python"
        }
      },
      "outputs": [],
      "source": [
        "import numpy as np\n",
        "\n",
        "# Assuming 'result' is your DataFrame from earlier\n",
        "gdf_tri_form_r['LOG_AIR_RELEASE'] = np.log1p(gdf_tri_form_r['AIR_TOTAL_RELEASE'])\n",
        "\n",
        "# Create the histogram\n",
        "plt.figure(figsize=(8, 8))\n",
        "plt.hist(gdf_tri_form_r['LOG_AIR_RELEASE'], bins=10, edgecolor='black')\n",
        "plt.title('Histogram of the Log of Air Total Release Sum')\n",
        "plt.xlabel('Log of Air Sum')\n",
        "plt.ylabel('Frequency')\n",
        "plt.grid(True, alpha=0.3)\n",
        "\n",
        "# Show the plot\n",
        "plt.show()"
      ]
    },
    {
      "cell_type": "markdown",
      "id": "97856415",
      "metadata": {},
      "source": [
        "That looks much better.\n",
        "\n",
        "Now we can visualize the data, by overlaying the points on a basemap of Detroit while using graduated symbols to illustrate the amount of air releases for a given facility.\n"
      ]
    },
    {
      "cell_type": "code",
      "execution_count": null,
      "id": "a01dd8aa",
      "metadata": {
        "vscode": {
          "languageId": "python"
        }
      },
      "outputs": [],
      "source": [
        "# Reproject to Web Mercator to match the basemap\n",
        "gdf_tri_form_r_bm = gdf_tri_form_r.to_crs(epsg=3857)\n",
        "\n",
        "# Create the plot\n",
        "fig, ax = plt.subplots(figsize=(7, 7))\n",
        "\n",
        "# Plot the metro area and bounding box (reusing objects from earlier)\n",
        "detroit_metro_bm.plot(ax=ax, facecolor='none', edgecolor='blue', linewidth=2)\n",
        "bbox_polygon_bm.boundary.plot(ax=ax, color='#315c86', linewidth=2)\n",
        "\n",
        "# Plot TRI facilities with graduated symbols based on air releases\n",
        "scatter = ax.scatter(gdf_tri_form_r_bm.geometry.x, gdf_tri_form_r_bm.geometry.y, \n",
        "                     s=gdf_tri_form_r_bm['LOG_AIR_RELEASE']*20,  # Adjust the scaling factor as needed\n",
        "                     c='orangered',  # Static fill color\n",
        "                     edgecolor='yellow',  # Outline color\n",
        "                     linewidth=1,  # Adjust the outline width as needed\n",
        "                     alpha=0.7)\n",
        "\n",
        "# Add the basemap\n",
        "ctx.add_basemap(ax, source=ctx.providers.OpenStreetMap.Mapnik)\n",
        "\n",
        "# Set the extent of the map to the bounding box\n",
        "ax.set_xlim(bbox_polygon_bm.total_bounds[0], bbox_polygon_bm.total_bounds[2])\n",
        "ax.set_ylim(bbox_polygon_bm.total_bounds[1], bbox_polygon_bm.total_bounds[3])\n",
        "\n",
        "# Remove axes\n",
        "ax.set_axis_off()\n",
        "\n",
        "# Add a legend for symbol sizes\n",
        "legend_sizes = [0,4,8,12]  # Example sizes, adjust based on your data\n",
        "legend_elements = [plt.scatter([], [], s=size*20, c='orangered', edgecolor='yellow', \n",
        "                               linewidth=1, alpha=1, label=f'{size:,}') \n",
        "                   for size in legend_sizes]\n",
        "ax.legend(handles=legend_elements, title='Log Total Air Releases (lbs)', \n",
        "          loc='lower right', title_fontsize=12, fontsize=10)\n",
        "\n",
        "plt.title(\"Detroit Metro Area TRI Facilities - Total Air Releases (Custom Data)\", fontsize=16)\n",
        "plt.tight_layout()\n",
        "plt.show()\n",
        "\n",
        "print(f\"\\nNumber of TRI facilities plotted: {len(gdf_tri_form_r)}\")\n",
        "print(f\"Total air releases: {gdf_tri_form_r[release_col].sum():,.2f} lbs\")\n",
        "print(f\"Average air release per facility: {gdf_tri_form_r[release_col].mean():,.2f} lbs\")"
      ]
    },
    {
      "cell_type": "markdown",
      "id": "94bc346c",
      "metadata": {},
      "source": [
        "The point source air release data provides a good snapshot of the locations and relative amounts of chemical releases. With some basic understanding of the demographic dynamics of Detroit one might theorize who is being subjected to high levels of pollution, however, we'll need additional data to develop any type of systematic analysis.\n",
        "\n",
        "::: {.callout-tip style=\"color: #9f0b64;\"}\n",
        "#### Knowledge Check\n",
        "\n",
        "What key information does Form R of the Toxic Release Inventory provide?\n",
        "\n",
        "a) Facility names and locations only\n",
        "b) Chemical storage capacities of facilities\n",
        "c) Detailed data on chemical releases, including air releases\n",
        "d) Employee health records related to chemical exposure\n",
        ":::\n",
        "\n",
        "### Social Vulnerability Index\n",
        "\n",
        "NASA's Social Vulnerability Index (SVI) raster dataset, available through the Socioeconomic Data and Applications Center (SEDAC), is a high-resolution geospatial resource that quantifies social vulnerability across the United States. This dataset is based on the CDC's Social Vulnerability Index but is presented in a raster format, providing continuous coverage at a 250-meter resolution. The SVI incorporates various socioeconomic and demographic factors such as poverty, lack of vehicle access, crowded housing, and minority status to assess communities' capacity to prepare for, respond to, and recover from hazards, including environmental threats like poor air quality.\n",
        "\n",
        "The raster format allows for more detailed spatial analysis and integration with other environmental datasets. This makes it particularly valuable for researchers and policymakers studying the intersection of social vulnerability and environmental risks, such as air pollution exposure. By overlaying this SVI data with air quality information, for instance, analysts can identify areas where socially vulnerable populations may be disproportionately affected by poor air quality, supporting environmental justice initiatives and targeted intervention strategies.\n",
        "\n",
        "SEDAC, as part of NASA's Earth Observing System Data and Information System (EOSDIS), hosts this dataset along with other socioeconomic and environmental data, facilitating interdisciplinary research on human-environment interactions. The SVI raster dataset's high resolution and comprehensive coverage make it a powerful tool for assessing environmental equity and informing policy decisions at various geographic scales.\n",
        "\n",
        "Although the SVI dataset is free to acquire, it does require an Earth Data account. If you don't already have an Earth Data account you can follow these steps to download the SVI dataset on your local computer:\n",
        "\n",
        "1.  Visit the NASA Earthdata website: Go to https://urs.earthdata.nasa.gov/ Click on \"Register\": Look for the \"Register\" button on the top right corner of the page.\n",
        "2.  Fill out the registration form: Provide the required information, including your name, email address, and a password. You'll also need to create a username.\n",
        "3.  Verify your email: NASA will send a verification email to the address you provided. Click on the link in this email to confirm your account.\n",
        "4.  Log in to Earth Data: Once your account is verified, you can log in using your username and password.\n",
        "5.  Access SEDAC: Visit the SEDAC website (https://sedac.ciesin.columbia.edu/) and use your Earth Data credentials to log in when prompted.\n",
        "6.  Download the data: Once you've found the SVI dataset, you can use your Earth Data account to download it.\n",
        "\n",
        "Remember, your Earth Data account gives you access not just to SEDAC, but to a wide range of NASA Earth science data. It's a valuable resource for researchers, students, and anyone interested in environmental and socioeconomic data.\n",
        "\n",
        "#### Data Processing\n",
        "\n",
        "Once you've downloaded the dataset to your working directory, you can proceed with the analysis. We'll be using the 2020 census tract version of SVI.\n",
        "\n",
        "The different layers of SVI are provided as individual files, but sometimes it's easier to work with a multilayer object. We can create one using **xarray**. To begin, we'll read in each file individually, clip it to our border of Detroit metro, and create an individual data array.\n"
      ]
    },
    {
      "cell_type": "code",
      "execution_count": null,
      "id": "2f049f25",
      "metadata": {
        "vscode": {
          "languageId": "python"
        }
      },
      "outputs": [],
      "source": [
        "import xarray as xr\n",
        "import rasterio\n",
        "import rasterio.mask\n",
        "\n",
        "xr.set_options(\n",
        "    keep_attrs=True,\n",
        "    display_expand_attrs=True,\n",
        "    display_expand_coords=True,\n",
        "    display_expand_data=False,\n",
        "    display_expand_data_vars=True\n",
        ")\n",
        "\n",
        "# Specify the TIF files\n",
        "tif_files = [\n",
        "    \"data/svi/svi_2020_tract_overall_wgs84.tif\",\n",
        "    \"data/svi/svi_2020_tract_minority_wgs84.tif\",\n",
        "    \"data/svi/svi_2020_tract_socioeconomic_wgs84.tif\",\n",
        "    \"data/svi/svi_2020_tract_housing_wgs84.tif\",\n",
        "    \"data/svi/svi_2020_tract_household_wgs84.tif\"\n",
        "]\n",
        "\n",
        "# Create an empty list to store the individual DataArrays\n",
        "data_arrays = []\n",
        "\n",
        "# Read each TIF file, clip it to Detroit metro's extent, and append it to the list\n",
        "for file in tif_files:\n",
        "    with rasterio.open(file) as src:\n",
        "        # Reproject Detroit metro boundary to match the raster CRS\n",
        "        metro_reprojected = detroit_metro.to_crs(src.crs)\n",
        "        \n",
        "        # Clip the raster to Detroit metro's geometry\n",
        "        out_image, out_transform = rasterio.mask.mask(src, metro_reprojected.geometry, crop=True)\n",
        "        out_meta = src.meta.copy()\n",
        "        \n",
        "        # Update the metadata\n",
        "        out_meta.update({\"driver\": \"GTiff\",\n",
        "                         \"height\": out_image.shape[1],\n",
        "                         \"width\": out_image.shape[2],\n",
        "                         \"transform\": out_transform})\n",
        "        \n",
        "        # Create coordinates\n",
        "        height = out_meta['height']\n",
        "        width = out_meta['width']\n",
        "        cols, rows = np.meshgrid(np.arange(width), np.arange(height))\n",
        "        xs, ys = rasterio.transform.xy(out_transform, rows, cols)\n",
        "        \n",
        "        # Convert lists to numpy arrays\n",
        "        xs = np.array(xs)\n",
        "        ys = np.array(ys)\n",
        "        \n",
        "        # Reshape coordinates to match dimensions of the raster\n",
        "        xs = xs.reshape(height, width)\n",
        "        ys = ys.reshape(height, width)\n",
        "        \n",
        "        # Create a DataArray from the clipped data\n",
        "        da = xr.DataArray(out_image[0],  # Use the first band\n",
        "                          coords={'y': ('y', ys[:, 0]),\n",
        "                                  'x': ('x', xs[0, :])},\n",
        "                          dims=['y', 'x'])\n",
        "        da.attrs['crs'] = str(src.crs)  # Convert CRS to string\n",
        "        da.attrs['transform'] = out_transform\n",
        "        data_arrays.append(da)"
      ]
    },
    {
      "cell_type": "markdown",
      "id": "be5f5f85",
      "metadata": {},
      "source": [
        "Now we can combine them together and give the layers \"pretty\" names.\n"
      ]
    },
    {
      "cell_type": "code",
      "execution_count": null,
      "id": "44ea1b1e",
      "metadata": {
        "vscode": {
          "languageId": "python"
        }
      },
      "outputs": [],
      "source": [
        "# Combine all DataArrays into a single DataSet\n",
        "svi_detroit = xr.concat(data_arrays, dim='layer')\n",
        "\n",
        "# Rename the layers\n",
        "layer_names = ['Overall', 'Minority', 'Socioeconomic', 'Housing', 'Household']\n",
        "svi_detroit = svi_detroit.assign_coords(layer=('layer', layer_names))\n",
        "svi_detroit"
      ]
    },
    {
      "cell_type": "markdown",
      "id": "2cb0d602",
      "metadata": {},
      "source": [
        "Now we can plot each layer.\n"
      ]
    },
    {
      "cell_type": "code",
      "execution_count": null,
      "id": "53b25dec",
      "metadata": {
        "vscode": {
          "languageId": "python"
        }
      },
      "outputs": [],
      "source": [
        "# Define the colorbar limits (SVI is a 0-1 scale)\n",
        "vmin, vmax = 0, 1\n",
        "\n",
        "# Create a multipanel plot\n",
        "fig, axes = plt.subplots(3, 2, figsize=(8, 10))\n",
        "axes = axes.flatten()\n",
        "\n",
        "# Plot each layer\n",
        "for i, layer in enumerate(svi_detroit.layer.values):\n",
        "    # Plot with custom color limits\n",
        "    im = svi_detroit.sel(layer=layer).plot(ax=axes[i], add_colorbar=False, vmin=vmin, vmax=vmax, cmap='plasma')\n",
        "    axes[i].set_title(layer)\n",
        "    # Remove axes and labels\n",
        "    axes[i].axis('off')\n",
        "    \n",
        "    # Plot Detroit metro boundary\n",
        "    metro_reprojected.boundary.plot(ax=axes[i], color='red', linewidth=1)\n",
        "\n",
        "# Remove the extra subplot\n",
        "fig.delaxes(axes[5])\n",
        "\n",
        "# Add a single colorbar\n",
        "cbar_ax = fig.add_axes([0.92, 0.15, 0.02, 0.7])\n",
        "cbar = fig.colorbar(im, cax=cbar_ax, label='SVI Score', \n",
        "                    fraction=0.047, pad=0.04, aspect=20)\n",
        "\n",
        "plt.tight_layout()\n",
        "plt.show()"
      ]
    },
    {
      "cell_type": "markdown",
      "id": "4bfd9fdf",
      "metadata": {},
      "source": [
        "This provides an excellent look at demographic trends in the Detroit metro area. Overall vulnerability is highest in the inner city. The most striking drivers are the concentration of minorities and socioeconomic vulnerability in the downtown area. The housing and household components are slightly more varied throughout the region.\n",
        "\n",
        "::: {.callout-tip style=\"color: #9f0b64;\"}\n",
        "#### Knowledge Check\n",
        "\n",
        "What does the Social Vulnerability Index (SVI) primarily measure?\n",
        "\n",
        "a) Air pollution levels in different communities\n",
        "b) Economic growth rates of different regions\n",
        "c) Communities' capacity to prepare for and respond to hazards\n",
        "d) Population density in urban areas\n",
        ":::\n",
        "\n",
        "### Integrating TRI and SVI\n",
        "\n",
        "There are numerous ways to assess the reationships between the SVI and TRI data. For this lesson we'll identify areas where air releases and vulnerability are highest together by creating a new rasterized index that combines both layers.\n",
        "\n",
        "To begin we need to rasterize the air release point data. We will create an empty raster grid and \"fill\" the cells with the **sum** of the air release values from any points the are overlapped by the cells.\n",
        "\n",
        "Start by getting the bounds from our boundary object, specify the desired resolution, and set up the transform.\n"
      ]
    },
    {
      "cell_type": "code",
      "execution_count": null,
      "id": "b2201642",
      "metadata": {
        "vscode": {
          "languageId": "python"
        }
      },
      "outputs": [],
      "source": [
        "from rasterio.transform import from_origin\n",
        "\n",
        "# Get the bounds of the Detroit metro area\n",
        "minx, miny, maxx, maxy = detroit_metro_bm.total_bounds\n",
        "\n",
        "# Define the resolution (1km/1000m) to match SVI\n",
        "resolution = 5000\n",
        "\n",
        "# Calculate the number of cells\n",
        "nx = int((maxx - minx) / resolution)\n",
        "ny = int((maxy - miny) / resolution)\n",
        "\n",
        "# Create the transform for the raster\n",
        "transform = from_origin(minx, maxy, resolution, resolution)"
      ]
    },
    {
      "cell_type": "markdown",
      "id": "61acaf83",
      "metadata": {},
      "source": [
        "Now we have to prepare the point values and rasterize them. A key thing to note here is the `merge_alg=rasterio.enums.MergeAlg.add` argument passed to the rasterize function. This makes sure that cells with more than 1 point will add the values together (the default is to simply replace).\n"
      ]
    },
    {
      "cell_type": "code",
      "execution_count": null,
      "id": "e9cf33eb",
      "metadata": {
        "vscode": {
          "languageId": "python"
        }
      },
      "outputs": [],
      "source": [
        "from rasterio import features\n",
        "\n",
        "# Prepare geometries and values for rasterization\n",
        "shapes = ((geom, value) for geom, value in zip(gdf_tri_form_r_bm.geometry, gdf_tri_form_r_bm.AIR_TOTAL_RELEASE))\n",
        "\n",
        "# Rasterize the point data\n",
        "air_release_raster = features.rasterize(shapes=shapes, \n",
        "                            out_shape=(ny, nx), \n",
        "                            transform=transform, \n",
        "                            fill=0, \n",
        "                            all_touched=True, \n",
        "                            merge_alg=rasterio.enums.MergeAlg.add)"
      ]
    },
    {
      "cell_type": "markdown",
      "id": "24324cac",
      "metadata": {},
      "source": [
        "We rasterized with **rasterio**, but we need to convert this to an **xarray** object to continue and we need **rioxarray** to write the crs information for the **xarray** object.\n"
      ]
    },
    {
      "cell_type": "code",
      "execution_count": null,
      "id": "36bcfddd",
      "metadata": {
        "vscode": {
          "languageId": "python"
        }
      },
      "outputs": [],
      "source": [
        "import rioxarray\n",
        "\n",
        "# Convert the raster to an xarray DataArray\n",
        "# Note: We use ny and nx here to ensure the coordinates match the raster shape\n",
        "air_release_raster_da = xr.DataArray(air_release_raster, \n",
        "                         coords={'y': np.linspace(maxy, miny, ny),\n",
        "                                 'x': np.linspace(minx, maxx, nx)},\n",
        "                         dims=['y', 'x'])\n",
        "air_release_raster_da.rio.write_crs(detroit_metro_bm.crs, inplace=True)"
      ]
    },
    {
      "cell_type": "markdown",
      "id": "54a13f80",
      "metadata": {},
      "source": [
        "The spaces between county borders can create odd values because there are no points right next to each other. We can clip the raster to our Detroit boundary to fix this.\n"
      ]
    },
    {
      "cell_type": "code",
      "execution_count": null,
      "id": "8b5567b7",
      "metadata": {
        "vscode": {
          "languageId": "python"
        }
      },
      "outputs": [],
      "source": [
        "# Clip the raster with the Detroit metro boundary\n",
        "air_release_raster_da = air_release_raster_da.rio.clip(\n",
        "    detroit_metro_bm.geometry.values, \n",
        "    detroit_metro_bm.crs, \n",
        "    drop=False, all_touched=True)"
      ]
    },
    {
      "cell_type": "markdown",
      "id": "64c89bcd",
      "metadata": {},
      "source": [
        "Now we can see how our rasterized air release values look.\n"
      ]
    },
    {
      "cell_type": "code",
      "execution_count": null,
      "id": "bf1a859a",
      "metadata": {
        "vscode": {
          "languageId": "python"
        }
      },
      "outputs": [],
      "source": [
        "from matplotlib.colors import BoundaryNorm, ListedColormap\n",
        "\n",
        "# Define the breaks for the discrete scale\n",
        "breaks = [0, 1, 10, 100, 1000, 10000, 100000, 250000, 500000]\n",
        "\n",
        "# Create a custom colormap\n",
        "colors = ['#fffff3', '#FFFFCC', '#FFEDA0', '#FED976', '#FEB24C', '#FD8D3C', '#FC4E2A', '#E31A1C', '#B10026']\n",
        "cmap = ListedColormap(colors)\n",
        "\n",
        "# Create a normalization based on the breaks\n",
        "norm = BoundaryNorm(breaks, cmap.N)\n",
        "\n",
        "# Create the plot\n",
        "fig, ax = plt.subplots(figsize=(7, 7))\n",
        "\n",
        "# Plot the TRI facility points\n",
        "gdf_tri_form_r_bm.plot(ax=ax, color='blue', markersize=10, alpha=0.7)\n",
        "\n",
        "# Plot the clipped raster with the custom colormap and norm\n",
        "im = ax.imshow(air_release_raster_da, extent=[minx, maxx, miny, maxy], origin='upper', \n",
        "               cmap=cmap, norm=norm)\n",
        "\n",
        "# Add colorbar with discrete labels\n",
        "cbar = plt.colorbar(im, ax=ax, extend='max', \n",
        "                    label='Total Air Releases (pounds)', \n",
        "                    ticks=breaks, \n",
        "                    fraction=0.047, pad=0.04, aspect=20)\n",
        "cbar.ax.set_yticklabels([f'{b:,}' for b in breaks])\n",
        "\n",
        "# Plot the Detroit metro boundary\n",
        "detroit_metro_bm.boundary.plot(ax=ax, color='black', linewidth=2)\n",
        "\n",
        "# Set the extent to match the Detroit metro area\n",
        "ax.set_xlim(minx, maxx)\n",
        "ax.set_ylim(miny, maxy)\n",
        "\n",
        "# Add title and labels\n",
        "ax.set_title('TRI Air Total Release (100m resolution sum) with Facility Locations', fontsize=16)\n",
        "ax.set_xlabel('X Coordinate')\n",
        "ax.set_ylabel('Y Coordinate')\n",
        "\n",
        "plt.tight_layout()\n",
        "plt.show()\n",
        "\n",
        "print(f\"Number of TRI facilities plotted: {len(gdf_tri_form_r_bm)}\")\n",
        "print(f\"Total air releases: {gdf_tri_form_r_bm['AIR_TOTAL_RELEASE'].sum():,.2f}\")\n",
        "print(f\"Maximum cell value in raster: {air_release_raster_da.max().values:,.2f}\")"
      ]
    },
    {
      "cell_type": "markdown",
      "id": "eb44580c",
      "metadata": {},
      "source": [
        "The raster looks as expected with the highest values in locations where our previous map had the largest circles. We overlayed the points to see the sources of the values. The cell resolution is set to 5000m. This was selected so we can evaluate the map and the process we used to create the raster, but any value could be set depending on the intended use.\n",
        "\n",
        "#### Air Release Vulnerability Index\n",
        "\n",
        "Now that we've created our air release raster layer we can combine it with the SVI raster to create a new index identifying areas with the highest combination of air releases and vulnerability.\n",
        "\n",
        "Start by selecting just the SVI Overall layer and converting it to a **rioxarray** object so we can perform raster calculations. We'll also ensure the 2 raster layers \"line up\" by reprojecting into the same coordinate reference system and matching their resolutions.\n"
      ]
    },
    {
      "cell_type": "code",
      "execution_count": null,
      "id": "44718a5e",
      "metadata": {
        "vscode": {
          "languageId": "python"
        }
      },
      "outputs": [],
      "source": [
        "from rasterio.enums import Resampling\n",
        "\n",
        "# Select the 'Overall' layer\n",
        "svi_overall = svi_detroit.sel(layer='Overall')\n",
        "\n",
        "# Convert to rioxarray for geospatial operations\n",
        "svi_overall = svi_overall.rio.write_crs(\"EPSG:4326\")\n",
        "\n",
        "# Reproject SVI to match the CRS of the air release raster\n",
        "svi_reprojected = svi_overall.rio.reproject_match(air_release_raster_da)\n",
        "\n",
        "# Disaggregate the air release data to match the resolution of the SVI data\n",
        "air_release_disaggregated = svi_reprojected.rio.reproject_match(\n",
        "    svi_reprojected,\n",
        "    resampling=Resampling.bilinear\n",
        ")"
      ]
    },
    {
      "cell_type": "markdown",
      "id": "eca274f5",
      "metadata": {},
      "source": [
        "There are a few more steps that will aid in interpretation.\n",
        "\n",
        "1.  We will take the log of the air release data to reduce the impact of major outliers.\n",
        "2.  We will scale the logged air release data to 0-1 to match the SVI data. Now the resulting index we create will have equal contributions from both datasets.\n"
      ]
    },
    {
      "cell_type": "code",
      "execution_count": null,
      "id": "f8805ac8",
      "metadata": {
        "vscode": {
          "languageId": "python"
        }
      },
      "outputs": [],
      "source": [
        "# Log1p transform the air release data and scale to 0-1\n",
        "air_release_log = np.log1p(air_release_disaggregated)\n",
        "air_release_scaled = (air_release_log - air_release_log.min()) / (air_release_log.max() - air_release_log.min())\n",
        "\n",
        "# Multiply scaled air release data with SVI data\n",
        "vulnerability_indicator = air_release_scaled * svi_reprojected"
      ]
    },
    {
      "cell_type": "markdown",
      "id": "a06bf39e",
      "metadata": {},
      "source": [
        "Now let's visualize our index along with the inputs.\n"
      ]
    },
    {
      "cell_type": "code",
      "execution_count": null,
      "id": "fc6d106c",
      "metadata": {
        "vscode": {
          "languageId": "python"
        }
      },
      "outputs": [],
      "source": [
        "# Create the plots\n",
        "fig, axs = plt.subplots(3, 1, figsize=(8, 20))\n",
        "\n",
        "# Plot SVI Overall\n",
        "im1 = svi_reprojected.plot(ax=axs[0], cmap='viridis', vmin=0, vmax=1, add_colorbar=False)\n",
        "plt.colorbar(im1, ax=axs[0], label='SVI Overall', \n",
        "                    fraction=0.047, pad=0.04, aspect=20)\n",
        "axs[0].set_title('Social Vulnerability Index (Overall)', fontsize=16)\n",
        "detroit_metro.boundary.plot(ax=axs[0], color='black', linewidth=2)\n",
        "\n",
        "# Plot Original Air Release (log-transformed for better visualization)\n",
        "im2 = np.log1p(air_release_disaggregated).plot(ax=axs[1], cmap='YlOrRd', add_colorbar=False)\n",
        "plt.colorbar(im2, ax=axs[1], label='Log(Air Release + 1)', \n",
        "                    fraction=0.047, pad=0.04, aspect=20)\n",
        "axs[1].set_title('Air Release (Log-transformed)', fontsize=16)\n",
        "detroit_metro.boundary.plot(ax=axs[1], color='black', linewidth=2)\n",
        "\n",
        "# Plot Air Release Vulnerability Indicator\n",
        "im3 = vulnerability_indicator.plot(ax=axs[2], cmap='YlOrRd', vmin=0, vmax=1, add_colorbar=False)\n",
        "plt.colorbar(im3, ax=axs[2], label='Air Release Vulnerability Indicator', \n",
        "                    fraction=0.047, pad=0.04, aspect=20)\n",
        "axs[2].set_title('Air Release Vulnerability Indicator\\n(Scaled Air Release * SVI)', fontsize=16)\n",
        "detroit_metro.boundary.plot(ax=axs[2], color='black', linewidth=2)\n",
        "\n",
        "for ax in axs:\n",
        "    ax.set_xlabel('Longitude')\n",
        "    ax.set_ylabel('Latitude')\n",
        "    ax.set_xlim(svi_reprojected.x.min(), svi_reprojected.x.max())\n",
        "    ax.set_ylim(svi_reprojected.y.min(), svi_reprojected.y.max())\n",
        "\n",
        "plt.tight_layout()\n",
        "plt.show()\n",
        "\n",
        "# Print some statistics\n",
        "print(f\"Maximum vulnerability indicator: {vulnerability_indicator.max().values:.4f}\")"
      ]
    },
    {
      "cell_type": "markdown",
      "id": "9d136c8d",
      "metadata": {},
      "source": [
        "As one would expect, there are several areas in the downtown river corridor with very high combinations of SVI and TRI releases. The maximum score for our index is 0.9286! That is an extremely vulnerable community facing extraordinary levels of air pollution.\n",
        "\n",
        "We can get a better sense of where these communities are by extracting the location of the cells with the highest scores and placing them on a basemap of Detroit.\n",
        "\n",
        "We'll convert the raster into a data frame, sort the values in descending order, and then extract the coordinates.\n"
      ]
    },
    {
      "cell_type": "code",
      "execution_count": null,
      "id": "e67d7a48",
      "metadata": {
        "vscode": {
          "languageId": "python"
        }
      },
      "outputs": [],
      "source": [
        "# Convert the vulnerability indicator to a pandas DataFrame\n",
        "vulnerability_df = vulnerability_indicator.to_dataframe(name='index').reset_index()\n",
        "\n",
        "# Sort by index value and get the top 10\n",
        "top_10 = vulnerability_df.sort_values('index', ascending=False).head(10)\n",
        "\n",
        "# Create points from the coordinates\n",
        "top_10['geometry'] = gpd.points_from_xy(top_10.x, top_10.y)\n",
        "top_10_gdf = gpd.GeoDataFrame(top_10, geometry='geometry', crs=vulnerability_indicator.rio.crs)"
      ]
    },
    {
      "cell_type": "markdown",
      "id": "c9e33aa8",
      "metadata": {},
      "source": [
        "Now let's make a map.\n"
      ]
    },
    {
      "cell_type": "code",
      "execution_count": null,
      "id": "8f0f4d8f",
      "metadata": {
        "vscode": {
          "languageId": "python"
        }
      },
      "outputs": [],
      "source": [
        "# Create the final map\n",
        "fig, ax = plt.subplots(figsize=(8, 8))\n",
        "\n",
        "# Plot the Detroit metro boundary\n",
        "detroit_metro_bm.boundary.plot(ax=ax, color='black', linewidth=2)\n",
        "\n",
        "# Plot the top 10 points\n",
        "top_10_gdf.plot(ax=ax, color='blue', markersize=100, alpha=0.7)\n",
        "\n",
        "# Add labels to the points\n",
        "for idx, row in top_10_gdf.iterrows():\n",
        "    ax.annotate(f\"#{idx+1}\", (row.geometry.x, row.geometry.y), \n",
        "                xytext=(3, 3), textcoords=\"offset points\", \n",
        "                color='black', fontweight='bold')\n",
        "\n",
        "# Add a basemap\n",
        "ctx.add_basemap(ax, crs=vulnerability_indicator.rio.crs.to_string(), source=ctx.providers.OpenStreetMap.Mapnik)\n",
        "\n",
        "# Add a border to the map\n",
        "bbox_polygon_bm.boundary.plot(ax=ax, color='#315c86', linewidth=3)\n",
        "\n",
        "# Set the extent to match the Detroit metro area\n",
        "ax.set_xlim(vulnerability_indicator.x.min(), vulnerability_indicator.x.max())\n",
        "ax.set_ylim(vulnerability_indicator.y.min(), vulnerability_indicator.y.max())\n",
        "\n",
        "ax.set_title('Top 10 Areas with Highest Air Release Vulnerability Index', fontsize=16)\n",
        "ax.set_axis_off()\n",
        "\n",
        "plt.tight_layout()\n",
        "plt.show()\n",
        "\n",
        "# Print the row index and index value of the top 10 points\n",
        "print(\"Row index and index value of the top 10 points:\")\n",
        "for i, (idx, row) in enumerate(top_10_gdf.iterrows(), 1):\n",
        "    print(f\"Row index = {idx}, Index value = {round(row['index'], 2)}\")"
      ]
    },
    {
      "cell_type": "markdown",
      "id": "923542db",
      "metadata": {},
      "source": [
        "As you would expect looking at the input layers, the most vulnerable and polluted areas are along the river coridor in Loncoln Park, Melvindale, Mexicantown, and River Rouge. There are multiple locations with indexes greater than 0.70. Information like this can be valuable for targeted relief or mitigation programs.\n",
        "\n",
        "::: {.callout-tip style=\"color: #9f0b64;\"}\n",
        "#### Knowledge Check\n",
        "\n",
        "What was the main purpose of combining the TRI and SVI data in this analysis?\n",
        "\n",
        "a) To calculate total pollution levels for each county\n",
        "b) To identify areas with both high air releases and high social vulnerability\n",
        "c) To determine the most populous areas in Detroit\n",
        "d) To predict future industrial development zones\n",
        ":::\n",
        "\n",
        "### CDC PLACES\n",
        "\n",
        "The CDC PLACES (Population Level Analysis and Community Estimates) dataset is a collaboration between the Centers for Disease Control and Prevention (CDC), the Robert Wood Johnson Foundation, and the CDC Foundation. It provides model-based population-level analysis and community estimates of health indicators for all counties, places (incorporated and census designated places), census tracts, and ZIP Code Tabulation Areas (ZCTAs) across the United States. Some key points to consider when working with CDC PLACES:\n",
        "\n",
        "1.  **Spatial Extent:** Entire United States, including all 50 states, the District of Columbia, and Puerto Rico.\n",
        "2.  **Spatial Resolution:** Multiple levels including counties, cities/towns, census tracts, and ZIP codes.\n",
        "3.  **Indicators:** Wide range of chronic disease measures related to health outcomes, prevention, and health risk behaviors.\n",
        "4.  **Data Sources:**\n",
        "    -   Behavioral Risk Factor Surveillance System (BRFSS)\n",
        "    -   U.S. Census Bureau's American Community Survey (ACS)\n",
        "5.  **Methodology:** Uses small area estimation methods for small geographic areas.\n",
        "6.  **Health Measures Include:**\n",
        "    -   Chronic diseases: e.g., asthma, COPD, heart disease, diabetes\n",
        "    -   Health risk behaviors: e.g., smoking, physical inactivity, binge drinking\n",
        "    -   Prevention practices: e.g., health insurance coverage, dental visits, cholesterol screening\n",
        "7.  **Socioeconomic Data:** Includes some socioeconomic and demographic variables.\n",
        "8.  **Annual Updates:** Providing recent estimates for local areas.\n",
        "\n",
        "This dataset is valuable for public health researchers, policymakers, and community organizations. It provides a standardized way to compare health indicators across different geographic areas and can be used to inform targeted interventions and policy decisions, especially in addressing health disparities at a local level.\n",
        "\n",
        "As with ICIS-AIR and TRI, PLACES is available through a web search interface and a programmatic API. We will focus on the API in this example.\n",
        "\n",
        "#### Processing\n",
        "\n",
        "We'll start by accessing the CDC PLACES data through their API and processing it for our analysis. First we set up our API request. We specify the endpoint URL, define our target counties, and create a filter to select data only for these counties in Michigan.\n"
      ]
    },
    {
      "cell_type": "code",
      "execution_count": null,
      "id": "621c2c82",
      "metadata": {
        "vscode": {
          "languageId": "python"
        }
      },
      "outputs": [],
      "source": [
        "# Define the GeoJSON API endpoint\n",
        "url = \"https://data.cdc.gov/resource/cwsq-ngmh.geojson\"\n",
        "\n",
        "# Define the Detroit metro area counties\n",
        "detroit_counties = ['Wayne', 'Oakland', 'Macomb']\n",
        "\n",
        "# Create the county filter string\n",
        "county_filter = \" OR \".join([f\"countyname = '{county}'\" for county in detroit_counties])\n",
        "\n",
        "# Define the query parameters\n",
        "params = {\n",
        "    \"$where\": f\"stateabbr = 'MI' AND ({county_filter})\",\n",
        "    \"$limit\": 50000  # Adjust if necessary\n",
        "}"
      ]
    },
    {
      "cell_type": "markdown",
      "id": "10ce660b",
      "metadata": {},
      "source": [
        "Next, let's make the API request and process the response:\n"
      ]
    },
    {
      "cell_type": "code",
      "execution_count": null,
      "id": "433db1b0",
      "metadata": {
        "vscode": {
          "languageId": "python"
        }
      },
      "outputs": [],
      "source": [
        "# Make the API request\n",
        "response = requests.get(url, params=params)\n",
        "\n",
        "if response.status_code == 200:\n",
        "    data = response.json()\n",
        "    print(f\"Successfully retrieved data\")\n",
        "else:\n",
        "    print(f\"Failed to retrieve data. Status code: {response.status_code}\")\n",
        "    print(response.text)\n",
        "\n",
        "# Convert to GeoDataFrame\n",
        "gdf = gpd.read_file(response.text)"
      ]
    },
    {
      "cell_type": "markdown",
      "id": "b0cafb89",
      "metadata": {},
      "source": [
        "You can inspect the `gdf` return object on your own; it's too large to print here. Let's just take a look at the available health measures in CDC PLACES.\n"
      ]
    },
    {
      "cell_type": "code",
      "execution_count": null,
      "id": "4888d8b5",
      "metadata": {
        "vscode": {
          "languageId": "python"
        }
      },
      "outputs": [],
      "source": [
        "# Print available health measures\n",
        "print(\"\\nAvailable health measures:\")\n",
        "print(gdf['measure'].unique())\n",
        "\n",
        "# Print basic information about the GeoDataFrame\n",
        "print(\"\\nGeoDataFrame Info:\")\n",
        "print(gdf.info())"
      ]
    },
    {
      "cell_type": "markdown",
      "id": "f1606c0e",
      "metadata": {},
      "source": [
        "There's a lot of great data here considering the rarity of health outcomes data; especially at this resolution (census tracts). Because we're dealing with air quality in this lesson we'll use \"Current asthma among adults.\"\n",
        "\n",
        "Let's make a quick map to see how it looks.\n"
      ]
    },
    {
      "cell_type": "code",
      "execution_count": null,
      "id": "426968c0",
      "metadata": {
        "vscode": {
          "languageId": "python"
        }
      },
      "outputs": [],
      "source": [
        "# Create a sample map for one health measure (e.g., Current asthma)\n",
        "fig, ax = plt.subplots(figsize=(7, 7))\n",
        "\n",
        "# Filter for the specific measure and ensure data_value is numeric\n",
        "gdf_asthma = gdf[gdf['measure'] == 'Current asthma among adults'].copy()\n",
        "gdf_asthma['data_value'] = pd.to_numeric(gdf_asthma['data_value'], errors='coerce')\n",
        "\n",
        "# Plot the asthma data\n",
        "gdf_asthma.plot(column='data_value', \n",
        "                ax=ax, \n",
        "                legend=True, \n",
        "                legend_kwds={'label': 'Asthma Prevalence (%)', 'orientation': 'horizontal'},\n",
        "                cmap='YlOrRd',\n",
        "                missing_kwds={'color': 'lightgrey'})\n",
        "\n",
        "# Add basemap\n",
        "ctx.add_basemap(ax, crs=gdf_asthma.crs.to_string(), source=ctx.providers.OpenStreetMap.Mapnik)\n",
        "\n",
        "# Add a border to the map\n",
        "bbox_polygon_bm.boundary.plot(ax=ax, color='#315c86', linewidth=3)\n",
        "\n",
        "# Set the extent to match the Detroit metro area\n",
        "ax.set_xlim(gdf_asthma.total_bounds[0], gdf_asthma.total_bounds[2])\n",
        "ax.set_ylim(gdf_asthma.total_bounds[1], gdf_asthma.total_bounds[3])\n",
        "\n",
        "plt.title('Asthma Prevalence in Detroit Metro Area', fontsize=16)\n",
        "ax.axis('off')\n",
        "\n",
        "plt.tight_layout()\n",
        "plt.show()"
      ]
    },
    {
      "cell_type": "markdown",
      "id": "3a334a9e",
      "metadata": {},
      "source": [
        "If you hadn't already noticed while inspecting the object we returned from the API, the census tract data are actually centroid points--not census tract boundaries. \n",
        "\n",
        "We created a choropleth map showing asthma prevalence across the Detroit metro area. With the `YlOrRd` colormap darker red indicates higher asthma prevalence.\n",
        "\n",
        "Finally, let's print some statistics about the asthma data:\n"
      ]
    },
    {
      "cell_type": "code",
      "execution_count": null,
      "id": "7ec470a8",
      "metadata": {
        "vscode": {
          "languageId": "python"
        }
      },
      "outputs": [],
      "source": [
        "# Print some statistics for the asthma data\n",
        "print(\"\\nAsthma Statistics:\")\n",
        "print(f\"Average asthma prevalence: {gdf_asthma['data_value'].mean():.2f}%\")\n",
        "print(f\"Minimum asthma prevalence: {gdf_asthma['data_value'].min():.2f}%\")\n",
        "print(f\"Maximum asthma prevalence: {gdf_asthma['data_value'].max():.2f}%\")\n",
        "\n",
        "# Print the number of census tracts per county\n",
        "print(\"\\nNumber of census tracts per county:\")\n",
        "print(gdf_asthma['countyname'].value_counts())"
      ]
    },
    {
      "cell_type": "markdown",
      "id": "385c0f3d",
      "metadata": {},
      "source": [
        "Wow. Some census tracts along the river front and central downtown area have adult asthma prevalance of nearly 20%! I'm not an epidimeologist, but that seems extremely high; especially when you compare to the outer suburbs and more affluent areas in the Royal Oak-Ferndale area. However, in light of our exploration of TRI and ICIS-AIR data it might not be surprising to see elevated asthma rates in these areas. \n",
        "\n",
        "Given that we've mostly been working with and creating raster data in the previous sections, it might be easier to draw systematic comparisons between pollution and health outcomes if the CDC data is also in a raster format. \n",
        "\n",
        "#### Interpolate a Surface w/ IDW\n",
        "\n",
        "While the choropleth map provides a good overview, it can be affected by the varying sizes of census tracts. To get a smoother representation of the data that resembles our air quality data, we can use Inverse Distance Weighting (IDW) interpolation to create a continuous surface.\n",
        "\n",
        "First, let's prepare our data for interpolation by reprojecting, extracting the coordinates and the asthma value, and masking the data for any asthma values that may be NA.\n"
      ]
    },
    {
      "cell_type": "code",
      "execution_count": null,
      "id": "571cbeff",
      "metadata": {
        "vscode": {
          "languageId": "python"
        }
      },
      "outputs": [],
      "source": [
        "from scipy.interpolate import griddata\n",
        "from rasterio.transform import from_origin\n",
        "from rasterio.warp import transform_bounds\n",
        "\n",
        "# Ensure gdf_asthma is in EPSG:4326\n",
        "gdf_asthma = gdf_asthma.to_crs(epsg=4326)\n",
        "\n",
        "# Extract coordinates and values\n",
        "X = gdf_asthma.geometry.x.values\n",
        "Y = gdf_asthma.geometry.y.values\n",
        "Z = gdf_asthma['data_value'].values\n",
        "\n",
        "# Remove any NaN values\n",
        "mask = ~np.isnan(Z)\n",
        "X, Y, Z = X[mask], Y[mask], Z[mask]"
      ]
    },
    {
      "cell_type": "markdown",
      "id": "8cac8868",
      "metadata": {},
      "source": [
        "::: column-margin\n",
        "::: {.callout-tip style=\"color: #5a7a2b;\"}\n",
        "#### Data Science Review\n",
        "Inverse Distance Weighting (IDW) is a spatial interpolation method used to estimate values at unknown locations based on known values at nearby points. The fundamental principle of IDW is that points closer to the location being estimated have more influence than those farther away. IDW calculates the estimated value as a weighted average of nearby known values, with weights inversely proportional to the distance between the known point and the estimation location. IDW is popular in geographic information systems (GIS) and environmental sciences due to its simplicity and effectiveness in creating continuous surfaces from point data, such as elevation, temperature, or pollution levels. While IDW has advantages like preserving local variation and working well with evenly distributed points, it also has limitations; including potential \"bull's-eye\" patterns around data points, inability to account for spatial trends or barriers, and sensitivity to outliers and clustering of input points.\n",
        ":::\n",
        ":::\n",
        "\n",
        "Now we create the structure of the raster we'll create. This is based on our desired resolution and the extent of our data.\n"
      ]
    },
    {
      "cell_type": "code",
      "execution_count": null,
      "id": "95364aba",
      "metadata": {
        "vscode": {
          "languageId": "python"
        }
      },
      "outputs": [],
      "source": [
        "# Create a grid to interpolate over\n",
        "# Resolution (degrees)\n",
        "grid_resolution = 0.025\n",
        "# Extent\n",
        "x_min, y_min, x_max, y_max = gdf_asthma.total_bounds\n",
        "# Arrange the locations of the x and y dimensions\n",
        "grid_x = np.arange(x_min, x_max, grid_resolution)\n",
        "grid_y = np.arange(y_min, y_max, grid_resolution)\n",
        "# Mesh them to a grid\n",
        "grid_xx, grid_yy = np.meshgrid(grid_x, grid_y)"
      ]
    },
    {
      "cell_type": "markdown",
      "id": "4a0bda2e",
      "metadata": {},
      "source": [
        "Now we're ready to interpolate the surface. \n"
      ]
    },
    {
      "cell_type": "code",
      "execution_count": null,
      "id": "d2ed0f1e",
      "metadata": {
        "vscode": {
          "languageId": "python"
        }
      },
      "outputs": [],
      "source": [
        "# Perform IDW interpolation\n",
        "points = np.column_stack((X, Y))\n",
        "grid_z = griddata(points, Z, (grid_xx, grid_yy), method='linear')"
      ]
    },
    {
      "cell_type": "markdown",
      "id": "ef20ba99",
      "metadata": {},
      "source": [
        "This created a regular grid over our study area and then used the `griddata` function to perform linear interpolation (which is a form of IDW) on our asthma prevalence data.\n",
        "\n",
        "Now, let's convert our interpolated data into an xarray Dataset so it's easier to manipulate.\n"
      ]
    },
    {
      "cell_type": "code",
      "execution_count": null,
      "id": "c697e3a9",
      "metadata": {
        "vscode": {
          "languageId": "python"
        }
      },
      "outputs": [],
      "source": [
        "# Create an xarray Dataset from the interpolated data\n",
        "ds = xr.Dataset({\n",
        "    'asthma': (['y', 'x'], grid_z),\n",
        "    'x': grid_x,\n",
        "    'y': grid_y\n",
        "})\n",
        "\n",
        "# Set the correct CRS\n",
        "ds.rio.write_crs(\"EPSG:4326\", inplace=True)"
      ]
    },
    {
      "cell_type": "markdown",
      "id": "e8f39042",
      "metadata": {},
      "source": [
        "This step allows us to work with our interpolated data using **xarray**, which provides powerful tools for working with multi-dimensional arrays.\n",
        "\n",
        "Next, we'll clip our interpolated surface to the Detroit metro area. This ensures our data matches our other rasters. Then we'll project it to match basemaps so we can create a map of the data.\n"
      ]
    },
    {
      "cell_type": "code",
      "execution_count": null,
      "id": "89e32290",
      "metadata": {
        "vscode": {
          "languageId": "python"
        }
      },
      "outputs": [],
      "source": [
        "# Clip the dataset using the detroit_metro polygon\n",
        "ds_clipped = ds.rio.clip(detroit_metro.geometry, drop=False)\n",
        "\n",
        "# Reproject to Web Mercator (EPSG:3857)\n",
        "ds_3857 = ds_clipped.rio.reproject(\"EPSG:3857\")"
      ]
    },
    {
      "cell_type": "markdown",
      "id": "03cdd9df",
      "metadata": {},
      "source": [
        "Finally, let's create a map of our interpolated asthma prevalence:\n"
      ]
    },
    {
      "cell_type": "code",
      "execution_count": null,
      "id": "45078601",
      "metadata": {
        "vscode": {
          "languageId": "python"
        }
      },
      "outputs": [],
      "source": [
        "# Create the plot\n",
        "fig, ax = plt.subplots(figsize=(7, 7))\n",
        "\n",
        "# Plot the interpolated and clipped data\n",
        "im = ds_3857.asthma.plot(ax=ax, cmap='YlOrRd', \n",
        "                         alpha=0.7, add_colorbar=False)\n",
        "\n",
        "# Add colorbar with adjusted height\n",
        "cbar = plt.colorbar(im, ax=ax, label='Asthma Prevalence', \n",
        "                    fraction=0.047, pad=0.04, aspect=20)\n",
        "\n",
        "# Add basemap\n",
        "ctx.add_basemap(ax, crs=ds_3857.rio.crs, \n",
        "                source=ctx.providers.OpenStreetMap.Mapnik)\n",
        "\n",
        "# Add a border to the map\n",
        "bbox_polygon_bm.boundary.plot(ax=ax, color='#315c86', linewidth=3)\n",
        "\n",
        "# Set the extent to match the Detroit metro area\n",
        "bounds_3857 = transform_bounds(\"EPSG:4326\", \"EPSG:3857\", \n",
        "                               x_min, y_min, x_max, y_max)\n",
        "ax.set_xlim(bounds_3857[0], bounds_3857[2])\n",
        "ax.set_ylim(bounds_3857[1], bounds_3857[3])\n",
        "\n",
        "plt.title('IDW Interpolated Asthma Prevalence in Detroit Metro Area', fontsize=16)\n",
        "ax.axis('off')\n",
        "\n",
        "plt.tight_layout()\n",
        "plt.show()"
      ]
    },
    {
      "cell_type": "markdown",
      "id": "74fe71b1",
      "metadata": {},
      "source": [
        "This code creates a map of the interpolated asthma prevalence, providing a smooth surface that shows the spatial variation in asthma rates across the Detroit metro area. The use of IDW interpolation helps to create a continuous surface from our discrete census tract data, potentially revealing patterns that might be less apparent in the choropleth map.\n",
        "\n",
        "By comparing this interpolated surface with our earlier maps of air pollution and social vulnerability, we can start to explore potential relationships between environmental factors, social conditions, and health outcomes in the Detroit metro area.\n",
        "\n",
        "We can start with a simple correlation analysis and then visualize it with a scatterplot. The simpleist way to perform the analysis is the extract the raw value pairs and calculate the Pearson correlation.\n"
      ]
    },
    {
      "cell_type": "code",
      "execution_count": null,
      "id": "18e11c2c",
      "metadata": {
        "vscode": {
          "languageId": "python"
        }
      },
      "outputs": [],
      "source": [
        "from scipy import stats\n",
        "\n",
        "# Ensure both rasters have the same shape and are aligned\n",
        "air_release_aligned = air_release_raster_da.rio.reproject_match(ds_clipped)\n",
        "\n",
        "# Flatten the arrays and remove NaN values\n",
        "air_release_flat = air_release_aligned.values.flatten()\n",
        "# Take the log of the release values to account for extreme outliers\n",
        "air_release_flat = np.log1p(air_release_flat)\n",
        "asthma_flat = ds_clipped.asthma.values.flatten()\n",
        "mask = ~np.isnan(air_release_flat) & ~np.isnan(asthma_flat)\n",
        "\n",
        "correlation, p_value = stats.pearsonr(air_release_flat[mask], asthma_flat[mask])\n",
        "print(f\"Correlation coefficient: {correlation}\")\n",
        "print(f\"P-value: {p_value}\")"
      ]
    },
    {
      "cell_type": "markdown",
      "id": "da50c8c9",
      "metadata": {},
      "source": [
        "Creating a scatterplot of the paired values can provide a better look at what's going on.\n"
      ]
    },
    {
      "cell_type": "code",
      "execution_count": null,
      "id": "4bdefa7d",
      "metadata": {
        "vscode": {
          "languageId": "python"
        }
      },
      "outputs": [],
      "source": [
        "# Create the empty map\n",
        "plt.figure(figsize=(7, 7))\n",
        "# Create the scatter plot of the values\n",
        "plt.scatter(air_release_flat[mask], asthma_flat[mask], alpha=0.5)\n",
        "# Create Axis Labels\n",
        "plt.xlabel('TRI Air Releases')\n",
        "plt.ylabel('Asthma Prevalence')\n",
        "# Title\n",
        "plt.title('TRI Air Releases vs Asthma Prevalence')\n",
        "# Let's see it\n",
        "plt.show()"
      ]
    },
    {
      "cell_type": "markdown",
      "id": "8a701a0d",
      "metadata": {},
      "source": [
        "This paints a clearer picture. Although there is a modest positive correlation, there are numerous cells with 0 TRI Air Release and a wide variety of Asthma prevelance values, which negates any correlation we might be seeing at higher release levels. This is a simple pixel by pixel comparison of matching values. We can perform a more robust analysis accounting for the spatial strucuture using a global autocorrelation analysis and Moran's I.\n",
        "\n",
        "Pearson's correlation and Moran's I are both measures of association, but they serve different purposes and account for different aspects of data. Pearson's correlation measures the linear relationship between two variables without considering their spatial context. It simply looks at how two variables change together, regardless of where the data points are located in space. In contrast, Moran's I is specifically designed for spatial data and measures spatial autocorrelation – the degree to which a variable is correlated with itself across geographic space. Moran's I takes into account both the values of observations and their spatial relationships, typically using a spatial weights matrix. While Pearson's correlation can tell you if two variables are related overall, Moran's I can reveal whether high or low values of a variable tend to cluster together in space, or if they're randomly distributed. This makes Moran's I particularly useful for analyzing geographical patterns and spatial dependencies, which are crucial in fields like environmental science, epidemiology, and urban planning.\n",
        "\n",
        "We can perform this analysis in Python use **pysal**. We already know our data is spatially aligned from the previous code chunks. We can create a spatial data frame and continue on.\n"
      ]
    },
    {
      "cell_type": "code",
      "execution_count": null,
      "id": "14f347e2",
      "metadata": {
        "vscode": {
          "languageId": "python"
        }
      },
      "outputs": [],
      "source": [
        "from pysal.explore import esda\n",
        "from pysal.lib import weights\n",
        "import shapely\n",
        "\n",
        "# Convert rasters to a GeoDataFrame\n",
        "df = gpd.GeoDataFrame(\n",
        "    {\n",
        "        'air_release': air_release_aligned.values.flatten(),\n",
        "        'asthma': ds_clipped.asthma.values.flatten(),\n",
        "        'geometry': [\n",
        "            shapely.geometry.Point(x, y) \n",
        "            for x, y in zip(\n",
        "                np.repeat(air_release_aligned.x.values, len(air_release_aligned.y)),\n",
        "                np.tile(air_release_aligned.y.values, len(air_release_aligned.x))\n",
        "            )\n",
        "        ]\n",
        "    }\n",
        ")"
      ]
    },
    {
      "cell_type": "markdown",
      "id": "9fcdbb91",
      "metadata": {},
      "source": [
        "::: column-margin\n",
        "::: {.callout-tip style=\"color: #5a7a2b;\"}\n",
        "#### Statistics Review\n",
        "A p-value, or probability value, is a statistical concept used to determine the significance of results in hypothesis testing. It represents the probability of obtaining results at least as extreme as the observed results, assuming that the null hypothesis is true. In simpler terms, it measures the strength of evidence against the null hypothesis. P-values range from 0 to 1, with lower values indicating stronger evidence against the null hypothesis. Typically, a p-value below a predetermined threshold (often 0.05) is considered statistically significant, suggesting that the observed results are unlikely to have occurred by chance alone. However, it's important to note that while p-values can indicate the strength of evidence against the null hypothesis, they do not prove or disprove hypotheses, nor do they measure the size or importance of an effect. They should be interpreted in conjunction with other factors such as effect size, sample size, and practical significance.\n",
        ":::\n",
        ":::\n",
        "\n",
        "Check for missing values and create the spatial weights matrix that determines how wide of a net we want to cast as we search for a local dependence structure (you could change these values and see how it impacts the results). You can read more about settings for spatial autocorrelation and Moran's I analysis [here](https://pro.arcgis.com/en/pro-app/latest/tool-reference/spatial-statistics/spatial-autocorrelation.htm).\n"
      ]
    },
    {
      "cell_type": "code",
      "execution_count": null,
      "id": "16bca99f",
      "metadata": {
        "vscode": {
          "languageId": "python"
        }
      },
      "outputs": [],
      "source": [
        "# Remove any rows with NaN values\n",
        "df = df.dropna()\n",
        "\n",
        "# Create a spatial weights matrix\n",
        "w = weights.distance.KNN.from_dataframe(df, k=8)  # Using 8 nearest neighbors\n",
        "w.transform = 'r'  # Row-standardize the weights"
      ]
    },
    {
      "cell_type": "markdown",
      "id": "a33ae367",
      "metadata": {},
      "source": [
        "Now we'll cycle through the Moran function for air release, current asthma among adults, and the 2 combined (bivariate). First air releases.\n"
      ]
    },
    {
      "cell_type": "code",
      "execution_count": null,
      "id": "08cc1dc8",
      "metadata": {
        "vscode": {
          "languageId": "python"
        }
      },
      "outputs": [],
      "source": [
        "# Create a Moran scatter plot for air release\n",
        "from splot.esda import moran_scatterplot\n",
        "\n",
        "# Calculate Moran's I for air release\n",
        "moran_air = esda.Moran(df['air_release'], w)\n",
        "\n",
        "print(\"Moran's I for Air Release:\")\n",
        "print(f\"I: {moran_air.I}\")\n",
        "print(f\"p-value: {moran_air.p_sim}\")\n",
        "\n",
        "fig, ax = plt.subplots(figsize=(7, 7))\n",
        "moran_scatterplot(moran_air, ax=ax)\n",
        "# Get the current limits\n",
        "xlim = ax.get_xlim()\n",
        "ylim = ax.get_ylim()\n",
        "# Find the min and max of both axes\n",
        "vmin = min(xlim[0], ylim[0])\n",
        "vmax = max(xlim[1], ylim[1])\n",
        "# Set both axes to the same limits\n",
        "ax.set_xlim(vmin, vmax)\n",
        "ax.set_ylim(vmin, vmax)\n",
        "# Ensure the aspect ratio is 1:1\n",
        "ax.set_aspect('equal', adjustable='box')\n",
        "ax.set_title(\"Moran Scatter Plot: Air Release\")\n",
        "plt.show()"
      ]
    },
    {
      "cell_type": "markdown",
      "id": "d9734b04",
      "metadata": {},
      "source": [
        "When evaluating Moran's I for single variables we are assessing how clustered like values are; i.e. do high or low values of air release tend to appear next to each other. On a scale of -1 to 1 a 0.12 suggests a slight positive correlation. High values of air release tend to cluster in similar spots. That said the correlation is lower and we can the same feature as before in that there are a large amount of 0 values that are mixed in all throughout the data. You could attempt to address this issue by using a larger resolution when creating the raster layer depicting air release sums (we used 5000m), or by including different sources of air pollution. \n"
      ]
    },
    {
      "cell_type": "code",
      "execution_count": null,
      "id": "742aeef6",
      "metadata": {
        "vscode": {
          "languageId": "python"
        }
      },
      "outputs": [],
      "source": [
        "# Calculate Moran's I for asthma prevalence\n",
        "moran_asthma = esda.Moran(df['asthma'], w)\n",
        "\n",
        "print(\"\\nMoran's I for Asthma Prevalence:\")\n",
        "print(f\"I: {moran_asthma.I}\")\n",
        "print(f\"p-value: {moran_asthma.p_sim}\")\n",
        "\n",
        "# Create a Moran scatter plot for asthma prevalence\n",
        "fig, ax = plt.subplots(figsize=(7, 7))\n",
        "moran_scatterplot(moran_asthma, ax=ax)\n",
        "# Get the current limits\n",
        "xlim = ax.get_xlim()\n",
        "ylim = ax.get_ylim()\n",
        "# Find the min and max of both axes\n",
        "vmin = min(xlim[0], ylim[0])\n",
        "vmax = max(xlim[1], ylim[1])\n",
        "# Set both axes to the same limits\n",
        "ax.set_xlim(vmin, vmax)\n",
        "ax.set_ylim(vmin, vmax)\n",
        "# Ensure the aspect ratio is 1:1\n",
        "ax.set_aspect('equal', adjustable='box')\n",
        "ax.set_title(\"Moran Scatter Plot: Asthma Prevalence\")\n",
        "plt.show()"
      ]
    },
    {
      "cell_type": "markdown",
      "id": "a8b1e70a",
      "metadata": {},
      "source": [
        "Asthma prevelance has a much stronger correlation structure. High asthma levels are clustered together spatially and have a value of 0.52. Also note that the scatterplot shows a nice fit without any odd artifacts or outliers.  \n"
      ]
    },
    {
      "cell_type": "code",
      "execution_count": null,
      "id": "027a21fc",
      "metadata": {
        "vscode": {
          "languageId": "python"
        }
      },
      "outputs": [],
      "source": [
        "# Calculate bivariate Moran's I\n",
        "moran_bv = esda.Moran_BV(df['air_release'], df['asthma'], w)\n",
        "\n",
        "print(\"\\nBivariate Moran's I (Air Release vs Asthma):\")\n",
        "print(f\"I: {moran_bv.I}\")\n",
        "print(f\"p-value: {moran_bv.p_sim}\")\n",
        "\n",
        "# Create a bivariate Moran scatter plot\n",
        "fig, ax = plt.subplots(figsize=(7, 7))\n",
        "# make the plot\n",
        "moran_scatterplot(moran_bv, ax=ax)\n",
        "# Get the current limits\n",
        "xlim = ax.get_xlim()\n",
        "ylim = ax.get_ylim()\n",
        "# Find the min and max of both axes\n",
        "vmin = min(xlim[0], ylim[0])\n",
        "vmax = max(xlim[1], ylim[1])\n",
        "# Set both axes to the same limits\n",
        "ax.set_xlim(vmin, vmax)\n",
        "ax.set_ylim(vmin, vmax)\n",
        "# Ensure the aspect ratio is 1:1\n",
        "ax.set_aspect('equal', adjustable='box')\n",
        "# Set the title\n",
        "ax.set_title(\"Bivariate Moran Scatter Plot: Air Release vs Asthma\")\n",
        "plt.show()"
      ]
    },
    {
      "cell_type": "markdown",
      "id": "848d4095",
      "metadata": {},
      "source": [
        "Similar to the pearson analysis, when we analyze their combined spatial dependence the relatipnship is not as strong; largely in part to the high levels of 0 air release values. That said the relationship is positive and it is statistically significant (p-value 0.001). \n",
        "\n",
        "This could be due to several factors that went unaccounted for in our simple analysis. \n",
        "\n",
        "- Our choice of size/resolution when creating our summed air release raster. \n",
        "- The impacts of TRI air releases could be much more widespread than the 5km resolution we specified.\n",
        "- We only analyze TRI regulated facilities and their emissions. \n",
        "- We did not account for traffic density or other sources of particulate matter emissions.\n",
        "- We did not control for socioeconomic status, prevantative healthcare access, and a whole host of other confounding variables.\n",
        "- There is no underlying relationship. Unlikely based on large amounts of peer reviewed literature, but a possibility none the less.\n",
        "\n",
        "::: {.callout-tip style=\"color: #9f0b64;\"}\n",
        "#### Knowledge Check\n",
        "What type of data does the CDC PLACES dataset provide?\n",
        "\n",
        "a) Real-time air quality measurements\n",
        "b) Estimates of various health indicators at local levels\n",
        "c) Hospital admission rates for air pollution-related illnesses\n",
        "d) Locations of healthcare facilities in each county\n",
        ":::\n",
        "\n",
        "## Conclusion\n",
        "\n",
        "This lesson provided a comprehensive exploration of various environmental and public health datasets, focusing on the Detroit metropolitan area. By analyzing data from ICIS-AIR, the Toxic Release Inventory (TRI), the Social Vulnerability Index (SVI), and CDC PLACES, we gained insights into the complex relationships between industrial air pollution, social vulnerability, and health outcomes. The integration of these datasets, combined with geospatial analysis techniques, allowed us to identify areas where environmental hazards and social vulnerabilities intersect, highlighting potential environmental justice concerns. This approach demonstrates the power of combining diverse datasets and utilizing geospatial tools to inform policy decisions and target interventions in areas of greatest need.\n",
        "\n",
        "## Key Learning Points\n",
        "\n",
        "Congratulations! In this lesson you:\n",
        "\n",
        "- Accessed and processed data from multiple EPA and CDC APIs, including ICIS-AIR, TRI, and PLACES datasets\n",
        "- Created and manipulated geospatial objects using libraries such as **GeoPandas** and **rasterio**\n",
        "- Visualized point data on maps using **Matplotlib** and **Contextily**\n",
        "- Performed data cleaning and preprocessing, including handling missing coordinates and outliers\n",
        "- Created choropleth maps to visualize health outcomes data at the census tract level\n",
        "- Utilized Inverse Distance Weighting (IDW) interpolation to create continuous surfaces from point data\n",
        "- Integrated multiple datasets to create a composite index (Air Release Vulnerability Index)\n",
        "- Analyzed spatial patterns of air pollution, social vulnerability, and health outcomes\n",
        "- Applied raster math and resampling techniques to align and compare different spatial datasets\n",
        "- Interpreted results in the context of environmental justice and public health concerns\n",
        "- Perform a Pearson and Moran's I correlation analysis\n",
        "\n",
        "## Lesson 3\n",
        "\n",
        "In this lesson, we explored ....\n",
        "\n",
        "[Lesson 3](https://ciesin-geospatial.github.io/TOPSTSCHOOL-air-quality/m203-grdiv1-pm25.html){.btn .btn-primary .btn role=\"button\"}"
      ]
    }
  ],
  "metadata": {
    "kernelspec": {
      "display_name": "Python 3 (ipykernel)",
      "language": "python",
      "name": "python3"
    }
  },
  "nbformat": 4,
  "nbformat_minor": 5
}
