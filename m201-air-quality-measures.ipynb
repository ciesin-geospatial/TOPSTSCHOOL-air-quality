{
 "cells": [
  {
   "cell_type": "markdown",
   "metadata": {},
   "source": [
    "## PurpleAir Data\n",
    "Data are available via PurpleAir's API. You will need to use a gmail account and create an API key via [this dashboard](https://develop.purpleair.com/sign-in?redirectURL=%2Fdashboards%2Fkeys). You should create a \"Read\" key that has a status of \"Enabled\". It's a good idea to add a label, host restrictions restrict the use of the key to certain machines, you do not need to set these. \n",
    "\n",
    "TODO: insert screen shot image\n",
    "\n",
    "Once you have generated your key, you can \"read\" the key value to use in making requests. First, run the cell below and enter the key you generated when prompted. "
   ]
  },
  {
   "cell_type": "code",
   "execution_count": 3,
   "metadata": {},
   "outputs": [],
   "source": [
    "import getpass\n",
    "\n",
    "api_key = getpass.getpass(\"Enter your API key: \")"
   ]
  },
  {
   "cell_type": "markdown",
   "metadata": {},
   "source": [
    "Test your API key by running the code below. It should show the message \"Key submit was successful\" if your key is valid. "
   ]
  },
  {
   "cell_type": "code",
   "execution_count": 4,
   "metadata": {},
   "outputs": [
    {
     "name": "stdout",
     "output_type": "stream",
     "text": [
      "Key submit was successful\n",
      "{'api_version': 'V1.0.14-0.0.58', 'time_stamp': 1740680439, 'api_key_type': 'READ'}\n"
     ]
    }
   ],
   "source": [
    "import requests\n",
    "\n",
    "url = \"https://api.purpleair.com/v1/keys\"\n",
    "\n",
    "headers = {\n",
    "    \"X-API-Key\": api_key \n",
    "}\n",
    "\n",
    "response = requests.get(url, headers=headers)\n",
    "\n",
    "if response.status_code == 201:\n",
    "    print('Key submit was successful')\n",
    "    data = response.json()\n",
    "    print(data)\n",
    "else:\n",
    "    print(f\"Request failed with status code: {response.status_code}\")"
   ]
  },
  {
   "cell_type": "markdown",
   "metadata": {},
   "source": [
    "If the API key is valid, a bounding box can be used to search for sensors. The coordinates in the cell below represent the longitude and latitude of the northwest and southeast corners of a box that encloses the South Bronx. The API request returns the identifiers of sensors within that bounding box. "
   ]
  },
  {
   "cell_type": "code",
   "execution_count": 18,
   "metadata": {},
   "outputs": [
    {
     "name": "stdout",
     "output_type": "stream",
     "text": [
      "Success\n",
      "{'api_version': 'V1.0.14-0.0.58', 'time_stamp': 1740681073, 'data_time_stamp': 1740681041, 'location_type': 0, 'max_age': 604800, 'firmware_default_version': '7.02', 'fields': ['sensor_index', 'last_seen', 'name', 'position_rating', 'latitude', 'longitude'], 'data': [[90283, 1740681021, 'SIS-roof', 5, 40.81536, -73.888374], [90389, 1740680844, 'FA-AHo', 5, 40.83022, -73.92234], [91899, 1740681021, 'FA-O7', 5, 40.83016, -73.9219]]}\n"
     ]
    }
   ],
   "source": [
    "# corner latitude and longitudes in decimal degrees\n",
    "nwlat = 40.833\n",
    "nwlng = -73.933\n",
    "selat = 40.783\n",
    "selng = -73.783\n",
    "\n",
    "url = 'https://api.purpleair.com/v1/sensors'\n",
    "\n",
    "headers = {\"X-API-Key\": api_key}\n",
    "\n",
    "params = {\n",
    "    'fields':'name,latitude,longitude,position_rating,last_seen',\n",
    "    'location_type':0,\n",
    "    'nwlng':nwlng,\n",
    "    'nwlat':nwlat,\n",
    "    'selng':selng,\n",
    "    'selat':selat\n",
    "\n",
    "}\n",
    "\n",
    "with requests.get(url, headers=headers, params=params) as response:\n",
    "\n",
    "    if response.status_code == 200:\n",
    "        print('Success')\n",
    "        data = response.json()\n",
    "        print(data)\n",
    "    else:\n",
    "        print(f\"Request failed with status code: {response.status_code}\")\n"
   ]
  },
  {
   "cell_type": "code",
   "execution_count": 19,
   "metadata": {},
   "outputs": [
    {
     "data": {
      "text/plain": [
       "3"
      ]
     },
     "execution_count": 19,
     "metadata": {},
     "output_type": "execute_result"
    }
   ],
   "source": [
    "len(data['data'])"
   ]
  },
  {
   "cell_type": "code",
   "execution_count": 20,
   "metadata": {},
   "outputs": [
    {
     "data": {
      "text/plain": [
       "[90283, 1740681021, 'SIS-roof', 5, 40.81536, -73.888374]"
      ]
     },
     "execution_count": 20,
     "metadata": {},
     "output_type": "execute_result"
    }
   ],
   "source": [
    "data['data'][0]"
   ]
  },
  {
   "cell_type": "code",
   "execution_count": 21,
   "metadata": {},
   "outputs": [],
   "source": [
    "import pandas as pd\n",
    "import geopandas as gpd"
   ]
  },
  {
   "cell_type": "code",
   "execution_count": 22,
   "metadata": {},
   "outputs": [
    {
     "name": "stdout",
     "output_type": "stream",
     "text": [
      "(3, 7)\n"
     ]
    }
   ],
   "source": [
    "df = pd.DataFrame(data['data'], columns=data['fields'])\n",
    "gdf = gpd.GeoDataFrame(\n",
    "    df,\n",
    "    geometry=gpd.points_from_xy(df.longitude, df.latitude), \n",
    "    crs=\"EPSG:4326\"\n",
    ")\n",
    "\n",
    "print(gdf.shape)"
   ]
  },
  {
   "cell_type": "code",
   "execution_count": null,
   "metadata": {},
   "outputs": [
    {
     "data": {
      "text/html": [
       "<div style=\"width:100%;\"><div style=\"position:relative;width:100%;height:0;padding-bottom:60%;\"><span style=\"color:#565656\">Make this Notebook Trusted to load map: File -> Trust Notebook</span><iframe srcdoc=\"&lt;!DOCTYPE html&gt;\n",
       "&lt;html&gt;\n",
       "&lt;head&gt;\n",
       "    \n",
       "    &lt;meta http-equiv=&quot;content-type&quot; content=&quot;text/html; charset=UTF-8&quot; /&gt;\n",
       "    \n",
       "        &lt;script&gt;\n",
       "            L_NO_TOUCH = false;\n",
       "            L_DISABLE_3D = false;\n",
       "        &lt;/script&gt;\n",
       "    \n",
       "    &lt;style&gt;html, body {width: 100%;height: 100%;margin: 0;padding: 0;}&lt;/style&gt;\n",
       "    &lt;style&gt;#map {position:absolute;top:0;bottom:0;right:0;left:0;}&lt;/style&gt;\n",
       "    &lt;script src=&quot;https://cdn.jsdelivr.net/npm/leaflet@1.9.3/dist/leaflet.js&quot;&gt;&lt;/script&gt;\n",
       "    &lt;script src=&quot;https://code.jquery.com/jquery-3.7.1.min.js&quot;&gt;&lt;/script&gt;\n",
       "    &lt;script src=&quot;https://cdn.jsdelivr.net/npm/bootstrap@5.2.2/dist/js/bootstrap.bundle.min.js&quot;&gt;&lt;/script&gt;\n",
       "    &lt;script src=&quot;https://cdnjs.cloudflare.com/ajax/libs/Leaflet.awesome-markers/2.0.2/leaflet.awesome-markers.js&quot;&gt;&lt;/script&gt;\n",
       "    &lt;link rel=&quot;stylesheet&quot; href=&quot;https://cdn.jsdelivr.net/npm/leaflet@1.9.3/dist/leaflet.css&quot;/&gt;\n",
       "    &lt;link rel=&quot;stylesheet&quot; href=&quot;https://cdn.jsdelivr.net/npm/bootstrap@5.2.2/dist/css/bootstrap.min.css&quot;/&gt;\n",
       "    &lt;link rel=&quot;stylesheet&quot; href=&quot;https://netdna.bootstrapcdn.com/bootstrap/3.0.0/css/bootstrap-glyphicons.css&quot;/&gt;\n",
       "    &lt;link rel=&quot;stylesheet&quot; href=&quot;https://cdn.jsdelivr.net/npm/@fortawesome/fontawesome-free@6.2.0/css/all.min.css&quot;/&gt;\n",
       "    &lt;link rel=&quot;stylesheet&quot; href=&quot;https://cdnjs.cloudflare.com/ajax/libs/Leaflet.awesome-markers/2.0.2/leaflet.awesome-markers.css&quot;/&gt;\n",
       "    &lt;link rel=&quot;stylesheet&quot; href=&quot;https://cdn.jsdelivr.net/gh/python-visualization/folium/folium/templates/leaflet.awesome.rotate.min.css&quot;/&gt;\n",
       "    \n",
       "            &lt;meta name=&quot;viewport&quot; content=&quot;width=device-width,\n",
       "                initial-scale=1.0, maximum-scale=1.0, user-scalable=no&quot; /&gt;\n",
       "            &lt;style&gt;\n",
       "                #map_5a2720d87a3355e9facefa3f722897b0 {\n",
       "                    position: relative;\n",
       "                    width: 100.0%;\n",
       "                    height: 100.0%;\n",
       "                    left: 0.0%;\n",
       "                    top: 0.0%;\n",
       "                }\n",
       "                .leaflet-container { font-size: 1rem; }\n",
       "            &lt;/style&gt;\n",
       "        \n",
       "    \n",
       "                    &lt;style&gt;\n",
       "                        .foliumtooltip {\n",
       "                            \n",
       "                        }\n",
       "                       .foliumtooltip table{\n",
       "                            margin: auto;\n",
       "                        }\n",
       "                        .foliumtooltip tr{\n",
       "                            text-align: left;\n",
       "                        }\n",
       "                        .foliumtooltip th{\n",
       "                            padding: 2px; padding-right: 8px;\n",
       "                        }\n",
       "                    &lt;/style&gt;\n",
       "            \n",
       "&lt;/head&gt;\n",
       "&lt;body&gt;\n",
       "    \n",
       "    \n",
       "            &lt;div class=&quot;folium-map&quot; id=&quot;map_5a2720d87a3355e9facefa3f722897b0&quot; &gt;&lt;/div&gt;\n",
       "        \n",
       "&lt;/body&gt;\n",
       "&lt;script&gt;\n",
       "    \n",
       "    \n",
       "            var map_5a2720d87a3355e9facefa3f722897b0 = L.map(\n",
       "                &quot;map_5a2720d87a3355e9facefa3f722897b0&quot;,\n",
       "                {\n",
       "                    center: [40.82279, -73.90535700000001],\n",
       "                    crs: L.CRS.EPSG3857,\n",
       "                    ...{\n",
       "  &quot;zoom&quot;: 10,\n",
       "  &quot;zoomControl&quot;: true,\n",
       "  &quot;preferCanvas&quot;: false,\n",
       "}\n",
       "\n",
       "                }\n",
       "            );\n",
       "            L.control.scale().addTo(map_5a2720d87a3355e9facefa3f722897b0);\n",
       "\n",
       "            \n",
       "\n",
       "        \n",
       "    \n",
       "            var tile_layer_901e2fa533c37ef856f143597a3091bc = L.tileLayer(\n",
       "                &quot;https://tile.openstreetmap.org/{z}/{x}/{y}.png&quot;,\n",
       "                {\n",
       "  &quot;minZoom&quot;: 0,\n",
       "  &quot;maxZoom&quot;: 19,\n",
       "  &quot;maxNativeZoom&quot;: 19,\n",
       "  &quot;noWrap&quot;: false,\n",
       "  &quot;attribution&quot;: &quot;\\u0026copy; \\u003ca href=\\&quot;https://www.openstreetmap.org/copyright\\&quot;\\u003eOpenStreetMap\\u003c/a\\u003e contributors&quot;,\n",
       "  &quot;subdomains&quot;: &quot;abc&quot;,\n",
       "  &quot;detectRetina&quot;: false,\n",
       "  &quot;tms&quot;: false,\n",
       "  &quot;opacity&quot;: 1,\n",
       "}\n",
       "\n",
       "            );\n",
       "        \n",
       "    \n",
       "            tile_layer_901e2fa533c37ef856f143597a3091bc.addTo(map_5a2720d87a3355e9facefa3f722897b0);\n",
       "        \n",
       "    \n",
       "            map_5a2720d87a3355e9facefa3f722897b0.fitBounds(\n",
       "                [[40.81536, -73.92234], [40.83022, -73.888374]],\n",
       "                {}\n",
       "            );\n",
       "        \n",
       "    \n",
       "        function geo_json_09484830716b65d5642d5f645e7a1747_styler(feature) {\n",
       "            switch(feature.id) {\n",
       "                default:\n",
       "                    return {&quot;fillOpacity&quot;: 0.5, &quot;weight&quot;: 2};\n",
       "            }\n",
       "        }\n",
       "        function geo_json_09484830716b65d5642d5f645e7a1747_highlighter(feature) {\n",
       "            switch(feature.id) {\n",
       "                default:\n",
       "                    return {&quot;fillOpacity&quot;: 0.75};\n",
       "            }\n",
       "        }\n",
       "        function geo_json_09484830716b65d5642d5f645e7a1747_pointToLayer(feature, latlng) {\n",
       "            var opts = {&quot;bubblingMouseEvents&quot;: true, &quot;color&quot;: &quot;#3388ff&quot;, &quot;dashArray&quot;: null, &quot;dashOffset&quot;: null, &quot;fill&quot;: true, &quot;fillColor&quot;: &quot;#3388ff&quot;, &quot;fillOpacity&quot;: 0.2, &quot;fillRule&quot;: &quot;evenodd&quot;, &quot;lineCap&quot;: &quot;round&quot;, &quot;lineJoin&quot;: &quot;round&quot;, &quot;opacity&quot;: 1.0, &quot;radius&quot;: 2, &quot;stroke&quot;: true, &quot;weight&quot;: 3};\n",
       "            \n",
       "            let style = geo_json_09484830716b65d5642d5f645e7a1747_styler(feature)\n",
       "            Object.assign(opts, style)\n",
       "            \n",
       "            return new L.CircleMarker(latlng, opts)\n",
       "        }\n",
       "\n",
       "        function geo_json_09484830716b65d5642d5f645e7a1747_onEachFeature(feature, layer) {\n",
       "            layer.on({\n",
       "                mouseout: function(e) {\n",
       "                    if(typeof e.target.setStyle === &quot;function&quot;){\n",
       "                            geo_json_09484830716b65d5642d5f645e7a1747.resetStyle(e.target);\n",
       "                    }\n",
       "                },\n",
       "                mouseover: function(e) {\n",
       "                    if(typeof e.target.setStyle === &quot;function&quot;){\n",
       "                        const highlightStyle = geo_json_09484830716b65d5642d5f645e7a1747_highlighter(e.target.feature)\n",
       "                        e.target.setStyle(highlightStyle);\n",
       "                    }\n",
       "                },\n",
       "            });\n",
       "        };\n",
       "        var geo_json_09484830716b65d5642d5f645e7a1747 = L.geoJson(null, {\n",
       "                onEachFeature: geo_json_09484830716b65d5642d5f645e7a1747_onEachFeature,\n",
       "            \n",
       "                style: geo_json_09484830716b65d5642d5f645e7a1747_styler,\n",
       "                pointToLayer: geo_json_09484830716b65d5642d5f645e7a1747_pointToLayer,\n",
       "            ...{\n",
       "}\n",
       "        });\n",
       "\n",
       "        function geo_json_09484830716b65d5642d5f645e7a1747_add (data) {\n",
       "            geo_json_09484830716b65d5642d5f645e7a1747\n",
       "                .addData(data);\n",
       "        }\n",
       "            geo_json_09484830716b65d5642d5f645e7a1747_add({&quot;bbox&quot;: [-73.92234, 40.81536, -73.888374, 40.83022], &quot;features&quot;: [{&quot;bbox&quot;: [-73.888374, 40.81536, -73.888374, 40.81536], &quot;geometry&quot;: {&quot;coordinates&quot;: [-73.888374, 40.81536], &quot;type&quot;: &quot;Point&quot;}, &quot;id&quot;: &quot;0&quot;, &quot;properties&quot;: {&quot;last_seen&quot;: 1740681021, &quot;latitude&quot;: 40.81536, &quot;longitude&quot;: -73.888374, &quot;name&quot;: &quot;SIS-roof&quot;, &quot;position_rating&quot;: 5, &quot;sensor_index&quot;: 90283}, &quot;type&quot;: &quot;Feature&quot;}, {&quot;bbox&quot;: [-73.92234, 40.83022, -73.92234, 40.83022], &quot;geometry&quot;: {&quot;coordinates&quot;: [-73.92234, 40.83022], &quot;type&quot;: &quot;Point&quot;}, &quot;id&quot;: &quot;1&quot;, &quot;properties&quot;: {&quot;last_seen&quot;: 1740680844, &quot;latitude&quot;: 40.83022, &quot;longitude&quot;: -73.92234, &quot;name&quot;: &quot;FA-AHo&quot;, &quot;position_rating&quot;: 5, &quot;sensor_index&quot;: 90389}, &quot;type&quot;: &quot;Feature&quot;}, {&quot;bbox&quot;: [-73.9219, 40.83016, -73.9219, 40.83016], &quot;geometry&quot;: {&quot;coordinates&quot;: [-73.9219, 40.83016], &quot;type&quot;: &quot;Point&quot;}, &quot;id&quot;: &quot;2&quot;, &quot;properties&quot;: {&quot;last_seen&quot;: 1740681021, &quot;latitude&quot;: 40.83016, &quot;longitude&quot;: -73.9219, &quot;name&quot;: &quot;FA-O7&quot;, &quot;position_rating&quot;: 5, &quot;sensor_index&quot;: 91899}, &quot;type&quot;: &quot;Feature&quot;}], &quot;type&quot;: &quot;FeatureCollection&quot;});\n",
       "\n",
       "        \n",
       "    \n",
       "    geo_json_09484830716b65d5642d5f645e7a1747.bindTooltip(\n",
       "    function(layer){\n",
       "    let div = L.DomUtil.create(&#x27;div&#x27;);\n",
       "    \n",
       "    let handleObject = feature=&gt;typeof(feature)==&#x27;object&#x27; ? JSON.stringify(feature) : feature;\n",
       "    let fields = [&quot;sensor_index&quot;, &quot;last_seen&quot;, &quot;name&quot;, &quot;position_rating&quot;, &quot;latitude&quot;, &quot;longitude&quot;];\n",
       "    let aliases = [&quot;sensor_index&quot;, &quot;last_seen&quot;, &quot;name&quot;, &quot;position_rating&quot;, &quot;latitude&quot;, &quot;longitude&quot;];\n",
       "    let table = &#x27;&lt;table&gt;&#x27; +\n",
       "        String(\n",
       "        fields.map(\n",
       "        (v,i)=&gt;\n",
       "        `&lt;tr&gt;\n",
       "            &lt;th&gt;${aliases[i]}&lt;/th&gt;\n",
       "            \n",
       "            &lt;td&gt;${handleObject(layer.feature.properties[v])}&lt;/td&gt;\n",
       "        &lt;/tr&gt;`).join(&#x27;&#x27;))\n",
       "    +&#x27;&lt;/table&gt;&#x27;;\n",
       "    div.innerHTML=table;\n",
       "    \n",
       "    return div\n",
       "    }\n",
       "    ,{\n",
       "  &quot;sticky&quot;: true,\n",
       "  &quot;className&quot;: &quot;foliumtooltip&quot;,\n",
       "});\n",
       "                     \n",
       "    \n",
       "            geo_json_09484830716b65d5642d5f645e7a1747.addTo(map_5a2720d87a3355e9facefa3f722897b0);\n",
       "        \n",
       "&lt;/script&gt;\n",
       "&lt;/html&gt;\" style=\"position:absolute;width:100%;height:100%;left:0;top:0;border:none !important;\" allowfullscreen webkitallowfullscreen mozallowfullscreen></iframe></div></div>"
      ],
      "text/plain": [
       "<folium.folium.Map at 0x16b55ba10>"
      ]
     },
     "execution_count": 23,
     "metadata": {},
     "output_type": "execute_result"
    }
   ],
   "source": [
    "import matplotlib.pyplot as plt\n",
    "import folium\n",
    "# map to show the sensors\n",
    "# TODO: expand bounding box\n",
    "gdf.explore()\n"
   ]
  },
  {
   "cell_type": "code",
   "execution_count": null,
   "metadata": {},
   "outputs": [],
   "source": []
  }
 ],
 "metadata": {
  "kernelspec": {
   "display_name": "Python 3",
   "language": "python",
   "name": "python3"
  },
  "language_info": {
   "codemirror_mode": {
    "name": "ipython",
    "version": 3
   },
   "file_extension": ".py",
   "mimetype": "text/x-python",
   "name": "python",
   "nbconvert_exporter": "python",
   "pygments_lexer": "ipython3",
   "version": "3.12.9"
  }
 },
 "nbformat": 4,
 "nbformat_minor": 2
}
