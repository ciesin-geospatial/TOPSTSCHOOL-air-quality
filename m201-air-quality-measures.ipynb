{
 "cells": [
  {
   "cell_type": "markdown",
   "metadata": {},
   "source": [
    "## PurpleAir Data\n",
    "Data are available via PurpleAir's API. You will need to use a gmail account and create an API key via [this dashboard](https://develop.purpleair.com/sign-in?redirectURL=%2Fdashboards%2Fkeys). You should create a \"Read\" key that has a status of \"Enabled\". It's a good idea to add a label, host restrictions restrict the use of the key to certain machines, you do not need to set these. \n",
    "\n",
    "TODO: insert screen shot image\n",
    "\n",
    "Once you have generated your key, you can \"read\" the key value to use in making requests. First, run the cell below and enter the key you generated when prompted. \n",
    "\n",
    "If you do not have a Gmail account, or you don't want to set up an API, sample data shown here have been saved as part of the repository and can be used directly, just skip down to [insert section]"
   ]
  },
  {
   "cell_type": "code",
   "execution_count": 1,
   "metadata": {},
   "outputs": [],
   "source": [
    "# imports\n",
    "import datetime\n",
    "import getpass\n",
    "import requests\n",
    "\n",
    "\n",
    "import geopandas as gpd\n",
    "import pandas as pd\n"
   ]
  },
  {
   "cell_type": "code",
   "execution_count": 2,
   "metadata": {},
   "outputs": [],
   "source": [
    "\n",
    "api_key = getpass.getpass(\"Enter your API key: \")"
   ]
  },
  {
   "cell_type": "markdown",
   "metadata": {},
   "source": [
    "Test your API key by running the code below. It should show the message \"Key submit was successful\" if your key is valid. "
   ]
  },
  {
   "cell_type": "code",
   "execution_count": null,
   "metadata": {},
   "outputs": [],
   "source": [
    "url = \"https://api.purpleair.com/v1/keys\"\n",
    "\n",
    "headers = {\n",
    "    \"X-API-Key\": api_key \n",
    "}\n",
    "\n",
    "response = requests.get(url, headers=headers)\n",
    "\n",
    "if response.status_code == 201:\n",
    "    print('Key submit was successful')\n",
    "    data = response.json()\n",
    "    print(data)\n",
    "else:\n",
    "    print(f\"Request failed with status code: {response.status_code}\")"
   ]
  },
  {
   "cell_type": "markdown",
   "metadata": {},
   "source": [
    "If the API key is valid, a bounding box can be used to search for sensors. The coordinates in the cell below represent the longitude and latitude of the northwest and southeast corners of a box that encloses the South Bronx. The API request returns the identifiers of sensors within that bounding box. "
   ]
  },
  {
   "cell_type": "code",
   "execution_count": 3,
   "metadata": {},
   "outputs": [
    {
     "name": "stdout",
     "output_type": "stream",
     "text": [
      "Success\n",
      "Request returned 8 sensors\n"
     ]
    }
   ],
   "source": [
    "# corner latitude and longitudes in decimal degrees\n",
    "nwlat = 40.9\n",
    "nwlng = -73.933\n",
    "selat = 40.80\n",
    "selng = -73.78\n",
    "\n",
    "url = 'https://api.purpleair.com/v1/sensors'\n",
    "\n",
    "headers = {\"X-API-Key\": api_key}\n",
    "\n",
    "params = {\n",
    "    'fields':'name,latitude,longitude,position_rating,last_seen,date_created',\n",
    "    'location_type':0,\n",
    "    'nwlng':nwlng,\n",
    "    'nwlat':nwlat,\n",
    "    'selng':selng,\n",
    "    'selat':selat\n",
    "\n",
    "}\n",
    "\n",
    "with requests.get(url, headers=headers, params=params) as response:\n",
    "\n",
    "    if response.status_code == 200:\n",
    "        print('Success')\n",
    "        data = response.json()\n",
    "        print(f'Request returned {len(data)} sensors')\n",
    "    else:\n",
    "        print(f\"Request failed with status code: {response.status_code}\")\n",
    "        print(response)\n"
   ]
  },
  {
   "cell_type": "markdown",
   "metadata": {},
   "source": [
    "We can convert the sensor list to a dataframe and save it for future use. "
   ]
  },
  {
   "cell_type": "code",
   "execution_count": null,
   "metadata": {},
   "outputs": [
    {
     "name": "stdout",
     "output_type": "stream",
     "text": [
      "(10, 8)\n"
     ]
    }
   ],
   "source": [
    "df = pd.DataFrame(data['data'], columns=data['fields'])\n",
    "gdf = gpd.GeoDataFrame(\n",
    "    df,\n",
    "    geometry=gpd.points_from_xy(df.longitude, df.latitude), \n",
    "    crs=\"EPSG:4326\"\n",
    ")\n",
    "\n",
    "print(gdf.shape)\n",
    "gdf.to_parquet('./SouthBronxSensors.parquet', engine='pyarrow', compression='snappy')\n"
   ]
  },
  {
   "cell_type": "markdown",
   "metadata": {},
   "source": [
    "If the data didn't download properly, or you cannot set up an API key, you can uncomment the code below will load the locally saved version of the file. "
   ]
  },
  {
   "cell_type": "code",
   "execution_count": 4,
   "metadata": {},
   "outputs": [
    {
     "name": "stdout",
     "output_type": "stream",
     "text": [
      "(10, 8)\n"
     ]
    },
    {
     "data": {
      "text/html": [
       "<div>\n",
       "<style scoped>\n",
       "    .dataframe tbody tr th:only-of-type {\n",
       "        vertical-align: middle;\n",
       "    }\n",
       "\n",
       "    .dataframe tbody tr th {\n",
       "        vertical-align: top;\n",
       "    }\n",
       "\n",
       "    .dataframe thead th {\n",
       "        text-align: right;\n",
       "    }\n",
       "</style>\n",
       "<table border=\"1\" class=\"dataframe\">\n",
       "  <thead>\n",
       "    <tr style=\"text-align: right;\">\n",
       "      <th></th>\n",
       "      <th>sensor_index</th>\n",
       "      <th>date_created</th>\n",
       "      <th>last_seen</th>\n",
       "      <th>name</th>\n",
       "      <th>position_rating</th>\n",
       "      <th>latitude</th>\n",
       "      <th>longitude</th>\n",
       "      <th>geometry</th>\n",
       "    </tr>\n",
       "  </thead>\n",
       "  <tbody>\n",
       "    <tr>\n",
       "      <th>0</th>\n",
       "      <td>90249</td>\n",
       "      <td>1605560768</td>\n",
       "      <td>1743086164</td>\n",
       "      <td>FreshAir-O4</td>\n",
       "      <td>3</td>\n",
       "      <td>40.861225</td>\n",
       "      <td>-73.890160</td>\n",
       "      <td>POINT (-73.89016 40.86122)</td>\n",
       "    </tr>\n",
       "    <tr>\n",
       "      <th>1</th>\n",
       "      <td>90283</td>\n",
       "      <td>1605561111</td>\n",
       "      <td>1743086143</td>\n",
       "      <td>SIS-roof</td>\n",
       "      <td>5</td>\n",
       "      <td>40.815360</td>\n",
       "      <td>-73.888374</td>\n",
       "      <td>POINT (-73.88837 40.81536)</td>\n",
       "    </tr>\n",
       "    <tr>\n",
       "      <th>2</th>\n",
       "      <td>90389</td>\n",
       "      <td>1605561629</td>\n",
       "      <td>1743086130</td>\n",
       "      <td>FA-AHo</td>\n",
       "      <td>5</td>\n",
       "      <td>40.830220</td>\n",
       "      <td>-73.922340</td>\n",
       "      <td>POINT (-73.92234 40.83022)</td>\n",
       "    </tr>\n",
       "    <tr>\n",
       "      <th>3</th>\n",
       "      <td>91423</td>\n",
       "      <td>1605893083</td>\n",
       "      <td>1743086164</td>\n",
       "      <td>FA-O2b</td>\n",
       "      <td>5</td>\n",
       "      <td>40.861134</td>\n",
       "      <td>-73.891556</td>\n",
       "      <td>POINT (-73.89156 40.86113)</td>\n",
       "    </tr>\n",
       "    <tr>\n",
       "      <th>4</th>\n",
       "      <td>91899</td>\n",
       "      <td>1606157681</td>\n",
       "      <td>1743086204</td>\n",
       "      <td>FA-O7</td>\n",
       "      <td>5</td>\n",
       "      <td>40.830160</td>\n",
       "      <td>-73.921900</td>\n",
       "      <td>POINT (-73.9219 40.83016)</td>\n",
       "    </tr>\n",
       "  </tbody>\n",
       "</table>\n",
       "</div>"
      ],
      "text/plain": [
       "   sensor_index  date_created   last_seen         name  position_rating  \\\n",
       "0         90249    1605560768  1743086164  FreshAir-O4                3   \n",
       "1         90283    1605561111  1743086143     SIS-roof                5   \n",
       "2         90389    1605561629  1743086130       FA-AHo                5   \n",
       "3         91423    1605893083  1743086164       FA-O2b                5   \n",
       "4         91899    1606157681  1743086204        FA-O7                5   \n",
       "\n",
       "    latitude  longitude                    geometry  \n",
       "0  40.861225 -73.890160  POINT (-73.89016 40.86122)  \n",
       "1  40.815360 -73.888374  POINT (-73.88837 40.81536)  \n",
       "2  40.830220 -73.922340  POINT (-73.92234 40.83022)  \n",
       "3  40.861134 -73.891556  POINT (-73.89156 40.86113)  \n",
       "4  40.830160 -73.921900   POINT (-73.9219 40.83016)  "
      ]
     },
     "execution_count": 4,
     "metadata": {},
     "output_type": "execute_result"
    }
   ],
   "source": [
    "gdf = gpd.read_parquet('./SouthBronxSensors.parquet')\n",
    "print(gdf.shape)\n",
    "gdf.head()\n"
   ]
  },
  {
   "cell_type": "code",
   "execution_count": 5,
   "metadata": {},
   "outputs": [],
   "source": [
    "# map to show the sensors\n",
    "#gdf.explore()\n"
   ]
  },
  {
   "cell_type": "markdown",
   "metadata": {},
   "source": [
    "With several sensors available, data can be pulled from the API. First, we can look at the sensors date created and last date collected to see if they are likely to have data in the time period we are interested in. Pandas, a library for working with datatables, has a helper method to convert the timestamp in the data from seconds to a human-readable date and time. "
   ]
  },
  {
   "cell_type": "code",
   "execution_count": 6,
   "metadata": {},
   "outputs": [
    {
     "name": "stdout",
     "output_type": "stream",
     "text": [
      "Date Created:\n",
      "0   2020-11-16 21:06:08\n",
      "1   2020-11-16 21:11:51\n",
      "2   2020-11-16 21:20:29\n",
      "3   2020-11-20 17:24:43\n",
      "4   2020-11-23 18:54:41\n",
      "5   2020-11-24 17:25:14\n",
      "6   2020-11-24 17:25:22\n",
      "7   2022-11-29 19:05:50\n",
      "8   2023-12-27 16:41:38\n",
      "9   2024-03-27 19:17:52\n",
      "Name: date_created, dtype: datetime64[ns]\n",
      "\n",
      "Date Last Seen:\n",
      "0   2025-03-27 14:36:04\n",
      "1   2025-03-27 14:35:43\n",
      "2   2025-03-27 14:35:30\n",
      "3   2025-03-27 14:36:04\n",
      "4   2025-03-27 14:36:44\n",
      "5   2025-03-27 14:36:15\n",
      "6   2025-03-27 14:35:50\n",
      "7   2025-03-27 13:54:05\n",
      "8   2025-03-27 14:35:26\n",
      "9   2025-03-27 14:35:40\n",
      "Name: last_seen, dtype: datetime64[ns]\n"
     ]
    }
   ],
   "source": [
    "# date_created is when the sensor was set up in the database, last_seen\n",
    "# is the date & time for the last sensor recording\n",
    "print('Date Created:')\n",
    "print(pd.to_datetime(gdf.date_created, unit='s'))\n",
    "print('\\nDate Last Seen:')\n",
    "print(pd.to_datetime(gdf.last_seen, unit='s'))"
   ]
  },
  {
   "cell_type": "markdown",
   "metadata": {},
   "source": [
    "From this, it can be seen that all of the sensors were created before the fires, and all have collected data recently. Next, the code below will retrieve data from one of the sensors for the date of the event. \n",
    "\n",
    "To retrieve data, the sensor ID is used to construct a new request, including the columns we want to include and the date/time range from which to get data. "
   ]
  },
  {
   "cell_type": "code",
   "execution_count": 18,
   "metadata": {},
   "outputs": [],
   "source": [
    "# TODO: turn comments into table above\n",
    "fields = [\n",
    "    'pm2.5_alt',        #Estimated mass concentration PM2.5 (µg/m³).\n",
    "    'pm2.5_atm',        #Estimated mass concentration PM2.5 (µg/m³) (raw value).\n",
    "    'humidity',         #Relative humidity inside of the sensor housing (%). This matches the \"Raw Humidity\" map layer and on average is 4% lower than ambient conditions.\n",
    "    'temperature',      #Temperature inside of the sensor housing (F). This matches the \"Raw Temperature\" map layer and on average is 8°F higher than ambient conditions.\n",
    "    'pressure',         #Current pressure in Millibars.\n",
    "]"
   ]
  },
  {
   "cell_type": "code",
   "execution_count": 22,
   "metadata": {},
   "outputs": [
    {
     "name": "stdout",
     "output_type": "stream",
     "text": [
      "Success\n",
      "9\n"
     ]
    }
   ],
   "source": [
    "# TODO: retrieve time fields with data\n",
    "\n",
    "start_date = datetime.datetime(2024,11,7).timestamp()\n",
    "end_date = datetime.datetime(2024,11,10).timestamp()\n",
    "\n",
    "sensor_ids = gdf.sensor_index.values\n",
    "# get the first id for testing\n",
    "id = sensor_ids[1]\n",
    "\n",
    "# dictionary to hold returned sensor data\n",
    "sensor_data = {}\n",
    "# construct a request\n",
    "# update the url, it is the API sensor url with :sensor after the end of the base URL\n",
    "url = f\"https://api.purpleair.com/v1/sensors/{id}/history\" \n",
    "\n",
    "# new parameters\n",
    "params = {\n",
    "    # 'sensor_index':id, # encoded in URL\n",
    "    'fields':\",\".join(fields),\n",
    "    'start_timestamp':start_date,\n",
    "    'end_timestamp':end_date,\n",
    "\n",
    "}\n",
    "\n",
    "with requests.get(url=url, headers=headers, params=params) as response:\n",
    "\n",
    "    if response.status_code == 200 or response.status_code == 201:\n",
    "        print('Success')\n",
    "        sensor_data = response.json()\n",
    "        print(len(sensor_data))\n",
    "\n",
    "\n",
    "    else:\n",
    "        print(f\"Request failed with status code: {response.status_code}\")\n",
    "        print(response.text)"
   ]
  },
  {
   "cell_type": "code",
   "execution_count": 23,
   "metadata": {},
   "outputs": [
    {
     "name": "stdout",
     "output_type": "stream",
     "text": [
      "(0, 6)\n"
     ]
    },
    {
     "data": {
      "text/html": [
       "<div>\n",
       "<style scoped>\n",
       "    .dataframe tbody tr th:only-of-type {\n",
       "        vertical-align: middle;\n",
       "    }\n",
       "\n",
       "    .dataframe tbody tr th {\n",
       "        vertical-align: top;\n",
       "    }\n",
       "\n",
       "    .dataframe thead th {\n",
       "        text-align: right;\n",
       "    }\n",
       "</style>\n",
       "<table border=\"1\" class=\"dataframe\">\n",
       "  <thead>\n",
       "    <tr style=\"text-align: right;\">\n",
       "      <th></th>\n",
       "      <th>time_stamp</th>\n",
       "      <th>humidity</th>\n",
       "      <th>temperature</th>\n",
       "      <th>pressure</th>\n",
       "      <th>pm2.5_alt</th>\n",
       "      <th>pm2.5_atm</th>\n",
       "    </tr>\n",
       "  </thead>\n",
       "  <tbody>\n",
       "  </tbody>\n",
       "</table>\n",
       "</div>"
      ],
      "text/plain": [
       "Empty DataFrame\n",
       "Columns: [time_stamp, humidity, temperature, pressure, pm2.5_alt, pm2.5_atm]\n",
       "Index: []"
      ]
     },
     "execution_count": 23,
     "metadata": {},
     "output_type": "execute_result"
    }
   ],
   "source": [
    "df_sensor = pd.DataFrame(data = sensor_data.get('data'), columns=sensor_data.get('fields'))\n",
    "print(df_sensor.shape)\n",
    "df_sensor.head()\n",
    "# sample_data = history_data.get('data')\n",
    "# type(sample_data)"
   ]
  },
  {
   "cell_type": "code",
   "execution_count": 25,
   "metadata": {},
   "outputs": [
    {
     "data": {
      "text/plain": [
       "[]"
      ]
     },
     "execution_count": 25,
     "metadata": {},
     "output_type": "execute_result"
    }
   ],
   "source": [
    "sensor_data.get('data')\n"
   ]
  },
  {
   "cell_type": "code",
   "execution_count": null,
   "metadata": {},
   "outputs": [],
   "source": []
  }
 ],
 "metadata": {
  "kernelspec": {
   "display_name": "Python 3",
   "language": "python",
   "name": "python3"
  },
  "language_info": {
   "codemirror_mode": {
    "name": "ipython",
    "version": 3
   },
   "file_extension": ".py",
   "mimetype": "text/x-python",
   "name": "python",
   "nbconvert_exporter": "python",
   "pygments_lexer": "ipython3",
   "version": "3.12.9"
  }
 },
 "nbformat": 4,
 "nbformat_minor": 2
}
