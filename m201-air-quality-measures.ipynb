{
 "cells": [
  {
   "cell_type": "markdown",
   "metadata": {},
   "source": [
    "## PurpleAir Data\n",
    "Data are available via PurpleAir's API. You will need to use a gmail account and create an API key via [this dashboard](https://develop.purpleair.com/sign-in?redirectURL=%2Fdashboards%2Fkeys). You should create a \"Read\" key that has a status of \"Enabled\". It's a good idea to add a label, host restrictions restrict the use of the key to certain machines, you do not need to set these. \n",
    "\n",
    "TODO: insert screen shot image\n",
    "\n",
    "Once you have generated your key, you can \"read\" the key value to use in making requests. First, run the cell below and enter the key you generated when prompted. "
   ]
  },
  {
   "cell_type": "code",
   "execution_count": 1,
   "metadata": {},
   "outputs": [],
   "source": [
    "import getpass\n",
    "\n",
    "api_key = getpass.getpass(\"Enter your API key: \")"
   ]
  },
  {
   "cell_type": "markdown",
   "metadata": {},
   "source": [
    "Test your API key by running the code below. It should show the message \"Key submit was successful\" if your key is valid. "
   ]
  },
  {
   "cell_type": "code",
   "execution_count": 8,
   "metadata": {},
   "outputs": [
    {
     "name": "stdout",
     "output_type": "stream",
     "text": [
      "Key submit was successful\n",
      "{'api_version': 'V1.0.14-0.0.58', 'time_stamp': 1738866214, 'api_key_type': 'READ'}\n"
     ]
    }
   ],
   "source": [
    "import requests\n",
    "\n",
    "url = \"https://api.purpleair.com/v1/keys\"\n",
    "\n",
    "headers = {\n",
    "    \"X-API-Key\": api_key \n",
    "}\n",
    "\n",
    "response = requests.get(url, headers=headers)\n",
    "\n",
    "if response.status_code == 201:\n",
    "    print('Key submit was successful')\n",
    "    data = response.json()\n",
    "    print(data)\n",
    "else:\n",
    "    print(f\"Request failed with status code: {response.status_code}\")"
   ]
  },
  {
   "cell_type": "markdown",
   "metadata": {},
   "source": [
    "If the API key is valid, a bounding box can be used to search for sensors. The coordinates in the cell below represent the longitude and latitude of the northwest and southeast corners of a box that encloses the South Bronx. The API request returns the identifiers of sensors within that bounding box. "
   ]
  },
  {
   "cell_type": "code",
   "execution_count": null,
   "metadata": {},
   "outputs": [],
   "source": [
    "# corner latitude and longitudes in decimal degrees\n",
    "nwlat = 40.833\n",
    "nwlng = -73.933\n",
    "selat = 40.783\n",
    "selng = -73.783\n",
    "\n",
    "url = 'https://api.purpleair.com/v1/sensors'\n",
    "\n",
    "headers = {\"X-API-Key\": api_key}\n",
    "\n",
    "\n"
   ]
  }
 ],
 "metadata": {
  "kernelspec": {
   "display_name": "Python 3",
   "language": "python",
   "name": "python3"
  },
  "language_info": {
   "codemirror_mode": {
    "name": "ipython",
    "version": 3
   },
   "file_extension": ".py",
   "mimetype": "text/x-python",
   "name": "python",
   "nbconvert_exporter": "python",
   "pygments_lexer": "ipython3",
   "version": "3.12.8"
  }
 },
 "nbformat": 4,
 "nbformat_minor": 2
}
