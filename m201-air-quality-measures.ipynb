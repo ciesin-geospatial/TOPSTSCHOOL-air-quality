{
 "cells": [
  {
   "cell_type": "markdown",
   "metadata": {},
   "source": [
    "## PurpleAir Data\n",
    "Data are available via PurpleAir's API. You will need to use a gmail account and create an API key via [this dashboard](https://develop.purpleair.com/sign-in?redirectURL=%2Fdashboards%2Fkeys). You should create a \"Read\" key that has a status of \"Enabled\". It's a good idea to add a label, host restrictions restrict the use of the key to certain machines, you do not need to set these. \n",
    "\n",
    "TODO: insert screen shot image\n",
    "\n",
    "Once you have generated your key, you can \"read\" the key value to use in making requests. First, run the cell below and enter the key you generated when prompted. "
   ]
  },
  {
   "cell_type": "code",
   "execution_count": 68,
   "metadata": {},
   "outputs": [],
   "source": [
    "import getpass\n",
    "\n",
    "api_key = getpass.getpass(\"Enter your API key: \")"
   ]
  },
  {
   "cell_type": "markdown",
   "metadata": {},
   "source": [
    "Test your API key by running the code below. It should show the message \"Key submit was successful\" if your key is valid. "
   ]
  },
  {
   "cell_type": "code",
   "execution_count": 69,
   "metadata": {},
   "outputs": [
    {
     "name": "stdout",
     "output_type": "stream",
     "text": [
      "Request failed with status code: 403\n"
     ]
    }
   ],
   "source": [
    "import requests\n",
    "\n",
    "url = \"https://api.purpleair.com/v1/keys\"\n",
    "\n",
    "headers = {\n",
    "    \"X-API-Key\": api_key \n",
    "}\n",
    "\n",
    "response = requests.get(url, headers=headers)\n",
    "\n",
    "if response.status_code == 201:\n",
    "    print('Key submit was successful')\n",
    "    data = response.json()\n",
    "    print(data)\n",
    "else:\n",
    "    print(f\"Request failed with status code: {response.status_code}\")"
   ]
  },
  {
   "cell_type": "markdown",
   "metadata": {},
   "source": [
    "If the API key is valid, a bounding box can be used to search for sensors. The coordinates in the cell below represent the longitude and latitude of the northwest and southeast corners of a box that encloses the South Bronx. The API request returns the identifiers of sensors within that bounding box. "
   ]
  },
  {
   "cell_type": "code",
   "execution_count": 70,
   "metadata": {},
   "outputs": [
    {
     "name": "stdout",
     "output_type": "stream",
     "text": [
      "Request failed with status code: 403\n"
     ]
    }
   ],
   "source": [
    "# corner latitude and longitudes in decimal degrees\n",
    "nwlat = 40.9\n",
    "nwlng = -73.933\n",
    "selat = 40.80\n",
    "selng = -73.78\n",
    "\n",
    "url = 'https://api.purpleair.com/v1/sensors'\n",
    "\n",
    "headers = {\"X-API-Key\": api_key}\n",
    "\n",
    "params = {\n",
    "    'fields':'name,latitude,longitude,position_rating,last_seen,date_created',\n",
    "    'location_type':0,\n",
    "    'nwlng':nwlng,\n",
    "    'nwlat':nwlat,\n",
    "    'selng':selng,\n",
    "    'selat':selat\n",
    "\n",
    "}\n",
    "\n",
    "with requests.get(url, headers=headers, params=params) as response:\n",
    "\n",
    "    if response.status_code == 200:\n",
    "        print('Success')\n",
    "        data = response.json()\n",
    "        print(data)\n",
    "    else:\n",
    "        print(f\"Request failed with status code: {response.status_code}\")\n"
   ]
  },
  {
   "cell_type": "code",
   "execution_count": 71,
   "metadata": {},
   "outputs": [
    {
     "data": {
      "text/plain": [
       "11"
      ]
     },
     "execution_count": 71,
     "metadata": {},
     "output_type": "execute_result"
    }
   ],
   "source": [
    "len(data['data'])"
   ]
  },
  {
   "cell_type": "code",
   "execution_count": 72,
   "metadata": {},
   "outputs": [
    {
     "data": {
      "text/plain": [
       "[90249, 1605560768, 1741285472, 'FreshAir-O4', 3, 40.861225, -73.89016]"
      ]
     },
     "execution_count": 72,
     "metadata": {},
     "output_type": "execute_result"
    }
   ],
   "source": [
    "data['data'][0]"
   ]
  },
  {
   "cell_type": "code",
   "execution_count": 73,
   "metadata": {},
   "outputs": [],
   "source": [
    "import pandas as pd\n",
    "import geopandas as gpd"
   ]
  },
  {
   "cell_type": "code",
   "execution_count": 74,
   "metadata": {},
   "outputs": [
    {
     "name": "stdout",
     "output_type": "stream",
     "text": [
      "(11, 8)\n"
     ]
    }
   ],
   "source": [
    "df = pd.DataFrame(data['data'], columns=data['fields'])\n",
    "gdf = gpd.GeoDataFrame(\n",
    "    df,\n",
    "    geometry=gpd.points_from_xy(df.longitude, df.latitude), \n",
    "    crs=\"EPSG:4326\"\n",
    ")\n",
    "\n",
    "print(gdf.shape)"
   ]
  },
  {
   "cell_type": "code",
   "execution_count": 75,
   "metadata": {},
   "outputs": [
    {
     "data": {
      "text/html": [
       "<div style=\"width:100%;\"><div style=\"position:relative;width:100%;height:0;padding-bottom:60%;\"><span style=\"color:#565656\">Make this Notebook Trusted to load map: File -> Trust Notebook</span><iframe srcdoc=\"&lt;!DOCTYPE html&gt;\n",
       "&lt;html&gt;\n",
       "&lt;head&gt;\n",
       "    \n",
       "    &lt;meta http-equiv=&quot;content-type&quot; content=&quot;text/html; charset=UTF-8&quot; /&gt;\n",
       "    \n",
       "        &lt;script&gt;\n",
       "            L_NO_TOUCH = false;\n",
       "            L_DISABLE_3D = false;\n",
       "        &lt;/script&gt;\n",
       "    \n",
       "    &lt;style&gt;html, body {width: 100%;height: 100%;margin: 0;padding: 0;}&lt;/style&gt;\n",
       "    &lt;style&gt;#map {position:absolute;top:0;bottom:0;right:0;left:0;}&lt;/style&gt;\n",
       "    &lt;script src=&quot;https://cdn.jsdelivr.net/npm/leaflet@1.9.3/dist/leaflet.js&quot;&gt;&lt;/script&gt;\n",
       "    &lt;script src=&quot;https://code.jquery.com/jquery-3.7.1.min.js&quot;&gt;&lt;/script&gt;\n",
       "    &lt;script src=&quot;https://cdn.jsdelivr.net/npm/bootstrap@5.2.2/dist/js/bootstrap.bundle.min.js&quot;&gt;&lt;/script&gt;\n",
       "    &lt;script src=&quot;https://cdnjs.cloudflare.com/ajax/libs/Leaflet.awesome-markers/2.0.2/leaflet.awesome-markers.js&quot;&gt;&lt;/script&gt;\n",
       "    &lt;link rel=&quot;stylesheet&quot; href=&quot;https://cdn.jsdelivr.net/npm/leaflet@1.9.3/dist/leaflet.css&quot;/&gt;\n",
       "    &lt;link rel=&quot;stylesheet&quot; href=&quot;https://cdn.jsdelivr.net/npm/bootstrap@5.2.2/dist/css/bootstrap.min.css&quot;/&gt;\n",
       "    &lt;link rel=&quot;stylesheet&quot; href=&quot;https://netdna.bootstrapcdn.com/bootstrap/3.0.0/css/bootstrap-glyphicons.css&quot;/&gt;\n",
       "    &lt;link rel=&quot;stylesheet&quot; href=&quot;https://cdn.jsdelivr.net/npm/@fortawesome/fontawesome-free@6.2.0/css/all.min.css&quot;/&gt;\n",
       "    &lt;link rel=&quot;stylesheet&quot; href=&quot;https://cdnjs.cloudflare.com/ajax/libs/Leaflet.awesome-markers/2.0.2/leaflet.awesome-markers.css&quot;/&gt;\n",
       "    &lt;link rel=&quot;stylesheet&quot; href=&quot;https://cdn.jsdelivr.net/gh/python-visualization/folium/folium/templates/leaflet.awesome.rotate.min.css&quot;/&gt;\n",
       "    \n",
       "            &lt;meta name=&quot;viewport&quot; content=&quot;width=device-width,\n",
       "                initial-scale=1.0, maximum-scale=1.0, user-scalable=no&quot; /&gt;\n",
       "            &lt;style&gt;\n",
       "                #map_956de613c437ba89f866215b12dee834 {\n",
       "                    position: relative;\n",
       "                    width: 100.0%;\n",
       "                    height: 100.0%;\n",
       "                    left: 0.0%;\n",
       "                    top: 0.0%;\n",
       "                }\n",
       "                .leaflet-container { font-size: 1rem; }\n",
       "            &lt;/style&gt;\n",
       "        \n",
       "    \n",
       "                    &lt;style&gt;\n",
       "                        .foliumtooltip {\n",
       "                            \n",
       "                        }\n",
       "                       .foliumtooltip table{\n",
       "                            margin: auto;\n",
       "                        }\n",
       "                        .foliumtooltip tr{\n",
       "                            text-align: left;\n",
       "                        }\n",
       "                        .foliumtooltip th{\n",
       "                            padding: 2px; padding-right: 8px;\n",
       "                        }\n",
       "                    &lt;/style&gt;\n",
       "            \n",
       "&lt;/head&gt;\n",
       "&lt;body&gt;\n",
       "    \n",
       "    \n",
       "            &lt;div class=&quot;folium-map&quot; id=&quot;map_956de613c437ba89f866215b12dee834&quot; &gt;&lt;/div&gt;\n",
       "        \n",
       "&lt;/body&gt;\n",
       "&lt;script&gt;\n",
       "    \n",
       "    \n",
       "            var map_956de613c437ba89f866215b12dee834 = L.map(\n",
       "                &quot;map_956de613c437ba89f866215b12dee834&quot;,\n",
       "                {\n",
       "                    center: [40.850637, -73.90870000000001],\n",
       "                    crs: L.CRS.EPSG3857,\n",
       "                    ...{\n",
       "  &quot;zoom&quot;: 10,\n",
       "  &quot;zoomControl&quot;: true,\n",
       "  &quot;preferCanvas&quot;: false,\n",
       "}\n",
       "\n",
       "                }\n",
       "            );\n",
       "            L.control.scale().addTo(map_956de613c437ba89f866215b12dee834);\n",
       "\n",
       "            \n",
       "\n",
       "        \n",
       "    \n",
       "            var tile_layer_e94e844b8e359844248d8300f0a91ada = L.tileLayer(\n",
       "                &quot;https://tile.openstreetmap.org/{z}/{x}/{y}.png&quot;,\n",
       "                {\n",
       "  &quot;minZoom&quot;: 0,\n",
       "  &quot;maxZoom&quot;: 19,\n",
       "  &quot;maxNativeZoom&quot;: 19,\n",
       "  &quot;noWrap&quot;: false,\n",
       "  &quot;attribution&quot;: &quot;\\u0026copy; \\u003ca href=\\&quot;https://www.openstreetmap.org/copyright\\&quot;\\u003eOpenStreetMap\\u003c/a\\u003e contributors&quot;,\n",
       "  &quot;subdomains&quot;: &quot;abc&quot;,\n",
       "  &quot;detectRetina&quot;: false,\n",
       "  &quot;tms&quot;: false,\n",
       "  &quot;opacity&quot;: 1,\n",
       "}\n",
       "\n",
       "            );\n",
       "        \n",
       "    \n",
       "            tile_layer_e94e844b8e359844248d8300f0a91ada.addTo(map_956de613c437ba89f866215b12dee834);\n",
       "        \n",
       "    \n",
       "            map_956de613c437ba89f866215b12dee834.fitBounds(\n",
       "                [[40.81536, -73.93159], [40.885914, -73.88581]],\n",
       "                {}\n",
       "            );\n",
       "        \n",
       "    \n",
       "        function geo_json_f6c1400d5a99b1f7a0ab1c0837110a55_styler(feature) {\n",
       "            switch(feature.id) {\n",
       "                default:\n",
       "                    return {&quot;fillOpacity&quot;: 0.5, &quot;weight&quot;: 2};\n",
       "            }\n",
       "        }\n",
       "        function geo_json_f6c1400d5a99b1f7a0ab1c0837110a55_highlighter(feature) {\n",
       "            switch(feature.id) {\n",
       "                default:\n",
       "                    return {&quot;fillOpacity&quot;: 0.75};\n",
       "            }\n",
       "        }\n",
       "        function geo_json_f6c1400d5a99b1f7a0ab1c0837110a55_pointToLayer(feature, latlng) {\n",
       "            var opts = {&quot;bubblingMouseEvents&quot;: true, &quot;color&quot;: &quot;#3388ff&quot;, &quot;dashArray&quot;: null, &quot;dashOffset&quot;: null, &quot;fill&quot;: true, &quot;fillColor&quot;: &quot;#3388ff&quot;, &quot;fillOpacity&quot;: 0.2, &quot;fillRule&quot;: &quot;evenodd&quot;, &quot;lineCap&quot;: &quot;round&quot;, &quot;lineJoin&quot;: &quot;round&quot;, &quot;opacity&quot;: 1.0, &quot;radius&quot;: 2, &quot;stroke&quot;: true, &quot;weight&quot;: 3};\n",
       "            \n",
       "            let style = geo_json_f6c1400d5a99b1f7a0ab1c0837110a55_styler(feature)\n",
       "            Object.assign(opts, style)\n",
       "            \n",
       "            return new L.CircleMarker(latlng, opts)\n",
       "        }\n",
       "\n",
       "        function geo_json_f6c1400d5a99b1f7a0ab1c0837110a55_onEachFeature(feature, layer) {\n",
       "            layer.on({\n",
       "                mouseout: function(e) {\n",
       "                    if(typeof e.target.setStyle === &quot;function&quot;){\n",
       "                            geo_json_f6c1400d5a99b1f7a0ab1c0837110a55.resetStyle(e.target);\n",
       "                    }\n",
       "                },\n",
       "                mouseover: function(e) {\n",
       "                    if(typeof e.target.setStyle === &quot;function&quot;){\n",
       "                        const highlightStyle = geo_json_f6c1400d5a99b1f7a0ab1c0837110a55_highlighter(e.target.feature)\n",
       "                        e.target.setStyle(highlightStyle);\n",
       "                    }\n",
       "                },\n",
       "            });\n",
       "        };\n",
       "        var geo_json_f6c1400d5a99b1f7a0ab1c0837110a55 = L.geoJson(null, {\n",
       "                onEachFeature: geo_json_f6c1400d5a99b1f7a0ab1c0837110a55_onEachFeature,\n",
       "            \n",
       "                style: geo_json_f6c1400d5a99b1f7a0ab1c0837110a55_styler,\n",
       "                pointToLayer: geo_json_f6c1400d5a99b1f7a0ab1c0837110a55_pointToLayer,\n",
       "            ...{\n",
       "}\n",
       "        });\n",
       "\n",
       "        function geo_json_f6c1400d5a99b1f7a0ab1c0837110a55_add (data) {\n",
       "            geo_json_f6c1400d5a99b1f7a0ab1c0837110a55\n",
       "                .addData(data);\n",
       "        }\n",
       "            geo_json_f6c1400d5a99b1f7a0ab1c0837110a55_add({&quot;bbox&quot;: [-73.93159, 40.81536, -73.88581, 40.885914], &quot;features&quot;: [{&quot;bbox&quot;: [-73.89016, 40.861225, -73.89016, 40.861225], &quot;geometry&quot;: {&quot;coordinates&quot;: [-73.89016, 40.861225], &quot;type&quot;: &quot;Point&quot;}, &quot;id&quot;: &quot;0&quot;, &quot;properties&quot;: {&quot;date_created&quot;: 1605560768, &quot;last_seen&quot;: 1741285472, &quot;latitude&quot;: 40.861225, &quot;longitude&quot;: -73.89016, &quot;name&quot;: &quot;FreshAir-O4&quot;, &quot;position_rating&quot;: 3, &quot;sensor_index&quot;: 90249}, &quot;type&quot;: &quot;Feature&quot;}, {&quot;bbox&quot;: [-73.888374, 40.81536, -73.888374, 40.81536], &quot;geometry&quot;: {&quot;coordinates&quot;: [-73.888374, 40.81536], &quot;type&quot;: &quot;Point&quot;}, &quot;id&quot;: &quot;1&quot;, &quot;properties&quot;: {&quot;date_created&quot;: 1605561111, &quot;last_seen&quot;: 1741285494, &quot;latitude&quot;: 40.81536, &quot;longitude&quot;: -73.888374, &quot;name&quot;: &quot;SIS-roof&quot;, &quot;position_rating&quot;: 5, &quot;sensor_index&quot;: 90283}, &quot;type&quot;: &quot;Feature&quot;}, {&quot;bbox&quot;: [-73.92234, 40.83022, -73.92234, 40.83022], &quot;geometry&quot;: {&quot;coordinates&quot;: [-73.92234, 40.83022], &quot;type&quot;: &quot;Point&quot;}, &quot;id&quot;: &quot;2&quot;, &quot;properties&quot;: {&quot;date_created&quot;: 1605561629, &quot;last_seen&quot;: 1741285457, &quot;latitude&quot;: 40.83022, &quot;longitude&quot;: -73.92234, &quot;name&quot;: &quot;FA-AHo&quot;, &quot;position_rating&quot;: 5, &quot;sensor_index&quot;: 90389}, &quot;type&quot;: &quot;Feature&quot;}, {&quot;bbox&quot;: [-73.891556, 40.861134, -73.891556, 40.861134], &quot;geometry&quot;: {&quot;coordinates&quot;: [-73.891556, 40.861134], &quot;type&quot;: &quot;Point&quot;}, &quot;id&quot;: &quot;3&quot;, &quot;properties&quot;: {&quot;date_created&quot;: 1605893083, &quot;last_seen&quot;: 1741285437, &quot;latitude&quot;: 40.861134, &quot;longitude&quot;: -73.891556, &quot;name&quot;: &quot;FA-O2b&quot;, &quot;position_rating&quot;: 5, &quot;sensor_index&quot;: 91423}, &quot;type&quot;: &quot;Feature&quot;}, {&quot;bbox&quot;: [-73.9219, 40.83016, -73.9219, 40.83016], &quot;geometry&quot;: {&quot;coordinates&quot;: [-73.9219, 40.83016], &quot;type&quot;: &quot;Point&quot;}, &quot;id&quot;: &quot;4&quot;, &quot;properties&quot;: {&quot;date_created&quot;: 1606157681, &quot;last_seen&quot;: 1741284742, &quot;latitude&quot;: 40.83016, &quot;longitude&quot;: -73.9219, &quot;name&quot;: &quot;FA-O7&quot;, &quot;position_rating&quot;: 5, &quot;sensor_index&quot;: 91899}, &quot;type&quot;: &quot;Feature&quot;}, {&quot;bbox&quot;: [-73.91544, 40.837517, -73.91544, 40.837517], &quot;geometry&quot;: {&quot;coordinates&quot;: [-73.91544, 40.837517], &quot;type&quot;: &quot;Point&quot;}, &quot;id&quot;: &quot;5&quot;, &quot;properties&quot;: {&quot;date_created&quot;: 1606238714, &quot;last_seen&quot;: 1741284847, &quot;latitude&quot;: 40.837517, &quot;longitude&quot;: -73.91544, &quot;name&quot;: &quot;FA-CTKo&quot;, &quot;position_rating&quot;: 5, &quot;sensor_index&quot;: 92169}, &quot;type&quot;: &quot;Feature&quot;}, {&quot;bbox&quot;: [-73.88581, 40.860455, -73.88581, 40.860455], &quot;geometry&quot;: {&quot;coordinates&quot;: [-73.88581, 40.860455], &quot;type&quot;: &quot;Point&quot;}, &quot;id&quot;: &quot;6&quot;, &quot;properties&quot;: {&quot;date_created&quot;: 1606238722, &quot;last_seen&quot;: 1741285523, &quot;latitude&quot;: 40.860455, &quot;longitude&quot;: -73.88581, &quot;name&quot;: &quot;FreshAir-O1&quot;, &quot;position_rating&quot;: 5, &quot;sensor_index&quot;: 92171}, &quot;type&quot;: &quot;Feature&quot;}, {&quot;bbox&quot;: [-73.902565, 40.833763, -73.902565, 40.833763], &quot;geometry&quot;: {&quot;coordinates&quot;: [-73.902565, 40.833763], &quot;type&quot;: &quot;Point&quot;}, &quot;id&quot;: &quot;7&quot;, &quot;properties&quot;: {&quot;date_created&quot;: 1669748750, &quot;last_seen&quot;: 1741285443, &quot;latitude&quot;: 40.833763, &quot;longitude&quot;: -73.902565, &quot;name&quot;: &quot;Bronx Center for Science and Mathematics - outdoor&quot;, &quot;position_rating&quot;: 5, &quot;sensor_index&quot;: 172111}, &quot;type&quot;: &quot;Feature&quot;}, {&quot;bbox&quot;: [-73.91456, 40.8811, -73.91456, 40.8811], &quot;geometry&quot;: {&quot;coordinates&quot;: [-73.91456, 40.8811], &quot;type&quot;: &quot;Point&quot;}, &quot;id&quot;: &quot;8&quot;, &quot;properties&quot;: {&quot;date_created&quot;: 1689710220, &quot;last_seen&quot;: 1741285526, &quot;latitude&quot;: 40.8811, &quot;longitude&quot;: -73.91456, &quot;name&quot;: &quot;Spuyten Duyvil: Arlington at 227&quot;, &quot;position_rating&quot;: 0, &quot;sensor_index&quot;: 188617}, &quot;type&quot;: &quot;Feature&quot;}, {&quot;bbox&quot;: [-73.93159, 40.86516, -73.93159, 40.86516], &quot;geometry&quot;: {&quot;coordinates&quot;: [-73.93159, 40.86516], &quot;type&quot;: &quot;Point&quot;}, &quot;id&quot;: &quot;9&quot;, &quot;properties&quot;: {&quot;date_created&quot;: 1703695298, &quot;last_seen&quot;: 1741285420, &quot;latitude&quot;: 40.86516, &quot;longitude&quot;: -73.93159, &quot;name&quot;: &quot;The Met Cloisters&quot;, &quot;position_rating&quot;: 5, &quot;sensor_index&quot;: 208355}, &quot;type&quot;: &quot;Feature&quot;}, {&quot;bbox&quot;: [-73.91222, 40.885914, -73.91222, 40.885914], &quot;geometry&quot;: {&quot;coordinates&quot;: [-73.91222, 40.885914], &quot;type&quot;: &quot;Point&quot;}, &quot;id&quot;: &quot;10&quot;, &quot;properties&quot;: {&quot;date_created&quot;: 1711567072, &quot;last_seen&quot;: 1741285508, &quot;latitude&quot;: 40.885914, &quot;longitude&quot;: -73.91222, &quot;name&quot;: &quot;AZ_cent&quot;, &quot;position_rating&quot;: 0, &quot;sensor_index&quot;: 219837}, &quot;type&quot;: &quot;Feature&quot;}], &quot;type&quot;: &quot;FeatureCollection&quot;});\n",
       "\n",
       "        \n",
       "    \n",
       "    geo_json_f6c1400d5a99b1f7a0ab1c0837110a55.bindTooltip(\n",
       "    function(layer){\n",
       "    let div = L.DomUtil.create(&#x27;div&#x27;);\n",
       "    \n",
       "    let handleObject = feature=&gt;typeof(feature)==&#x27;object&#x27; ? JSON.stringify(feature) : feature;\n",
       "    let fields = [&quot;sensor_index&quot;, &quot;date_created&quot;, &quot;last_seen&quot;, &quot;name&quot;, &quot;position_rating&quot;, &quot;latitude&quot;, &quot;longitude&quot;];\n",
       "    let aliases = [&quot;sensor_index&quot;, &quot;date_created&quot;, &quot;last_seen&quot;, &quot;name&quot;, &quot;position_rating&quot;, &quot;latitude&quot;, &quot;longitude&quot;];\n",
       "    let table = &#x27;&lt;table&gt;&#x27; +\n",
       "        String(\n",
       "        fields.map(\n",
       "        (v,i)=&gt;\n",
       "        `&lt;tr&gt;\n",
       "            &lt;th&gt;${aliases[i]}&lt;/th&gt;\n",
       "            \n",
       "            &lt;td&gt;${handleObject(layer.feature.properties[v])}&lt;/td&gt;\n",
       "        &lt;/tr&gt;`).join(&#x27;&#x27;))\n",
       "    +&#x27;&lt;/table&gt;&#x27;;\n",
       "    div.innerHTML=table;\n",
       "    \n",
       "    return div\n",
       "    }\n",
       "    ,{\n",
       "  &quot;sticky&quot;: true,\n",
       "  &quot;className&quot;: &quot;foliumtooltip&quot;,\n",
       "});\n",
       "                     \n",
       "    \n",
       "            geo_json_f6c1400d5a99b1f7a0ab1c0837110a55.addTo(map_956de613c437ba89f866215b12dee834);\n",
       "        \n",
       "&lt;/script&gt;\n",
       "&lt;/html&gt;\" style=\"position:absolute;width:100%;height:100%;left:0;top:0;border:none !important;\" allowfullscreen webkitallowfullscreen mozallowfullscreen></iframe></div></div>"
      ],
      "text/plain": [
       "<folium.folium.Map at 0x175ca6b40>"
      ]
     },
     "execution_count": 75,
     "metadata": {},
     "output_type": "execute_result"
    }
   ],
   "source": [
    "# map to show the sensors\n",
    "# TODO: expand bounding box\n",
    "gdf.explore()\n"
   ]
  },
  {
   "cell_type": "markdown",
   "metadata": {},
   "source": [
    "With several sensors available, data can be pulled from the API. First, we can look at the sensors date created and last date collected to see if they are likely to have data in the time period we are interested in. Pandas, a library for working with datatables, has a helper method to convert the timestamp in the data from seconds to a human-readable date and time. "
   ]
  },
  {
   "cell_type": "code",
   "execution_count": 76,
   "metadata": {},
   "outputs": [
    {
     "name": "stdout",
     "output_type": "stream",
     "text": [
      "Date Created:\n",
      "0    2020-11-16 21:06:08\n",
      "1    2020-11-16 21:11:51\n",
      "2    2020-11-16 21:20:29\n",
      "3    2020-11-20 17:24:43\n",
      "4    2020-11-23 18:54:41\n",
      "5    2020-11-24 17:25:14\n",
      "6    2020-11-24 17:25:22\n",
      "7    2022-11-29 19:05:50\n",
      "8    2023-07-18 19:57:00\n",
      "9    2023-12-27 16:41:38\n",
      "10   2024-03-27 19:17:52\n",
      "Name: date_created, dtype: datetime64[ns]\n",
      "\n",
      "Date Last Seen:\n",
      "0    2025-03-06 18:24:32\n",
      "1    2025-03-06 18:24:54\n",
      "2    2025-03-06 18:24:17\n",
      "3    2025-03-06 18:23:57\n",
      "4    2025-03-06 18:12:22\n",
      "5    2025-03-06 18:14:07\n",
      "6    2025-03-06 18:25:23\n",
      "7    2025-03-06 18:24:03\n",
      "8    2025-03-06 18:25:26\n",
      "9    2025-03-06 18:23:40\n",
      "10   2025-03-06 18:25:08\n",
      "Name: last_seen, dtype: datetime64[ns]\n"
     ]
    }
   ],
   "source": [
    "# date_created is when the sensor was set up in the database, last_seen\n",
    "# is the date & time for the last sensor recording\n",
    "print('Date Created:')\n",
    "print(pd.to_datetime(gdf.date_created, unit='s'))\n",
    "print('\\nDate Last Seen:')\n",
    "print(pd.to_datetime(gdf.last_seen, unit='s'))"
   ]
  },
  {
   "cell_type": "markdown",
   "metadata": {},
   "source": [
    "From this, it can be seen that all of the sensors were created before the Canadian fire event, and all have collected data recently. Next, the code below will retrieve data from one of the sensors for the date of the event. \n",
    "\n",
    "To retrieve data, the sensor ID is used to construct a new request. "
   ]
  },
  {
   "cell_type": "code",
   "execution_count": null,
   "metadata": {},
   "outputs": [
    {
     "name": "stdout",
     "output_type": "stream",
     "text": [
      "Request failed with status code: 403\n"
     ]
    }
   ],
   "source": [
    "import datetime\n",
    "# TODO: retrieve time fields with data\n",
    "start_date = datetime.datetime(2024,11,3).timestamp()\n",
    "end_date = datetime.datetime(2024,11,10).timestamp()\n",
    "\n",
    "sensor_ids = gdf.sensor_index.values\n",
    "# get the first id for testing\n",
    "id = sensor_ids[0]\n",
    "\n",
    "# dictionary to hold returned sensor data\n",
    "sensor_data = {}\n",
    "# construct a request\n",
    "# update the url, it is the API sensor url with :sensor after the end of the base URL\n",
    "sensor_url = url + f'/:sensor'\n",
    "# new parameters\n",
    "params = {\n",
    "    'sensor_index':id,\n",
    "    'fields':'pm2.5_alt, pm2.5_alt_a, pm2.5_alt_b, pm2.5_atm, pm2.5_atm_a, pm2.5_atm_b, pm2.5_cf_1, pm2.5_cf_1_a, pm2.5_cf_1_b',\n",
    "    'start_timestamp':start_date,\n",
    "    'end_timestamp':end_date,\n",
    "\n",
    "}\n",
    "\n",
    "with requests.get(url, headers=headers, params=params) as response:\n",
    "\n",
    "    if response.status_code == 200:\n",
    "        print('Success')\n",
    "        history_data = response.json()\n",
    "        print(history_data)\n",
    "        sensor_data[id] = history_data\n",
    "\n",
    "    else:\n",
    "        print(f\"Request failed with status code: {response.status_code}\")"
   ]
  },
  {
   "cell_type": "code",
   "execution_count": 81,
   "metadata": {},
   "outputs": [
    {
     "name": "stdout",
     "output_type": "stream",
     "text": [
      "(26871, 10)\n"
     ]
    },
    {
     "data": {
      "text/html": [
       "<div>\n",
       "<style scoped>\n",
       "    .dataframe tbody tr th:only-of-type {\n",
       "        vertical-align: middle;\n",
       "    }\n",
       "\n",
       "    .dataframe tbody tr th {\n",
       "        vertical-align: top;\n",
       "    }\n",
       "\n",
       "    .dataframe thead th {\n",
       "        text-align: right;\n",
       "    }\n",
       "</style>\n",
       "<table border=\"1\" class=\"dataframe\">\n",
       "  <thead>\n",
       "    <tr style=\"text-align: right;\">\n",
       "      <th></th>\n",
       "      <th>sensor_index</th>\n",
       "      <th>pm2.5_alt</th>\n",
       "      <th>pm2.5_alt_a</th>\n",
       "      <th>pm2.5_alt_b</th>\n",
       "      <th>pm2.5_atm</th>\n",
       "      <th>pm2.5_atm_a</th>\n",
       "      <th>pm2.5_atm_b</th>\n",
       "      <th>pm2.5_cf_1</th>\n",
       "      <th>pm2.5_cf_1_a</th>\n",
       "      <th>pm2.5_cf_1_b</th>\n",
       "    </tr>\n",
       "  </thead>\n",
       "  <tbody>\n",
       "    <tr>\n",
       "      <th>0</th>\n",
       "      <td>262161</td>\n",
       "      <td>0.3</td>\n",
       "      <td>0.3</td>\n",
       "      <td>0.3</td>\n",
       "      <td>0.0</td>\n",
       "      <td>0.05</td>\n",
       "      <td>0.00</td>\n",
       "      <td>0.0</td>\n",
       "      <td>0.05</td>\n",
       "      <td>0.00</td>\n",
       "    </tr>\n",
       "    <tr>\n",
       "      <th>1</th>\n",
       "      <td>76</td>\n",
       "      <td>3.4</td>\n",
       "      <td>3.4</td>\n",
       "      <td>NaN</td>\n",
       "      <td>5.7</td>\n",
       "      <td>5.69</td>\n",
       "      <td>NaN</td>\n",
       "      <td>5.7</td>\n",
       "      <td>5.69</td>\n",
       "      <td>NaN</td>\n",
       "    </tr>\n",
       "    <tr>\n",
       "      <th>2</th>\n",
       "      <td>262247</td>\n",
       "      <td>55.2</td>\n",
       "      <td>57.4</td>\n",
       "      <td>53.1</td>\n",
       "      <td>67.4</td>\n",
       "      <td>71.38</td>\n",
       "      <td>63.44</td>\n",
       "      <td>102.2</td>\n",
       "      <td>108.09</td>\n",
       "      <td>96.24</td>\n",
       "    </tr>\n",
       "    <tr>\n",
       "      <th>3</th>\n",
       "      <td>262261</td>\n",
       "      <td>0.8</td>\n",
       "      <td>0.7</td>\n",
       "      <td>0.9</td>\n",
       "      <td>0.8</td>\n",
       "      <td>0.54</td>\n",
       "      <td>0.98</td>\n",
       "      <td>0.8</td>\n",
       "      <td>0.54</td>\n",
       "      <td>0.98</td>\n",
       "    </tr>\n",
       "    <tr>\n",
       "      <th>4</th>\n",
       "      <td>262257</td>\n",
       "      <td>1.2</td>\n",
       "      <td>1.2</td>\n",
       "      <td>1.1</td>\n",
       "      <td>1.1</td>\n",
       "      <td>1.43</td>\n",
       "      <td>0.84</td>\n",
       "      <td>1.1</td>\n",
       "      <td>1.43</td>\n",
       "      <td>0.84</td>\n",
       "    </tr>\n",
       "  </tbody>\n",
       "</table>\n",
       "</div>"
      ],
      "text/plain": [
       "   sensor_index  pm2.5_alt  pm2.5_alt_a  pm2.5_alt_b  pm2.5_atm  pm2.5_atm_a  \\\n",
       "0        262161        0.3          0.3          0.3        0.0         0.05   \n",
       "1            76        3.4          3.4          NaN        5.7         5.69   \n",
       "2        262247       55.2         57.4         53.1       67.4        71.38   \n",
       "3        262261        0.8          0.7          0.9        0.8         0.54   \n",
       "4        262257        1.2          1.2          1.1        1.1         1.43   \n",
       "\n",
       "   pm2.5_atm_b  pm2.5_cf_1  pm2.5_cf_1_a  pm2.5_cf_1_b  \n",
       "0         0.00         0.0          0.05          0.00  \n",
       "1          NaN         5.7          5.69           NaN  \n",
       "2        63.44       102.2        108.09         96.24  \n",
       "3         0.98         0.8          0.54          0.98  \n",
       "4         0.84         1.1          1.43          0.84  "
      ]
     },
     "execution_count": 81,
     "metadata": {},
     "output_type": "execute_result"
    }
   ],
   "source": [
    "df_sensor = pd.DataFrame(data = history_data.get('data'), columns=history_data.get('fields'))\n",
    "print(df_sensor.shape)\n",
    "df_sensor.head()\n",
    "# sample_data = history_data.get('data')\n",
    "# type(sample_data)"
   ]
  },
  {
   "cell_type": "code",
   "execution_count": 79,
   "metadata": {},
   "outputs": [
    {
     "data": {
      "text/plain": [
       "dict_keys(['api_version', 'time_stamp', 'data_time_stamp', 'max_age', 'firmware_default_version', 'fields', 'data'])"
      ]
     },
     "execution_count": 79,
     "metadata": {},
     "output_type": "execute_result"
    }
   ],
   "source": [
    "history_data.keys()"
   ]
  },
  {
   "cell_type": "code",
   "execution_count": 67,
   "metadata": {},
   "outputs": [
    {
     "data": {
      "text/plain": [
       "[262161, 0.3, 0.3, 0.3, 0.0, 0.05, 0.0, 0.0, 0.05, 0.0]"
      ]
     },
     "execution_count": 67,
     "metadata": {},
     "output_type": "execute_result"
    }
   ],
   "source": [
    "sample_data[0]"
   ]
  },
  {
   "cell_type": "code",
   "execution_count": null,
   "metadata": {},
   "outputs": [],
   "source": []
  }
 ],
 "metadata": {
  "kernelspec": {
   "display_name": "Python 3",
   "language": "python",
   "name": "python3"
  },
  "language_info": {
   "codemirror_mode": {
    "name": "ipython",
    "version": 3
   },
   "file_extension": ".py",
   "mimetype": "text/x-python",
   "name": "python",
   "nbconvert_exporter": "python",
   "pygments_lexer": "ipython3",
   "version": "3.12.9"
  }
 },
 "nbformat": 4,
 "nbformat_minor": 2
}
