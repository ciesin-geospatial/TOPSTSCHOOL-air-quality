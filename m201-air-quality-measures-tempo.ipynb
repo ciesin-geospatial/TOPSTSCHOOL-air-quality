{
 "cells": [
  {
   "cell_type": "markdown",
   "id": "778f12b2",
   "metadata": {},
   "source": [
    "```markdown\n",
    "### Introduction to Earthaccess and TEMPO Data\n",
    "\n",
    "In this section, we utilize the `earthaccess` module, a Python library designed to simplify access to NASA Earthdata resources. This library provides tools for authentication, data search, and downloading Earth science datasets.\n",
    "\n",
    "We specifically focus on the **TEMPO (Tropospheric Emissions: Monitoring of Pollution)** dataset, which provides Level 3 NO2 data. This dataset is valuable for monitoring air quality and studying atmospheric pollution. Using `earthaccess`, we authenticate with NASA Earthdata, search for the TEMPO NO2 dataset within a specified temporal range, and download the data for further analysis.\n",
    "```"
   ]
  },
  {
   "cell_type": "code",
   "execution_count": 4,
   "id": "8e510739",
   "metadata": {},
   "outputs": [
    {
     "name": "stderr",
     "output_type": "stream",
     "text": [
      "WARNING: You are using pip version 21.2.3; however, version 25.1.1 is available.\n",
      "You should consider upgrading via the 'C:\\Program Files\\Python310\\python.exe -m pip install --upgrade pip' command.\n"
     ]
    },
    {
     "data": {
      "application/vnd.jupyter.widget-view+json": {
       "model_id": "53c94bf5d21c4427b1f75fcf4fddff35",
       "version_major": 2,
       "version_minor": 0
      },
      "text/plain": [
       "VBox(children=(HBox(children=(Dropdown(description='Time:', options=('2024-11-07T00:00:00', '2024-11-07T01:00:…"
      ]
     },
     "execution_count": 4,
     "metadata": {},
     "output_type": "execute_result"
    }
   ],
   "source": [
    "# Install required packages\n",
    "!pip install ipyleaflet ipywidgets --quiet\n",
    "\n",
    "# Import libraries\n",
    "from ipyleaflet import Map, WMSLayer, LayersControl\n",
    "from ipywidgets import VBox, Dropdown, Label, HBox\n",
    "from datetime import datetime, timedelta\n",
    "import pytz\n",
    "\n",
    "# Create the interactive map\n",
    "m = Map(center=(39.8283, -98.5795), zoom=4)\n",
    "\n",
    "# WMS service URL\n",
    "wms_url = (\n",
    "    \"https://gis.earthdata.nasa.gov/image/services/\"\n",
    "    \"C2930763263-LARC_CLOUD/TEMPO_NO2_L3_V03_HOURLY_TROPOSPHERIC_VERTICAL_COLUMN/\"\n",
    "    \"ImageServer/WMSServer?\"\n",
    ")\n",
    "\n",
    "# Generate hourly timestamps from Nov 7 to Nov 10, 2024\n",
    "timestamps = []\n",
    "start_time = datetime(2024, 11, 7, 0, 0, tzinfo=pytz.UTC)\n",
    "end_time = datetime(2024, 11, 10, 23, 0, tzinfo=pytz.UTC)\n",
    "interval = timedelta(hours=1)\n",
    "current = start_time\n",
    "while current <= end_time:\n",
    "    timestamps.append(current.strftime(\"%Y-%m-%dT%H:%M:%S\"))\n",
    "    current += interval\n",
    "\n",
    "# Dropdown widget\n",
    "dropdown = Dropdown(\n",
    "    options=timestamps,\n",
    "    value=timestamps[0],\n",
    "    description=\"Time:\"\n",
    ")\n",
    "\n",
    "# Label for current time\n",
    "time_label = Label(value=f\"Time: {dropdown.value}\")\n",
    "\n",
    "# Create initial WMS layer and hold it in a mutable container (list of one element)\n",
    "current_layer = [\n",
    "    WMSLayer(\n",
    "        url=wms_url,\n",
    "        layers=\"TEMPO_NO2_L3_V03_HOURLY_TROPOSPHERIC_VERTICAL_COLUMN:None:NO2_Troposphere\",\n",
    "        format=\"image/png\",\n",
    "        transparent=True,\n",
    "        version=\"1.3.0\",\n",
    "        time=dropdown.value,\n",
    "        name=f\"NO2 @ {dropdown.value}\"\n",
    "    )\n",
    "]\n",
    "\n",
    "# Add initial layer to map\n",
    "m.add_layer(current_layer[0])\n",
    "m.add_control(LayersControl(position='topright'))\n",
    "\n",
    "# Dropdown change handler\n",
    "def on_dropdown_change(change):\n",
    "    if change['type'] == 'change' and change['name'] == 'value':\n",
    "        new_time = change['new']\n",
    "        \n",
    "        # Remove current layer\n",
    "        m.remove_layer(current_layer[0])\n",
    "        \n",
    "        # Create and add new WMS layer\n",
    "        new_layer = WMSLayer(\n",
    "            url=wms_url,\n",
    "            layers=\"TEMPO_NO2_L3_V03_HOURLY_TROPOSPHERIC_VERTICAL_COLUMN:None:NO2_Troposphere\",\n",
    "            format=\"image/png\",\n",
    "            transparent=True,\n",
    "            version=\"1.3.0\",\n",
    "            time=new_time,\n",
    "            name=f\"NO2 @ {new_time}\"\n",
    "        )\n",
    "        m.add_layer(new_layer)\n",
    "        current_layer[0] = new_layer\n",
    "        time_label.value = f\"Time: {new_time}\"\n",
    "\n",
    "# Connect dropdown to handler\n",
    "dropdown.observe(on_dropdown_change)\n",
    "\n",
    "# Show UI and map\n",
    "VBox([HBox([dropdown, time_label]), m])\n"
   ]
  },
  {
   "cell_type": "code",
   "execution_count": 5,
   "id": "e0307735",
   "metadata": {},
   "outputs": [
    {
     "name": "stderr",
     "output_type": "stream",
     "text": [
      "WARNING: You are using pip version 21.2.3; however, version 25.1.1 is available.\n",
      "You should consider upgrading via the 'C:\\Program Files\\Python310\\python.exe -m pip install --upgrade pip' command.\n"
     ]
    }
   ],
   "source": [
    "# Install required packages\n",
    "!pip install rioxarray xarray leafmap ipywidgets requests matplotlib --quiet\n"
   ]
  },
  {
   "cell_type": "code",
   "execution_count": 8,
   "id": "f69b22f7",
   "metadata": {},
   "outputs": [
    {
     "data": {
      "application/vnd.jupyter.widget-view+json": {
       "model_id": "bdbc121e2edf4f68930d512a62576924",
       "version_major": 2,
       "version_minor": 0
      },
      "text/plain": [
       "VBox(children=(HBox(children=(Dropdown(description='Time:', options=('2024-11-09T00:00:00Z', '2024-11-09T01:00…"
      ]
     },
     "execution_count": 8,
     "metadata": {},
     "output_type": "execute_result"
    }
   ],
   "source": [
    "# Imports\n",
    "import requests\n",
    "import rioxarray\n",
    "import xarray as xr\n",
    "import numpy as np\n",
    "import matplotlib.pyplot as plt\n",
    "import leafmap\n",
    "from ipywidgets import Dropdown, VBox, Label, HBox, Output\n",
    "from datetime import datetime, timedelta\n",
    "import pytz\n",
    "from IPython.display import display\n",
    "\n",
    "# WCS URL and coverage\n",
    "base_url = (\n",
    "    \"https://gis.earthdata.nasa.gov/image/services/\"\n",
    "    \"C2930763263-LARC_CLOUD/TEMPO_NO2_L3_V03_HOURLY_TROPOSPHERIC_VERTICAL_COLUMN/\"\n",
    "    \"ImageServer/WCSServer\"\n",
    ")\n",
    "coverage_id = \"_vsis3_prd-arcgis-data_TEMPO_TEMPO_NO2_L3_V03_TEMPO_NO2_L3_V03_T_B.crf\"\n",
    "\n",
    "# NYC bounding box\n",
    "bbox = [-74.3, 40.4, -73.6, 41.0]  # [minx, miny, maxx, maxy]\n",
    "\n",
    "# Time range: Nov 9–10, 2024 (UTC)\n",
    "timestamps = []\n",
    "start = datetime(2024, 11, 9, 0, 0, tzinfo=pytz.UTC)\n",
    "end = datetime(2024, 11, 10, 23, 0, tzinfo=pytz.UTC)\n",
    "while start <= end:\n",
    "    timestamps.append(start.strftime(\"%Y-%m-%dT%H:%M:%SZ\"))\n",
    "    start += timedelta(hours=1)\n",
    "\n",
    "# UI widgets\n",
    "dropdown = Dropdown(options=timestamps, value=timestamps[0], description=\"Time:\")\n",
    "status_label = Label(value=\"Select a time to view NO₂ in NYC\")\n",
    "output_file = \"tempo_no2_nyc.tif\"\n",
    "output_map = Output()\n",
    "\n",
    "# UI layout\n",
    "ui = VBox([HBox([dropdown, status_label]), output_map])\n",
    "\n",
    "# Fetch WCS file for selected time\n",
    "def fetch_wcs_data(time_value):\n",
    "    params = {\n",
    "        \"service\": \"WCS\",\n",
    "        \"version\": \"2.0.1\",\n",
    "        \"request\": \"GetCoverage\",\n",
    "        \"coverageId\": coverage_id,\n",
    "        \"format\": \"image/tiff\",\n",
    "        \"subset\": [\n",
    "            f\"Lat({bbox[1]},{bbox[3]})\",\n",
    "            f\"Long({bbox[0]},{bbox[2]})\",\n",
    "            f\"ansi(\\\"{time_value}\\\")\"\n",
    "        ]\n",
    "    }\n",
    "    response = requests.get(base_url, params=params, stream=True)\n",
    "    if response.status_code == 200:\n",
    "        with open(output_file, 'wb') as f:\n",
    "            for chunk in response.iter_content(8192):\n",
    "                f.write(chunk)\n",
    "        return True\n",
    "    return False\n",
    "\n",
    "# Render map from file\n",
    "def show_map_from_file(filename):\n",
    "    ds = rioxarray.open_rasterio(filename, masked=True)\n",
    "    band = ds.squeeze()\n",
    "    quantiles = np.nanpercentile(band, [0, 20, 40, 60, 80, 100])\n",
    "    classified = xr.apply_ufunc(np.digitize, band, quantiles)\n",
    "    cmap = plt.get_cmap(\"YlOrRd\", len(quantiles))\n",
    "    m = leafmap.Map(center=(40.7, -74), zoom=9)\n",
    "    m.add_raster(classified, colormap=cmap, layer_name=\"Classified NO₂ (NYC)\")\n",
    "    return m\n",
    "\n",
    "# Dropdown change handler\n",
    "def update_map(change):\n",
    "    if change['type'] == 'change' and change['name'] == 'value':\n",
    "        selected_time = change['new']\n",
    "        status_label.value = f\"Fetching NO₂ for {selected_time}...\"\n",
    "        if fetch_wcs_data(selected_time):\n",
    "            status_label.value = f\"Showing NO₂ for {selected_time}\"\n",
    "            m = show_map_from_file(output_file)\n",
    "            output_map.clear_output()\n",
    "            with output_map:\n",
    "                display(m)\n",
    "        else:\n",
    "            status_label.value = \"Failed to retrieve data.\"\n",
    "\n",
    "# Attach handler\n",
    "dropdown.observe(update_map)\n",
    "\n",
    "# Display interface\n",
    "ui\n"
   ]
  },
  {
   "cell_type": "code",
   "execution_count": 10,
   "id": "3f7c7949",
   "metadata": {},
   "outputs": [
    {
     "name": "stdout",
     "output_type": "stream",
     "text": [
      "earthaccess is already installed\n",
      "Found 10 results\n",
      "Collection: {'ShortName': 'TEMPO_NO2_L3', 'Version': 'V03'}\n",
      "Spatial coverage: {'HorizontalSpatialDomain': {'Geometry': {'GPolygons': [{'Boundary': {'Points': [{'Latitude': 57.62, 'Longitude': -110.68}, {'Latitude': 53.38, 'Longitude': -108.38}, {'Latitude': 49.14, 'Longitude': -106.62}, {'Latitude': 44.12, 'Longitude': -105.02}, {'Latitude': 39.48, 'Longitude': -103.88}, {'Latitude': 34.7, 'Longitude': -102.96}, {'Latitude': 29.14, 'Longitude': -102.14}, {'Latitude': 23.68, 'Longitude': -101.54}, {'Latitude': 17.22, 'Longitude': -101.04}, {'Latitude': 17.2, 'Longitude': -82.4}, {'Latitude': 17.46, 'Longitude': -65.14}, {'Latitude': 21.36, 'Longitude': -64.28}, {'Latitude': 25.16, 'Longitude': -63.24001}, {'Latitude': 28.92, 'Longitude': -61.98}, {'Latitude': 32.64, 'Longitude': -60.46}, {'Latitude': 35.78, 'Longitude': -58.92001}, {'Latitude': 39.06, 'Longitude': -57}, {'Latitude': 42, 'Longitude': -54.94}, {'Latitude': 44.8, 'Longitude': -52.60001}, {'Latitude': 47.6, 'Longitude': -49.78001}, {'Latitude': 50.32, 'Longitude': -46.42001}, {'Latitude': 52.76, 'Longitude': -42.68}, {'Latitude': 54.7, 'Longitude': -39}, {'Latitude': 56.42, 'Longitude': -34.96001}, {'Latitude': 58, 'Longitude': -30.24001}, {'Latitude': 59.28, 'Longitude': -25.18001}, {'Latitude': 60.16, 'Longitude': -20.34}, {'Latitude': 61.52, 'Longitude': -20.40001}, {'Latitude': 61.48, 'Longitude': -20.74001}, {'Latitude': 61.98, 'Longitude': -20.76001}, {'Latitude': 61.94, 'Longitude': -21.08}, {'Latitude': 62.04, 'Longitude': -21.10001}, {'Latitude': 62.02, 'Longitude': -21.32001}, {'Latitude': 63.14, 'Longitude': -21.34}, {'Latitude': 63.06, 'Longitude': -21.96001}, {'Latitude': 63.54, 'Longitude': -21.98}, {'Latitude': 63.48, 'Longitude': -22.42}, {'Latitude': 63.76, 'Longitude': -22.5}, {'Latitude': 61.78, 'Longitude': -36.74001}, {'Latitude': 60.8, 'Longitude': -44.06001}, {'Latitude': 60.14, 'Longitude': -49.78001}, {'Latitude': 59.48, 'Longitude': -55.92001}, {'Latitude': 58.78, 'Longitude': -63.36}, {'Latitude': 58.2, 'Longitude': -71.62}, {'Latitude': 57.74, 'Longitude': -82.14}, {'Latitude': 57.64, 'Longitude': -87.04}, {'Latitude': 57.62, 'Longitude': -93.4}, {'Latitude': 57.82, 'Longitude': -102.86}, {'Latitude': 58.22, 'Longitude': -110.68}, {'Latitude': 57.62, 'Longitude': -110.68}]}}]}}}\n",
      "Temporal coverage: {'RangeDateTime': {'BeginningDateTime': '2024-11-08T12:22:00+00:00', 'EndingDateTime': '2024-11-08T13:01:46+00:00'}}\n",
      "Size(MB): 434.11383628845215\n",
      "Data: ['https://data.asdc.earthdata.nasa.gov/asdc-prod-protected/TEMPO/TEMPO_NO2_L3_V03/2024.11.08/TEMPO_NO2_L3_V03_20241108T122200Z_S002.nc']\n",
      "Collection: {'ShortName': 'TEMPO_NO2_L3', 'Version': 'V03'}\n",
      "Spatial coverage: {'HorizontalSpatialDomain': {'Geometry': {'GPolygons': [{'Boundary': {'Points': [{'Latitude': 57.64, 'Longitude': -110.66}, {'Latitude': 53.78, 'Longitude': -108.54}, {'Latitude': 49.32, 'Longitude': -106.66}, {'Latitude': 44.2, 'Longitude': -105.02}, {'Latitude': 39.48, 'Longitude': -103.86}, {'Latitude': 34.08, 'Longitude': -102.84}, {'Latitude': 28.78, 'Longitude': -102.08}, {'Latitude': 23.14, 'Longitude': -101.48}, {'Latitude': 17.24, 'Longitude': -101.04}, {'Latitude': 17.2, 'Longitude': -83.86}, {'Latitude': 17.46, 'Longitude': -65.12}, {'Latitude': 21.12, 'Longitude': -64.32}, {'Latitude': 25.42, 'Longitude': -63.14}, {'Latitude': 29.18, 'Longitude': -61.86}, {'Latitude': 32.98, 'Longitude': -60.28}, {'Latitude': 36.28, 'Longitude': -58.62}, {'Latitude': 39.32, 'Longitude': -56.8}, {'Latitude': 42.52, 'Longitude': -54.5}, {'Latitude': 45.4, 'Longitude': -52}, {'Latitude': 48.02, 'Longitude': -49.26}, {'Latitude': 50.74, 'Longitude': -45.78001}, {'Latitude': 52.76, 'Longitude': -42.62}, {'Latitude': 54.78, 'Longitude': -38.76001}, {'Latitude': 56.62, 'Longitude': -34.34}, {'Latitude': 57.94, 'Longitude': -30.34}, {'Latitude': 59.06, 'Longitude': -26.04001}, {'Latitude': 60, 'Longitude': -21.18001}, {'Latitude': 60.2, 'Longitude': -20.72}, {'Latitude': 60.28, 'Longitude': -20.12001}, {'Latitude': 60.64, 'Longitude': -20.02}, {'Latitude': 60.68, 'Longitude': -19.82001}, {'Latitude': 61.42, 'Longitude': -19.82001}, {'Latitude': 61.32, 'Longitude': -20.52}, {'Latitude': 62.44, 'Longitude': -20.54001}, {'Latitude': 62.42, 'Longitude': -20.74001}, {'Latitude': 62.82, 'Longitude': -20.94}, {'Latitude': 62.74, 'Longitude': -21.62001}, {'Latitude': 63.46, 'Longitude': -21.64}, {'Latitude': 63.4, 'Longitude': -21.98}, {'Latitude': 63.8, 'Longitude': -22.02}, {'Latitude': 63.64, 'Longitude': -23.04001}, {'Latitude': 63.62, 'Longitude': -23.82001}, {'Latitude': 62.22, 'Longitude': -33.58}, {'Latitude': 60.8, 'Longitude': -44.14}, {'Latitude': 59.84, 'Longitude': -52.60001}, {'Latitude': 58.7, 'Longitude': -64.52}, {'Latitude': 58.26, 'Longitude': -70.84}, {'Latitude': 57.98, 'Longitude': -76.04}, {'Latitude': 57.7, 'Longitude': -84.14}, {'Latitude': 57.64, 'Longitude': -93.1}, {'Latitude': 57.78, 'Longitude': -100.5}, {'Latitude': 58.04, 'Longitude': -106.94}, {'Latitude': 58.26, 'Longitude': -110.66}, {'Latitude': 57.64, 'Longitude': -110.66}]}}]}}}\n",
      "Temporal coverage: {'RangeDateTime': {'BeginningDateTime': '2024-11-08T13:02:05+00:00', 'EndingDateTime': '2024-11-08T13:41:51+00:00'}}\n",
      "Size(MB): 509.599365234375\n",
      "Data: ['https://data.asdc.earthdata.nasa.gov/asdc-prod-protected/TEMPO/TEMPO_NO2_L3_V03/2024.11.08/TEMPO_NO2_L3_V03_20241108T130205Z_S003.nc']\n",
      "Collection: {'ShortName': 'TEMPO_NO2_L3', 'Version': 'V03'}\n",
      "Spatial coverage: {'HorizontalSpatialDomain': {'Geometry': {'GPolygons': [{'Boundary': {'Points': [{'Latitude': 57.66, 'Longitude': -110.7}, {'Latitude': 53.86, 'Longitude': -108.6}, {'Latitude': 49.38, 'Longitude': -106.7}, {'Latitude': 44.36, 'Longitude': -105.08}, {'Latitude': 39.42, 'Longitude': -103.86}, {'Latitude': 35.08, 'Longitude': -103.02}, {'Latitude': 29.18, 'Longitude': -102.14}, {'Latitude': 23.92, 'Longitude': -101.56}, {'Latitude': 17.24, 'Longitude': -101.04}, {'Latitude': 17.2, 'Longitude': -83.58}, {'Latitude': 17.46, 'Longitude': -65.18}, {'Latitude': 22.12, 'Longitude': -64.12}, {'Latitude': 26.1, 'Longitude': -62.98}, {'Latitude': 29.8, 'Longitude': -61.68}, {'Latitude': 33.24, 'Longitude': -60.22}, {'Latitude': 36.58, 'Longitude': -58.52}, {'Latitude': 39.82, 'Longitude': -56.54}, {'Latitude': 43.04, 'Longitude': -54.16}, {'Latitude': 45.78, 'Longitude': -51.72}, {'Latitude': 48.12, 'Longitude': -49.24001}, {'Latitude': 50.14, 'Longitude': -46.72}, {'Latitude': 52.06, 'Longitude': -43.9}, {'Latitude': 53.92, 'Longitude': -40.64}, {'Latitude': 55.9, 'Longitude': -36.36}, {'Latitude': 57.7, 'Longitude': -31.34}, {'Latitude': 59.06, 'Longitude': -26.3}, {'Latitude': 59.74, 'Longitude': -23.06}, {'Latitude': 60.1, 'Longitude': -20.90001}, {'Latitude': 60.18, 'Longitude': -20.86}, {'Latitude': 60.22, 'Longitude': -20.5}, {'Latitude': 60.3, 'Longitude': -20.44}, {'Latitude': 60.38, 'Longitude': -19.82001}, {'Latitude': 61.9, 'Longitude': -19.88}, {'Latitude': 61.88, 'Longitude': -20.08}, {'Latitude': 61.98, 'Longitude': -20.10001}, {'Latitude': 61.9, 'Longitude': -20.8}, {'Latitude': 63, 'Longitude': -20.82001}, {'Latitude': 63.1, 'Longitude': -20.92}, {'Latitude': 63.04, 'Longitude': -21.3}, {'Latitude': 63.54, 'Longitude': -21.32001}, {'Latitude': 63.48, 'Longitude': -21.78}, {'Latitude': 63.74, 'Longitude': -21.8}, {'Latitude': 63.6, 'Longitude': -22.78}, {'Latitude': 63.76, 'Longitude': -22.82001}, {'Latitude': 62.44, 'Longitude': -31.98}, {'Latitude': 60.8, 'Longitude': -44.14}, {'Latitude': 59.34, 'Longitude': -57.46}, {'Latitude': 58.72, 'Longitude': -64.26}, {'Latitude': 58.34, 'Longitude': -69.56001}, {'Latitude': 57.84, 'Longitude': -79.62}, {'Latitude': 57.64, 'Longitude': -88.92}, {'Latitude': 57.66, 'Longitude': -95.96}, {'Latitude': 57.76, 'Longitude': -99.88}, {'Latitude': 58.1, 'Longitude': -108}, {'Latitude': 58.28, 'Longitude': -110.7}, {'Latitude': 57.66, 'Longitude': -110.7}]}}]}}}\n",
      "Temporal coverage: {'RangeDateTime': {'BeginningDateTime': '2024-11-08T13:42:10+00:00', 'EndingDateTime': '2024-11-08T14:21:56+00:00'}}\n",
      "Size(MB): 542.7699813842773\n",
      "Data: ['https://data.asdc.earthdata.nasa.gov/asdc-prod-protected/TEMPO/TEMPO_NO2_L3_V03/2024.11.08/TEMPO_NO2_L3_V03_20241108T134210Z_S004.nc']\n",
      "Collection: {'ShortName': 'TEMPO_NO2_L3', 'Version': 'V03'}\n",
      "Spatial coverage: {'HorizontalSpatialDomain': {'Geometry': {'GPolygons': [{'Boundary': {'Points': [{'Latitude': 57.32, 'Longitude': -163.98}, {'Latitude': 57.1, 'Longitude': -163.24}, {'Latitude': 56.8, 'Longitude': -162.9}, {'Latitude': 55.94, 'Longitude': -158.24}, {'Latitude': 54.78, 'Longitude': -153.72}, {'Latitude': 53.44, 'Longitude': -149.68}, {'Latitude': 52.1, 'Longitude': -146.4}, {'Latitude': 50.5, 'Longitude': -143.14}, {'Latitude': 48.56, 'Longitude': -139.86}, {'Latitude': 46.36, 'Longitude': -136.78}, {'Latitude': 43.92, 'Longitude': -133.94}, {'Latitude': 41.28, 'Longitude': -131.38}, {'Latitude': 38.22, 'Longitude': -128.92}, {'Latitude': 35.32, 'Longitude': -126.98}, {'Latitude': 32.14, 'Longitude': -125.2}, {'Latitude': 28.78, 'Longitude': -123.64}, {'Latitude': 25.44, 'Longitude': -122.36}, {'Latitude': 21.5, 'Longitude': -121.14}, {'Latitude': 17.52, 'Longitude': -120.18}, {'Latitude': 17.3, 'Longitude': -109.14}, {'Latitude': 17.18, 'Longitude': -96.44}, {'Latitude': 17.22, 'Longitude': -79.36}, {'Latitude': 17.46, 'Longitude': -65.18}, {'Latitude': 21.08, 'Longitude': -64.38}, {'Latitude': 25.2, 'Longitude': -63.26}, {'Latitude': 28.9, 'Longitude': -62.02}, {'Latitude': 32.54, 'Longitude': -60.54}, {'Latitude': 35.96, 'Longitude': -58.86}, {'Latitude': 39.12, 'Longitude': -57}, {'Latitude': 42.08, 'Longitude': -54.92001}, {'Latitude': 44.54, 'Longitude': -52.88}, {'Latitude': 47.5, 'Longitude': -49.94}, {'Latitude': 50.2, 'Longitude': -46.64}, {'Latitude': 52.74, 'Longitude': -42.78001}, {'Latitude': 54.66, 'Longitude': -39.16}, {'Latitude': 56.44, 'Longitude': -35}, {'Latitude': 58.08, 'Longitude': -30.08}, {'Latitude': 59.3, 'Longitude': -25.24001}, {'Latitude': 60.24, 'Longitude': -20.12001}, {'Latitude': 60.58, 'Longitude': -20.02}, {'Latitude': 60.62, 'Longitude': -19.84}, {'Latitude': 61.46, 'Longitude': -19.84}, {'Latitude': 61.38, 'Longitude': -20.42}, {'Latitude': 62, 'Longitude': -20.44}, {'Latitude': 61.96, 'Longitude': -20.74001}, {'Latitude': 62.06, 'Longitude': -20.76001}, {'Latitude': 62.04, 'Longitude': -20.96001}, {'Latitude': 62.12, 'Longitude': -21.04001}, {'Latitude': 62.8, 'Longitude': -21.06}, {'Latitude': 62.74, 'Longitude': -21.42}, {'Latitude': 63.34, 'Longitude': -21.44}, {'Latitude': 63.32, 'Longitude': -21.64}, {'Latitude': 63.7, 'Longitude': -21.66}, {'Latitude': 63.58, 'Longitude': -22.52}, {'Latitude': 63.74, 'Longitude': -22.54001}, {'Latitude': 63.64, 'Longitude': -23.56}, {'Latitude': 62.42, 'Longitude': -32.02}, {'Latitude': 60.78, 'Longitude': -44.18}, {'Latitude': 59.58, 'Longitude': -54.88}, {'Latitude': 58.7, 'Longitude': -64.22}, {'Latitude': 58.18, 'Longitude': -71.74001}, {'Latitude': 57.78, 'Longitude': -80.52}, {'Latitude': 57.62, 'Longitude': -88.16}, {'Latitude': 57.62, 'Longitude': -95.08}, {'Latitude': 57.78, 'Longitude': -101.2}, {'Latitude': 58.18, 'Longitude': -110.12}, {'Latitude': 58.68, 'Longitude': -117.52}, {'Latitude': 59.38, 'Longitude': -125.4}, {'Latitude': 59.92, 'Longitude': -130.68}, {'Latitude': 60.66, 'Longitude': -137}, {'Latitude': 61.02, 'Longitude': -139.5}, {'Latitude': 61, 'Longitude': -139.78}, {'Latitude': 61.12, 'Longitude': -140.3}, {'Latitude': 61.08, 'Longitude': -140.5}, {'Latitude': 61.18, 'Longitude': -140.76}, {'Latitude': 61.3, 'Longitude': -141.72}, {'Latitude': 61.26, 'Longitude': -141.86}, {'Latitude': 61.42, 'Longitude': -142.6}, {'Latitude': 62.18, 'Longitude': -148.64}, {'Latitude': 63.9, 'Longitude': -160.8}, {'Latitude': 63.02, 'Longitude': -160.82}, {'Latitude': 63.06, 'Longitude': -161.12}, {'Latitude': 62.04, 'Longitude': -161.14}, {'Latitude': 62.08, 'Longitude': -161.32}, {'Latitude': 61.96, 'Longitude': -161.34}, {'Latitude': 62, 'Longitude': -161.64}, {'Latitude': 60.68, 'Longitude': -161.8}, {'Latitude': 60.74, 'Longitude': -162.24}, {'Latitude': 59.72, 'Longitude': -162.26}, {'Latitude': 59.74, 'Longitude': -162.44}, {'Latitude': 59.58, 'Longitude': -162.46}, {'Latitude': 59.64, 'Longitude': -162.92}, {'Latitude': 59.26, 'Longitude': -162.94}, {'Latitude': 59.28, 'Longitude': -163.24}, {'Latitude': 58.84, 'Longitude': -163.26}, {'Latitude': 58.86, 'Longitude': -163.46}, {'Latitude': 58.36, 'Longitude': -163.48}, {'Latitude': 58.42, 'Longitude': -163.98}, {'Latitude': 57.32, 'Longitude': -163.98}]}}]}}}\n",
      "Temporal coverage: {'RangeDateTime': {'BeginningDateTime': '2024-11-08T14:22:15+00:00', 'EndingDateTime': '2024-11-08T15:21:56+00:00'}}\n",
      "Size(MB): 744.5808048248291\n",
      "Data: ['https://data.asdc.earthdata.nasa.gov/asdc-prod-protected/TEMPO/TEMPO_NO2_L3_V03/2024.11.08/TEMPO_NO2_L3_V03_20241108T142215Z_S005.nc']\n",
      "Collection: {'ShortName': 'TEMPO_NO2_L3', 'Version': 'V03'}\n",
      "Spatial coverage: {'HorizontalSpatialDomain': {'Geometry': {'GPolygons': [{'Boundary': {'Points': [{'Latitude': 57.2, 'Longitude': -163.42}, {'Latitude': 56.82, 'Longitude': -162.86}, {'Latitude': 56.46, 'Longitude': -160.66}, {'Latitude': 55.9, 'Longitude': -157.94}, {'Latitude': 54.66, 'Longitude': -153.22}, {'Latitude': 53.5, 'Longitude': -149.76}, {'Latitude': 51.98, 'Longitude': -146.06}, {'Latitude': 50.14, 'Longitude': -142.42}, {'Latitude': 48.08, 'Longitude': -139.08}, {'Latitude': 45.94, 'Longitude': -136.2}, {'Latitude': 43.72, 'Longitude': -133.68}, {'Latitude': 40.92, 'Longitude': -131.02}, {'Latitude': 38.14, 'Longitude': -128.82}, {'Latitude': 35.32, 'Longitude': -126.94}, {'Latitude': 31.82, 'Longitude': -125}, {'Latitude': 28.58, 'Longitude': -123.52}, {'Latitude': 25.02, 'Longitude': -122.18}, {'Latitude': 21.26, 'Longitude': -121.04}, {'Latitude': 17.54, 'Longitude': -120.14}, {'Latitude': 17.34, 'Longitude': -110.44}, {'Latitude': 17.2, 'Longitude': -96.4}, {'Latitude': 17.22, 'Longitude': -81.94}, {'Latitude': 17.44, 'Longitude': -65.24001}, {'Latitude': 20.96, 'Longitude': -64.46}, {'Latitude': 25.38, 'Longitude': -63.26}, {'Latitude': 29.22, 'Longitude': -61.96}, {'Latitude': 32.68, 'Longitude': -60.54}, {'Latitude': 35.9, 'Longitude': -58.96}, {'Latitude': 39.08, 'Longitude': -57.10001}, {'Latitude': 42.16, 'Longitude': -54.94}, {'Latitude': 44.46, 'Longitude': -53.04}, {'Latitude': 47.5, 'Longitude': -50.04}, {'Latitude': 50.24, 'Longitude': -46.7}, {'Latitude': 52.76, 'Longitude': -42.88}, {'Latitude': 54.82, 'Longitude': -38.98}, {'Latitude': 56.48, 'Longitude': -35.08}, {'Latitude': 58.06, 'Longitude': -30.38}, {'Latitude': 59.26, 'Longitude': -25.72}, {'Latitude': 60.36, 'Longitude': -20.04001}, {'Latitude': 61.8, 'Longitude': -19.94}, {'Latitude': 61.72, 'Longitude': -20.56}, {'Latitude': 61.82, 'Longitude': -20.58}, {'Latitude': 61.78, 'Longitude': -20.92}, {'Latitude': 61.98, 'Longitude': -21.04001}, {'Latitude': 61.96, 'Longitude': -21.18001}, {'Latitude': 62.96, 'Longitude': -21.2}, {'Latitude': 62.9, 'Longitude': -21.62001}, {'Latitude': 63.4, 'Longitude': -21.64}, {'Latitude': 63.34, 'Longitude': -22.04001}, {'Latitude': 63.62, 'Longitude': -22.06}, {'Latitude': 63.52, 'Longitude': -22.7}, {'Latitude': 63.68, 'Longitude': -22.74001}, {'Latitude': 63.56, 'Longitude': -23.52}, {'Latitude': 63.56, 'Longitude': -24.16}, {'Latitude': 62.32, 'Longitude': -32.82001}, {'Latitude': 60.8, 'Longitude': -44.16}, {'Latitude': 59.62, 'Longitude': -54.84}, {'Latitude': 58.76, 'Longitude': -63.98}, {'Latitude': 58.22, 'Longitude': -71.86}, {'Latitude': 57.86, 'Longitude': -79.5}, {'Latitude': 57.68, 'Longitude': -86.84}, {'Latitude': 57.66, 'Longitude': -93.84}, {'Latitude': 57.8, 'Longitude': -100.46}, {'Latitude': 58.2, 'Longitude': -109.56}, {'Latitude': 58.66, 'Longitude': -116.52}, {'Latitude': 59.44, 'Longitude': -125.46}, {'Latitude': 59.96, 'Longitude': -130.6}, {'Latitude': 60.9, 'Longitude': -138.54}, {'Latitude': 61, 'Longitude': -138.96}, {'Latitude': 60.96, 'Longitude': -139.1}, {'Latitude': 61.06, 'Longitude': -139.44}, {'Latitude': 61.02, 'Longitude': -139.56}, {'Latitude': 61.18, 'Longitude': -140.38}, {'Latitude': 61.24, 'Longitude': -141.3}, {'Latitude': 61.36, 'Longitude': -141.8}, {'Latitude': 62.12, 'Longitude': -147.9}, {'Latitude': 63.52, 'Longitude': -157.48}, {'Latitude': 63.6, 'Longitude': -158.94}, {'Latitude': 63.76, 'Longitude': -160.02}, {'Latitude': 63.5, 'Longitude': -160.04}, {'Latitude': 63.62, 'Longitude': -161}, {'Latitude': 62, 'Longitude': -161.02}, {'Latitude': 61.9, 'Longitude': -161.08}, {'Latitude': 61.94, 'Longitude': -161.42}, {'Latitude': 61.44, 'Longitude': -161.44}, {'Latitude': 61.48, 'Longitude': -161.66}, {'Latitude': 61.08, 'Longitude': -161.68}, {'Latitude': 61.14, 'Longitude': -162.12}, {'Latitude': 60.42, 'Longitude': -162.18}, {'Latitude': 60.46, 'Longitude': -162.54}, {'Latitude': 59.96, 'Longitude': -162.56}, {'Latitude': 59.98, 'Longitude': -162.74}, {'Latitude': 59.82, 'Longitude': -162.76}, {'Latitude': 59.84, 'Longitude': -162.94}, {'Latitude': 58.54, 'Longitude': -162.96}, {'Latitude': 58.56, 'Longitude': -163.2}, {'Latitude': 58, 'Longitude': -163.22}, {'Latitude': 58.02, 'Longitude': -163.42}, {'Latitude': 57.2, 'Longitude': -163.42}]}}]}}}\n",
      "Temporal coverage: {'RangeDateTime': {'BeginningDateTime': '2024-11-08T15:22:15+00:00', 'EndingDateTime': '2024-11-08T16:21:56+00:00'}}\n",
      "Size(MB): 791.0677623748779\n",
      "Data: ['https://data.asdc.earthdata.nasa.gov/asdc-prod-protected/TEMPO/TEMPO_NO2_L3_V03/2024.11.08/TEMPO_NO2_L3_V03_20241108T152215Z_S006.nc']\n",
      "Collection: {'ShortName': 'TEMPO_NO2_L3', 'Version': 'V03'}\n",
      "Spatial coverage: {'HorizontalSpatialDomain': {'Geometry': {'GPolygons': [{'Boundary': {'Points': [{'Latitude': 56.92, 'Longitude': -163.84}, {'Latitude': 56.32, 'Longitude': -160.18}, {'Latitude': 55.26, 'Longitude': -155.52}, {'Latitude': 53.96, 'Longitude': -151.2}, {'Latitude': 52.54, 'Longitude': -147.46}, {'Latitude': 50.9, 'Longitude': -143.94}, {'Latitude': 48.86, 'Longitude': -140.36}, {'Latitude': 46.62, 'Longitude': -137.14}, {'Latitude': 44.18, 'Longitude': -134.24}, {'Latitude': 41.44, 'Longitude': -131.54}, {'Latitude': 38.58, 'Longitude': -129.2}, {'Latitude': 35.56, 'Longitude': -127.14}, {'Latitude': 32.2, 'Longitude': -125.24}, {'Latitude': 28.76, 'Longitude': -123.64}, {'Latitude': 25.48, 'Longitude': -122.38}, {'Latitude': 21.7, 'Longitude': -121.2}, {'Latitude': 17.5, 'Longitude': -120.18}, {'Latitude': 17.28, 'Longitude': -108.14}, {'Latitude': 17.16, 'Longitude': -93.16}, {'Latitude': 17.24, 'Longitude': -77.16}, {'Latitude': 17.44, 'Longitude': -65.26}, {'Latitude': 20.9, 'Longitude': -64.5}, {'Latitude': 25.6, 'Longitude': -63.22}, {'Latitude': 28.92, 'Longitude': -62.10001}, {'Latitude': 32.66, 'Longitude': -60.58}, {'Latitude': 36.04, 'Longitude': -58.92001}, {'Latitude': 39.2, 'Longitude': -57.06001}, {'Latitude': 41.98, 'Longitude': -55.12}, {'Latitude': 44.78, 'Longitude': -52.8}, {'Latitude': 47.62, 'Longitude': -49.96}, {'Latitude': 50.3, 'Longitude': -46.68}, {'Latitude': 52.72, 'Longitude': -43.02}, {'Latitude': 54.86, 'Longitude': -38.98}, {'Latitude': 56.64, 'Longitude': -34.76001}, {'Latitude': 58.08, 'Longitude': -30.44}, {'Latitude': 59.22, 'Longitude': -26.06}, {'Latitude': 60.16, 'Longitude': -21.18001}, {'Latitude': 60.24, 'Longitude': -21.12001}, {'Latitude': 60.3, 'Longitude': -20.66}, {'Latitude': 60.38, 'Longitude': -20.60001}, {'Latitude': 60.44, 'Longitude': -20.12001}, {'Latitude': 61.86, 'Longitude': -20.2}, {'Latitude': 61.8, 'Longitude': -20.58}, {'Latitude': 61.9, 'Longitude': -20.60001}, {'Latitude': 61.86, 'Longitude': -20.94}, {'Latitude': 62.04, 'Longitude': -21.16}, {'Latitude': 62.02, 'Longitude': -21.36}, {'Latitude': 63.52, 'Longitude': -21.52}, {'Latitude': 63.42, 'Longitude': -22.14}, {'Latitude': 63.7, 'Longitude': -22.16}, {'Latitude': 63.56, 'Longitude': -23.06}, {'Latitude': 63.54, 'Longitude': -23.84}, {'Latitude': 62.14, 'Longitude': -33.64}, {'Latitude': 60.66, 'Longitude': -44.88}, {'Latitude': 59.54, 'Longitude': -54.98}, {'Latitude': 58.74, 'Longitude': -63.5}, {'Latitude': 58.18, 'Longitude': -71.6}, {'Latitude': 57.84, 'Longitude': -78.68}, {'Latitude': 57.64, 'Longitude': -85.86}, {'Latitude': 57.6, 'Longitude': -93.48}, {'Latitude': 57.74, 'Longitude': -100.62}, {'Latitude': 58.12, 'Longitude': -109.36}, {'Latitude': 58.66, 'Longitude': -117.48}, {'Latitude': 59.36, 'Longitude': -125.4}, {'Latitude': 60, 'Longitude': -131.62}, {'Latitude': 60.76, 'Longitude': -138.04}, {'Latitude': 60.94, 'Longitude': -139.12}, {'Latitude': 60.9, 'Longitude': -139.24}, {'Latitude': 61, 'Longitude': -139.6}, {'Latitude': 60.94, 'Longitude': -139.64}, {'Latitude': 61.04, 'Longitude': -139.9}, {'Latitude': 61.14, 'Longitude': -140.72}, {'Latitude': 61.1, 'Longitude': -140.82}, {'Latitude': 61.24, 'Longitude': -141.46}, {'Latitude': 61.24, 'Longitude': -141.86}, {'Latitude': 62.06, 'Longitude': -147.64}, {'Latitude': 62.04, 'Longitude': -147.84}, {'Latitude': 63.7, 'Longitude': -159.6}, {'Latitude': 63.44, 'Longitude': -159.62}, {'Latitude': 63.48, 'Longitude': -160.02}, {'Latitude': 63.1, 'Longitude': -160.04}, {'Latitude': 63.18, 'Longitude': -160.54}, {'Latitude': 61.84, 'Longitude': -160.66}, {'Latitude': 61.86, 'Longitude': -160.82}, {'Latitude': 61.68, 'Longitude': -160.98}, {'Latitude': 61.72, 'Longitude': -161.3}, {'Latitude': 61.62, 'Longitude': -161.32}, {'Latitude': 61.66, 'Longitude': -161.72}, {'Latitude': 60.74, 'Longitude': -161.88}, {'Latitude': 60.78, 'Longitude': -162.24}, {'Latitude': 60.34, 'Longitude': -162.26}, {'Latitude': 60.44, 'Longitude': -163.04}, {'Latitude': 59.14, 'Longitude': -163.1}, {'Latitude': 59.2, 'Longitude': -163.54}, {'Latitude': 58.46, 'Longitude': -163.56}, {'Latitude': 58.48, 'Longitude': -163.72}, {'Latitude': 58.2, 'Longitude': -163.74}, {'Latitude': 58.2, 'Longitude': -163.84}, {'Latitude': 56.92, 'Longitude': -163.84}]}}]}}}\n",
      "Temporal coverage: {'RangeDateTime': {'BeginningDateTime': '2024-11-08T16:22:15+00:00', 'EndingDateTime': '2024-11-08T17:21:56+00:00'}}\n",
      "Size(MB): 825.2698907852173\n",
      "Data: ['https://data.asdc.earthdata.nasa.gov/asdc-prod-protected/TEMPO/TEMPO_NO2_L3_V03/2024.11.08/TEMPO_NO2_L3_V03_20241108T162215Z_S007.nc']\n",
      "Collection: {'ShortName': 'TEMPO_NO2_L3', 'Version': 'V03'}\n",
      "Spatial coverage: {'HorizontalSpatialDomain': {'Geometry': {'GPolygons': [{'Boundary': {'Points': [{'Latitude': 56.94, 'Longitude': -163.78}, {'Latitude': 56.1, 'Longitude': -159.02}, {'Latitude': 55.14, 'Longitude': -155.02}, {'Latitude': 53.92, 'Longitude': -151.04}, {'Latitude': 52.42, 'Longitude': -147.14}, {'Latitude': 50.72, 'Longitude': -143.56}, {'Latitude': 48.7, 'Longitude': -140.08}, {'Latitude': 46.44, 'Longitude': -136.88}, {'Latitude': 43.98, 'Longitude': -134}, {'Latitude': 41.24, 'Longitude': -131.34}, {'Latitude': 38.42, 'Longitude': -129.06}, {'Latitude': 35.3, 'Longitude': -126.96}, {'Latitude': 32.08, 'Longitude': -125.16}, {'Latitude': 28.66, 'Longitude': -123.58}, {'Latitude': 25.24, 'Longitude': -122.28}, {'Latitude': 21.76, 'Longitude': -121.2}, {'Latitude': 17.52, 'Longitude': -120.16}, {'Latitude': 17.28, 'Longitude': -107.84}, {'Latitude': 17.16, 'Longitude': -93.14}, {'Latitude': 17.22, 'Longitude': -79.14}, {'Latitude': 17.42, 'Longitude': -65.26}, {'Latitude': 22.4, 'Longitude': -64.12}, {'Latitude': 25.9, 'Longitude': -63.12}, {'Latitude': 29.44, 'Longitude': -61.9}, {'Latitude': 33, 'Longitude': -60.42001}, {'Latitude': 36.54, 'Longitude': -58.64}, {'Latitude': 39.56, 'Longitude': -56.82}, {'Latitude': 42.54, 'Longitude': -54.68}, {'Latitude': 45.1, 'Longitude': -52.5}, {'Latitude': 48.06, 'Longitude': -49.46}, {'Latitude': 50.5, 'Longitude': -46.4}, {'Latitude': 52.88, 'Longitude': -42.74001}, {'Latitude': 54.96, 'Longitude': -38.76001}, {'Latitude': 56.8, 'Longitude': -34.32001}, {'Latitude': 58.16, 'Longitude': -30.16}, {'Latitude': 59.4, 'Longitude': -25.24001}, {'Latitude': 60.32, 'Longitude': -20.22}, {'Latitude': 60.68, 'Longitude': -20.04001}, {'Latitude': 60.72, 'Longitude': -19.86}, {'Latitude': 61.68, 'Longitude': -19.86}, {'Latitude': 61.6, 'Longitude': -20.36}, {'Latitude': 61.6, 'Longitude': -20.5}, {'Latitude': 61.68, 'Longitude': -20.52}, {'Latitude': 61.66, 'Longitude': -20.68001}, {'Latitude': 63.24, 'Longitude': -20.7}, {'Latitude': 63.14, 'Longitude': -21.40001}, {'Latitude': 63.52, 'Longitude': -21.42}, {'Latitude': 63.46, 'Longitude': -21.92}, {'Latitude': 63.72, 'Longitude': -22}, {'Latitude': 63.58, 'Longitude': -22.88}, {'Latitude': 63.54, 'Longitude': -23.8}, {'Latitude': 62, 'Longitude': -34.64}, {'Latitude': 60.74, 'Longitude': -44.2}, {'Latitude': 59.54, 'Longitude': -54.96}, {'Latitude': 58.62, 'Longitude': -64.94}, {'Latitude': 58.16, 'Longitude': -71.68}, {'Latitude': 57.76, 'Longitude': -80.4}, {'Latitude': 57.6, 'Longitude': -87.92}, {'Latitude': 57.6, 'Longitude': -94.24}, {'Latitude': 57.76, 'Longitude': -101.08}, {'Latitude': 58.12, 'Longitude': -109.38}, {'Latitude': 58.66, 'Longitude': -117.46}, {'Latitude': 59.36, 'Longitude': -125.36}, {'Latitude': 60, 'Longitude': -131.58}, {'Latitude': 60.76, 'Longitude': -138}, {'Latitude': 60.86, 'Longitude': -138.42}, {'Latitude': 60.9, 'Longitude': -139.2}, {'Latitude': 61, 'Longitude': -139.56}, {'Latitude': 60.98, 'Longitude': -139.8}, {'Latitude': 61.14, 'Longitude': -140.68}, {'Latitude': 61.1, 'Longitude': -140.78}, {'Latitude': 61.24, 'Longitude': -141.4}, {'Latitude': 61.94, 'Longitude': -146.96}, {'Latitude': 63.6, 'Longitude': -158.52}, {'Latitude': 63.56, 'Longitude': -158.6}, {'Latitude': 63.68, 'Longitude': -159.4}, {'Latitude': 63.54, 'Longitude': -159.42}, {'Latitude': 63.54, 'Longitude': -159.54}, {'Latitude': 63.68, 'Longitude': -160.46}, {'Latitude': 63.3, 'Longitude': -160.48}, {'Latitude': 63.36, 'Longitude': -161}, {'Latitude': 61.68, 'Longitude': -161.02}, {'Latitude': 61.74, 'Longitude': -161.34}, {'Latitude': 61.64, 'Longitude': -161.42}, {'Latitude': 61.68, 'Longitude': -161.7}, {'Latitude': 61.28, 'Longitude': -161.72}, {'Latitude': 61.32, 'Longitude': -162}, {'Latitude': 61.04, 'Longitude': -162.02}, {'Latitude': 61.06, 'Longitude': -162.2}, {'Latitude': 60.8, 'Longitude': -162.22}, {'Latitude': 60.82, 'Longitude': -162.52}, {'Latitude': 59.64, 'Longitude': -162.54}, {'Latitude': 59.48, 'Longitude': -162.62}, {'Latitude': 59.54, 'Longitude': -163.1}, {'Latitude': 58.92, 'Longitude': -163.12}, {'Latitude': 59, 'Longitude': -163.66}, {'Latitude': 58.2, 'Longitude': -163.78}, {'Latitude': 56.94, 'Longitude': -163.78}]}}]}}}\n",
      "Temporal coverage: {'RangeDateTime': {'BeginningDateTime': '2024-11-08T17:22:15+00:00', 'EndingDateTime': '2024-11-08T18:21:56+00:00'}}\n",
      "Size(MB): 839.269642829895\n",
      "Data: ['https://data.asdc.earthdata.nasa.gov/asdc-prod-protected/TEMPO/TEMPO_NO2_L3_V03/2024.11.08/TEMPO_NO2_L3_V03_20241108T172215Z_S008.nc']\n",
      "Collection: {'ShortName': 'TEMPO_NO2_L3', 'Version': 'V03'}\n",
      "Spatial coverage: {'HorizontalSpatialDomain': {'Geometry': {'GPolygons': [{'Boundary': {'Points': [{'Latitude': 57.28, 'Longitude': -163.62}, {'Latitude': 57.1, 'Longitude': -163.12}, {'Latitude': 56.72, 'Longitude': -162.64}, {'Latitude': 56.34, 'Longitude': -160.36}, {'Latitude': 55.8, 'Longitude': -157.78}, {'Latitude': 54.46, 'Longitude': -152.78}, {'Latitude': 53.3, 'Longitude': -149.4}, {'Latitude': 51.94, 'Longitude': -146.12}, {'Latitude': 50.26, 'Longitude': -142.76}, {'Latitude': 48.5, 'Longitude': -139.82}, {'Latitude': 46.28, 'Longitude': -136.72}, {'Latitude': 43.66, 'Longitude': -133.7}, {'Latitude': 41.18, 'Longitude': -131.32}, {'Latitude': 38.46, 'Longitude': -129.12}, {'Latitude': 35.58, 'Longitude': -127.16}, {'Latitude': 32.42, 'Longitude': -125.36}, {'Latitude': 28.7, 'Longitude': -123.62}, {'Latitude': 25.12, 'Longitude': -122.26}, {'Latitude': 21.1, 'Longitude': -121.04}, {'Latitude': 17.5, 'Longitude': -120.18}, {'Latitude': 17.26, 'Longitude': -106.8}, {'Latitude': 17.16, 'Longitude': -93.24}, {'Latitude': 17.22, 'Longitude': -79.3}, {'Latitude': 17.42, 'Longitude': -65.24001}, {'Latitude': 21.18, 'Longitude': -64.42001}, {'Latitude': 25.36, 'Longitude': -63.28}, {'Latitude': 28.94, 'Longitude': -62.08}, {'Latitude': 32.9, 'Longitude': -60.46}, {'Latitude': 35.98, 'Longitude': -58.94}, {'Latitude': 39.12, 'Longitude': -57.10001}, {'Latitude': 42.2, 'Longitude': -54.94}, {'Latitude': 44.7, 'Longitude': -52.86}, {'Latitude': 47.52, 'Longitude': -50.06001}, {'Latitude': 50.38, 'Longitude': -46.56001}, {'Latitude': 52.82, 'Longitude': -42.84}, {'Latitude': 54.78, 'Longitude': -39.14}, {'Latitude': 56.5, 'Longitude': -35.12001}, {'Latitude': 58.16, 'Longitude': -30.16}, {'Latitude': 59.26, 'Longitude': -25.88}, {'Latitude': 59.82, 'Longitude': -23.18001}, {'Latitude': 60.22, 'Longitude': -20.78}, {'Latitude': 60.32, 'Longitude': -20.62001}, {'Latitude': 60.4, 'Longitude': -20.10001}, {'Latitude': 61.4, 'Longitude': -20.2}, {'Latitude': 61.38, 'Longitude': -20.42}, {'Latitude': 61.88, 'Longitude': -20.44}, {'Latitude': 61.84, 'Longitude': -20.64}, {'Latitude': 63.08, 'Longitude': -20.66}, {'Latitude': 62.94, 'Longitude': -21.62001}, {'Latitude': 63.7, 'Longitude': -21.68001}, {'Latitude': 63.48, 'Longitude': -23.5}, {'Latitude': 63.48, 'Longitude': -24.16}, {'Latitude': 62.08, 'Longitude': -34}, {'Latitude': 60.74, 'Longitude': -44.14}, {'Latitude': 59.3, 'Longitude': -57.34}, {'Latitude': 58.62, 'Longitude': -64.94}, {'Latitude': 58.12, 'Longitude': -72.46}, {'Latitude': 57.78, 'Longitude': -79.84}, {'Latitude': 57.6, 'Longitude': -87.28}, {'Latitude': 57.62, 'Longitude': -96.66}, {'Latitude': 57.9, 'Longitude': -104.82}, {'Latitude': 58.32, 'Longitude': -112.92}, {'Latitude': 58.92, 'Longitude': -120.78}, {'Latitude': 59.76, 'Longitude': -129.52}, {'Latitude': 60.5, 'Longitude': -136.04}, {'Latitude': 60.8, 'Longitude': -138.08}, {'Latitude': 60.86, 'Longitude': -139.02}, {'Latitude': 60.98, 'Longitude': -139.52}, {'Latitude': 60.94, 'Longitude': -139.72}, {'Latitude': 61.06, 'Longitude': -140.22}, {'Latitude': 61.06, 'Longitude': -140.72}, {'Latitude': 61.2, 'Longitude': -141.26}, {'Latitude': 62.08, 'Longitude': -148.2}, {'Latitude': 63.56, 'Longitude': -158.4}, {'Latitude': 63.52, 'Longitude': -158.5}, {'Latitude': 63.62, 'Longitude': -159.2}, {'Latitude': 63.48, 'Longitude': -159.28}, {'Latitude': 63.6, 'Longitude': -160.12}, {'Latitude': 63.22, 'Longitude': -160.14}, {'Latitude': 63.28, 'Longitude': -160.6}, {'Latitude': 61.82, 'Longitude': -160.62}, {'Latitude': 61.86, 'Longitude': -160.86}, {'Latitude': 61.76, 'Longitude': -160.88}, {'Latitude': 61.78, 'Longitude': -161.12}, {'Latitude': 61.68, 'Longitude': -161.14}, {'Latitude': 61.72, 'Longitude': -161.4}, {'Latitude': 60.96, 'Longitude': -161.56}, {'Latitude': 61.06, 'Longitude': -162.36}, {'Latitude': 59.76, 'Longitude': -162.4}, {'Latitude': 59.78, 'Longitude': -162.54}, {'Latitude': 59.62, 'Longitude': -162.56}, {'Latitude': 59.64, 'Longitude': -162.78}, {'Latitude': 59.26, 'Longitude': -162.8}, {'Latitude': 59.28, 'Longitude': -163.06}, {'Latitude': 58.62, 'Longitude': -163.1}, {'Latitude': 58.68, 'Longitude': -163.6}, {'Latitude': 58.1, 'Longitude': -163.62}, {'Latitude': 57.28, 'Longitude': -163.62}]}}]}}}\n",
      "Temporal coverage: {'RangeDateTime': {'BeginningDateTime': '2024-11-08T18:22:15+00:00', 'EndingDateTime': '2024-11-08T19:21:56+00:00'}}\n",
      "Size(MB): 834.9432678222656\n",
      "Data: ['https://data.asdc.earthdata.nasa.gov/asdc-prod-protected/TEMPO/TEMPO_NO2_L3_V03/2024.11.08/TEMPO_NO2_L3_V03_20241108T182215Z_S009.nc']\n",
      "Collection: {'ShortName': 'TEMPO_NO2_L3', 'Version': 'V03'}\n",
      "Spatial coverage: {'HorizontalSpatialDomain': {'Geometry': {'GPolygons': [{'Boundary': {'Points': [{'Latitude': 57.32, 'Longitude': -163.86}, {'Latitude': 57.3, 'Longitude': -163.64}, {'Latitude': 57.22, 'Longitude': -163.6}, {'Latitude': 57.04, 'Longitude': -163.08}, {'Latitude': 56.74, 'Longitude': -162.74}, {'Latitude': 56.38, 'Longitude': -160.56}, {'Latitude': 55.78, 'Longitude': -157.68}, {'Latitude': 54.58, 'Longitude': -153.16}, {'Latitude': 53.46, 'Longitude': -149.82}, {'Latitude': 51.98, 'Longitude': -146.2}, {'Latitude': 50.46, 'Longitude': -143.12}, {'Latitude': 48.48, 'Longitude': -139.78}, {'Latitude': 46.24, 'Longitude': -136.66}, {'Latitude': 43.82, 'Longitude': -133.86}, {'Latitude': 41.12, 'Longitude': -131.26}, {'Latitude': 38.28, 'Longitude': -128.98}, {'Latitude': 35.56, 'Longitude': -127.14}, {'Latitude': 32.28, 'Longitude': -125.28}, {'Latitude': 28.72, 'Longitude': -123.62}, {'Latitude': 25.2, 'Longitude': -122.28}, {'Latitude': 21.86, 'Longitude': -121.24}, {'Latitude': 17.52, 'Longitude': -120.18}, {'Latitude': 17.3, 'Longitude': -109.52}, {'Latitude': 17.18, 'Longitude': -96.66}, {'Latitude': 17.2, 'Longitude': -81.56001}, {'Latitude': 17.42, 'Longitude': -65.24001}, {'Latitude': 21.18, 'Longitude': -64.42001}, {'Latitude': 25.56, 'Longitude': -63.22}, {'Latitude': 29.16, 'Longitude': -62}, {'Latitude': 32.86, 'Longitude': -60.48}, {'Latitude': 36.28, 'Longitude': -58.78}, {'Latitude': 39.28, 'Longitude': -57}, {'Latitude': 42.18, 'Longitude': -54.96}, {'Latitude': 44.86, 'Longitude': -52.72}, {'Latitude': 47.94, 'Longitude': -49.60001}, {'Latitude': 50.46, 'Longitude': -46.46}, {'Latitude': 52.78, 'Longitude': -42.92001}, {'Latitude': 54.92, 'Longitude': -38.86}, {'Latitude': 56.74, 'Longitude': -34.5}, {'Latitude': 58.12, 'Longitude': -30.32001}, {'Latitude': 59.4, 'Longitude': -25.28}, {'Latitude': 60.38, 'Longitude': -19.86}, {'Latitude': 61.8, 'Longitude': -19.86}, {'Latitude': 61.72, 'Longitude': -20.54001}, {'Latitude': 61.8, 'Longitude': -20.56}, {'Latitude': 61.78, 'Longitude': -20.86}, {'Latitude': 61.88, 'Longitude': -20.88}, {'Latitude': 61.84, 'Longitude': -21.16}, {'Latitude': 63.68, 'Longitude': -21.22}, {'Latitude': 63.52, 'Longitude': -22.32001}, {'Latitude': 63.52, 'Longitude': -22.44}, {'Latitude': 63.66, 'Longitude': -22.46001}, {'Latitude': 63.54, 'Longitude': -23.24001}, {'Latitude': 63.58, 'Longitude': -23.34}, {'Latitude': 62.08, 'Longitude': -33.86}, {'Latitude': 60.72, 'Longitude': -44.18}, {'Latitude': 59.84, 'Longitude': -51.9}, {'Latitude': 59.18, 'Longitude': -58.42001}, {'Latitude': 58.68, 'Longitude': -63.92001}, {'Latitude': 58.04, 'Longitude': -73.78}, {'Latitude': 57.72, 'Longitude': -81.7}, {'Latitude': 57.6, 'Longitude': -88.06001}, {'Latitude': 57.62, 'Longitude': -96.24}, {'Latitude': 57.86, 'Longitude': -103.78}, {'Latitude': 58.32, 'Longitude': -112.78}, {'Latitude': 58.94, 'Longitude': -120.92}, {'Latitude': 59.84, 'Longitude': -130.22}, {'Latitude': 60.52, 'Longitude': -136.18}, {'Latitude': 60.78, 'Longitude': -137.9}, {'Latitude': 60.74, 'Longitude': -138}, {'Latitude': 60.96, 'Longitude': -139.34}, {'Latitude': 60.94, 'Longitude': -139.68}, {'Latitude': 61.12, 'Longitude': -140.66}, {'Latitude': 61.08, 'Longitude': -140.8}, {'Latitude': 61.2, 'Longitude': -141.22}, {'Latitude': 62.18, 'Longitude': -148.94}, {'Latitude': 63.58, 'Longitude': -158.52}, {'Latitude': 63.54, 'Longitude': -158.62}, {'Latitude': 63.66, 'Longitude': -159.38}, {'Latitude': 63.5, 'Longitude': -159.4}, {'Latitude': 63.68, 'Longitude': -160.6}, {'Latitude': 61.94, 'Longitude': -160.62}, {'Latitude': 61.96, 'Longitude': -160.76}, {'Latitude': 61.86, 'Longitude': -160.78}, {'Latitude': 61.88, 'Longitude': -160.94}, {'Latitude': 61.68, 'Longitude': -161.1}, {'Latitude': 61.72, 'Longitude': -161.48}, {'Latitude': 61.62, 'Longitude': -161.5}, {'Latitude': 61.68, 'Longitude': -161.94}, {'Latitude': 61.02, 'Longitude': -161.96}, {'Latitude': 61.06, 'Longitude': -162.36}, {'Latitude': 59.76, 'Longitude': -162.4}, {'Latitude': 59.78, 'Longitude': -162.56}, {'Latitude': 59.4, 'Longitude': -162.58}, {'Latitude': 59.42, 'Longitude': -162.78}, {'Latitude': 59.02, 'Longitude': -162.8}, {'Latitude': 59.1, 'Longitude': -163.3}, {'Latitude': 58.36, 'Longitude': -163.32}, {'Latitude': 58.4, 'Longitude': -163.74}, {'Latitude': 58.12, 'Longitude': -163.76}, {'Latitude': 58.14, 'Longitude': -163.86}, {'Latitude': 57.32, 'Longitude': -163.86}]}}]}}}\n",
      "Temporal coverage: {'RangeDateTime': {'BeginningDateTime': '2024-11-08T19:22:15+00:00', 'EndingDateTime': '2024-11-08T20:21:56+00:00'}}\n",
      "Size(MB): 810.6064367294312\n",
      "Data: ['https://data.asdc.earthdata.nasa.gov/asdc-prod-protected/TEMPO/TEMPO_NO2_L3_V03/2024.11.08/TEMPO_NO2_L3_V03_20241108T192215Z_S010.nc']\n",
      "Collection: {'ShortName': 'TEMPO_NO2_L3', 'Version': 'V03'}\n",
      "Spatial coverage: {'HorizontalSpatialDomain': {'Geometry': {'GPolygons': [{'Boundary': {'Points': [{'Latitude': 56.9, 'Longitude': -163.78}, {'Latitude': 56.06, 'Longitude': -159}, {'Latitude': 55.12, 'Longitude': -155.08}, {'Latitude': 53.8, 'Longitude': -150.8}, {'Latitude': 52.4, 'Longitude': -147.18}, {'Latitude': 50.64, 'Longitude': -143.48}, {'Latitude': 48.7, 'Longitude': -140.14}, {'Latitude': 46.6, 'Longitude': -137.14}, {'Latitude': 44.18, 'Longitude': -134.26}, {'Latitude': 41.62, 'Longitude': -131.72}, {'Latitude': 38.88, 'Longitude': -129.44}, {'Latitude': 35.86, 'Longitude': -127.34}, {'Latitude': 32.26, 'Longitude': -125.28}, {'Latitude': 28.98, 'Longitude': -123.74}, {'Latitude': 25.52, 'Longitude': -122.4}, {'Latitude': 21.68, 'Longitude': -121.2}, {'Latitude': 17.52, 'Longitude': -120.18}, {'Latitude': 17.32, 'Longitude': -110.52}, {'Latitude': 17.2, 'Longitude': -99.98}, {'Latitude': 17.22, 'Longitude': -79.42}, {'Latitude': 17.42, 'Longitude': -65.38}, {'Latitude': 17.44, 'Longitude': -65.24001}, {'Latitude': 18.02, 'Longitude': -65.12}, {'Latitude': 22.54, 'Longitude': -64.08}, {'Latitude': 25.7, 'Longitude': -63.18}, {'Latitude': 29.7, 'Longitude': -61.8}, {'Latitude': 33, 'Longitude': -60.42001}, {'Latitude': 36.14, 'Longitude': -58.86}, {'Latitude': 39.32, 'Longitude': -56.98}, {'Latitude': 42.24, 'Longitude': -54.92001}, {'Latitude': 45, 'Longitude': -52.60001}, {'Latitude': 47.68, 'Longitude': -49.9}, {'Latitude': 50.54, 'Longitude': -46.36}, {'Latitude': 52.94, 'Longitude': -42.66}, {'Latitude': 55.04, 'Longitude': -38.62001}, {'Latitude': 56.8, 'Longitude': -34.36}, {'Latitude': 58.34, 'Longitude': -29.58}, {'Latitude': 59.46, 'Longitude': -25.04001}, {'Latitude': 60.34, 'Longitude': -20.14}, {'Latitude': 61.76, 'Longitude': -20.18001}, {'Latitude': 61.7, 'Longitude': -20.62001}, {'Latitude': 61.8, 'Longitude': -20.64}, {'Latitude': 61.76, 'Longitude': -20.98}, {'Latitude': 61.86, 'Longitude': -21}, {'Latitude': 61.84, 'Longitude': -21.14}, {'Latitude': 63.3, 'Longitude': -21.16}, {'Latitude': 63.22, 'Longitude': -21.74001}, {'Latitude': 63.6, 'Longitude': -21.76001}, {'Latitude': 63.5, 'Longitude': -22.48}, {'Latitude': 63.64, 'Longitude': -22.58}, {'Latitude': 63.56, 'Longitude': -23.52}, {'Latitude': 62.2, 'Longitude': -33.04001}, {'Latitude': 60.74, 'Longitude': -44.06001}, {'Latitude': 59.64, 'Longitude': -53.86}, {'Latitude': 58.72, 'Longitude': -63.54}, {'Latitude': 58.16, 'Longitude': -71.7}, {'Latitude': 57.82, 'Longitude': -78.9}, {'Latitude': 57.62, 'Longitude': -86.76}, {'Latitude': 57.6, 'Longitude': -94.06001}, {'Latitude': 57.74, 'Longitude': -100.64}, {'Latitude': 58.12, 'Longitude': -109.48}, {'Latitude': 58.66, 'Longitude': -117.56}, {'Latitude': 59.34, 'Longitude': -125.22}, {'Latitude': 59.9, 'Longitude': -130.7}, {'Latitude': 60.74, 'Longitude': -137.9}, {'Latitude': 61.04, 'Longitude': -139.9}, {'Latitude': 61, 'Longitude': -140.08}, {'Latitude': 61.14, 'Longitude': -140.68}, {'Latitude': 61.16, 'Longitude': -141.22}, {'Latitude': 61.26, 'Longitude': -141.6}, {'Latitude': 61.3, 'Longitude': -142.28}, {'Latitude': 62.18, 'Longitude': -148.84}, {'Latitude': 63.46, 'Longitude': -157.58}, {'Latitude': 63.42, 'Longitude': -157.7}, {'Latitude': 63.54, 'Longitude': -159.06}, {'Latitude': 63.68, 'Longitude': -160}, {'Latitude': 63.42, 'Longitude': -160.02}, {'Latitude': 63.56, 'Longitude': -161.06}, {'Latitude': 62.96, 'Longitude': -161.08}, {'Latitude': 62.98, 'Longitude': -161.28}, {'Latitude': 62.2, 'Longitude': -161.32}, {'Latitude': 62.24, 'Longitude': -161.62}, {'Latitude': 60.86, 'Longitude': -161.66}, {'Latitude': 60.96, 'Longitude': -162.54}, {'Latitude': 60.52, 'Longitude': -162.56}, {'Latitude': 60.56, 'Longitude': -162.86}, {'Latitude': 59.88, 'Longitude': -162.88}, {'Latitude': 59.94, 'Longitude': -163.3}, {'Latitude': 59.14, 'Longitude': -163.32}, {'Latitude': 59.2, 'Longitude': -163.78}, {'Latitude': 56.9, 'Longitude': -163.78}]}}]}}}\n",
      "Temporal coverage: {'RangeDateTime': {'BeginningDateTime': '2024-11-08T20:22:15+00:00', 'EndingDateTime': '2024-11-08T21:21:56+00:00'}}\n",
      "Size(MB): 761.9312372207642\n",
      "Data: ['https://data.asdc.earthdata.nasa.gov/asdc-prod-protected/TEMPO/TEMPO_NO2_L3_V03/2024.11.08/TEMPO_NO2_L3_V03_20241108T202215Z_S011.nc']\n"
     ]
    }
   ],
   "source": [
    "try:\n",
    "    import earthaccess\n",
    "    print(\"earthaccess is already installed\")\n",
    "except ImportError:\n",
    "    !pip install earthaccess\n",
    "    import earthaccess\n",
    "Auth = earthaccess.login()\n",
    "tempo = earthaccess.search_data(\n",
    "    short_name=\"TEMPO_NO2_L3\",\n",
    "    temporal=('2024-11-08 12:00:00', '2024-11-08 23:59:59'),\n",
    "    bounding_box=(-74.2591, 40.4774, -73.7004, 40.9176)  # Bounding box for NYC\n",
    ")\n",
    "# Display the search results\n",
    "print(f\"Found {len(tempo)} results\")\n",
    "# Print the metadata for each result\n",
    "for result in tempo:\n",
    "    print(result)\n"
   ]
  },
  {
   "cell_type": "code",
   "execution_count": 11,
   "id": "422031ab",
   "metadata": {},
   "outputs": [
    {
     "data": {
      "application/vnd.jupyter.widget-view+json": {
       "model_id": "b0548050967246b2a69bea3057bc4a16",
       "version_major": 2,
       "version_minor": 0
      },
      "text/plain": [
       "QUEUEING TASKS | :   0%|          | 0/10 [00:00<?, ?it/s]"
      ]
     },
     "metadata": {},
     "output_type": "display_data"
    },
    {
     "data": {
      "application/vnd.jupyter.widget-view+json": {
       "model_id": "668bab5999e440ee98cc0bc5f16838be",
       "version_major": 2,
       "version_minor": 0
      },
      "text/plain": [
       "PROCESSING TASKS | :   0%|          | 0/10 [00:00<?, ?it/s]"
      ]
     },
     "metadata": {},
     "output_type": "display_data"
    },
    {
     "name": "stderr",
     "output_type": "stream",
     "text": [
      "Error while downloading the file TEMPO_NO2_L3_V03_20241108T162215Z_S007.nc\n",
      "Traceback (most recent call last):\n",
      "  File \"C:\\Users\\kyttm\\AppData\\Roaming\\Python\\Python310\\site-packages\\urllib3\\response.py\", line 754, in _error_catcher\n",
      "    yield\n",
      "  File \"C:\\Users\\kyttm\\AppData\\Roaming\\Python\\Python310\\site-packages\\urllib3\\response.py\", line 900, in _raw_read\n",
      "    raise IncompleteRead(self._fp_bytes_read, self.length_remaining)\n",
      "urllib3.exceptions.IncompleteRead: IncompleteRead(546781754 bytes read, 312039231 more expected)\n",
      "\n",
      "The above exception was the direct cause of the following exception:\n",
      "\n",
      "Traceback (most recent call last):\n",
      "  File \"C:\\Users\\kyttm\\AppData\\Roaming\\Python\\Python310\\site-packages\\requests\\models.py\", line 820, in generate\n",
      "    yield from self.raw.stream(chunk_size, decode_content=True)\n",
      "  File \"C:\\Users\\kyttm\\AppData\\Roaming\\Python\\Python310\\site-packages\\urllib3\\response.py\", line 1066, in stream\n",
      "    data = self.read(amt=amt, decode_content=decode_content)\n",
      "  File \"C:\\Users\\kyttm\\AppData\\Roaming\\Python\\Python310\\site-packages\\urllib3\\response.py\", line 983, in read\n",
      "    data = self._raw_read(amt)\n",
      "  File \"C:\\Users\\kyttm\\AppData\\Roaming\\Python\\Python310\\site-packages\\urllib3\\response.py\", line 878, in _raw_read\n",
      "    with self._error_catcher():\n",
      "  File \"c:\\Program Files\\Python310\\lib\\contextlib.py\", line 153, in __exit__\n",
      "    self.gen.throw(typ, value, traceback)\n",
      "  File \"C:\\Users\\kyttm\\AppData\\Roaming\\Python\\Python310\\site-packages\\urllib3\\response.py\", line 778, in _error_catcher\n",
      "    raise ProtocolError(arg, e) from e\n",
      "urllib3.exceptions.ProtocolError: ('Connection broken: IncompleteRead(546781754 bytes read, 312039231 more expected)', IncompleteRead(546781754 bytes read, 312039231 more expected))\n",
      "\n",
      "During handling of the above exception, another exception occurred:\n",
      "\n",
      "Traceback (most recent call last):\n",
      "  File \"C:\\Users\\kyttm\\AppData\\Roaming\\Python\\Python310\\site-packages\\earthaccess\\store.py\", line 701, in _download_file\n",
      "    for chunk in r.iter_content(chunk_size=1024 * 1024):\n",
      "  File \"C:\\Users\\kyttm\\AppData\\Roaming\\Python\\Python310\\site-packages\\requests\\models.py\", line 822, in generate\n",
      "    raise ChunkedEncodingError(e)\n",
      "requests.exceptions.ChunkedEncodingError: ('Connection broken: IncompleteRead(546781754 bytes read, 312039231 more expected)', IncompleteRead(546781754 bytes read, 312039231 more expected))\n"
     ]
    },
    {
     "data": {
      "application/vnd.jupyter.widget-view+json": {
       "model_id": "a2ffe89b542144db9160d77f3944ca16",
       "version_major": 2,
       "version_minor": 0
      },
      "text/plain": [
       "COLLECTING RESULTS | :   0%|          | 0/10 [00:00<?, ?it/s]"
      ]
     },
     "metadata": {},
     "output_type": "display_data"
    },
    {
     "ename": "Exception",
     "evalue": "",
     "output_type": "error",
     "traceback": [
      "\u001b[1;31m---------------------------------------------------------------------------\u001b[0m",
      "\u001b[1;31mIncompleteRead\u001b[0m                            Traceback (most recent call last)",
      "File \u001b[1;32m~\\AppData\\Roaming\\Python\\Python310\\site-packages\\urllib3\\response.py:754\u001b[0m, in \u001b[0;36mHTTPResponse._error_catcher\u001b[1;34m(self)\u001b[0m\n\u001b[0;32m    753\u001b[0m \u001b[38;5;28;01mtry\u001b[39;00m:\n\u001b[1;32m--> 754\u001b[0m     \u001b[38;5;28;01myield\u001b[39;00m\n\u001b[0;32m    756\u001b[0m \u001b[38;5;28;01mexcept\u001b[39;00m SocketTimeout \u001b[38;5;28;01mas\u001b[39;00m e:\n\u001b[0;32m    757\u001b[0m     \u001b[38;5;66;03m# FIXME: Ideally we'd like to include the url in the ReadTimeoutError but\u001b[39;00m\n\u001b[0;32m    758\u001b[0m     \u001b[38;5;66;03m# there is yet no clean way to get at it from this context.\u001b[39;00m\n",
      "File \u001b[1;32m~\\AppData\\Roaming\\Python\\Python310\\site-packages\\urllib3\\response.py:900\u001b[0m, in \u001b[0;36mHTTPResponse._raw_read\u001b[1;34m(self, amt, read1)\u001b[0m\n\u001b[0;32m    890\u001b[0m     \u001b[38;5;28;01mif\u001b[39;00m (\n\u001b[0;32m    891\u001b[0m         \u001b[38;5;28mself\u001b[39m\u001b[38;5;241m.\u001b[39menforce_content_length\n\u001b[0;32m    892\u001b[0m         \u001b[38;5;129;01mand\u001b[39;00m \u001b[38;5;28mself\u001b[39m\u001b[38;5;241m.\u001b[39mlength_remaining \u001b[38;5;129;01mis\u001b[39;00m \u001b[38;5;129;01mnot\u001b[39;00m \u001b[38;5;28;01mNone\u001b[39;00m\n\u001b[1;32m   (...)\u001b[0m\n\u001b[0;32m    898\u001b[0m         \u001b[38;5;66;03m# raised during streaming, so all calls with incorrect\u001b[39;00m\n\u001b[0;32m    899\u001b[0m         \u001b[38;5;66;03m# Content-Length are caught.\u001b[39;00m\n\u001b[1;32m--> 900\u001b[0m         \u001b[38;5;28;01mraise\u001b[39;00m IncompleteRead(\u001b[38;5;28mself\u001b[39m\u001b[38;5;241m.\u001b[39m_fp_bytes_read, \u001b[38;5;28mself\u001b[39m\u001b[38;5;241m.\u001b[39mlength_remaining)\n\u001b[0;32m    901\u001b[0m \u001b[38;5;28;01melif\u001b[39;00m read1 \u001b[38;5;129;01mand\u001b[39;00m (\n\u001b[0;32m    902\u001b[0m     (amt \u001b[38;5;241m!=\u001b[39m \u001b[38;5;241m0\u001b[39m \u001b[38;5;129;01mand\u001b[39;00m \u001b[38;5;129;01mnot\u001b[39;00m data) \u001b[38;5;129;01mor\u001b[39;00m \u001b[38;5;28mself\u001b[39m\u001b[38;5;241m.\u001b[39mlength_remaining \u001b[38;5;241m==\u001b[39m \u001b[38;5;28mlen\u001b[39m(data)\n\u001b[0;32m    903\u001b[0m ):\n\u001b[1;32m   (...)\u001b[0m\n\u001b[0;32m    906\u001b[0m     \u001b[38;5;66;03m# `http.client.HTTPResponse`, so we close it here.\u001b[39;00m\n\u001b[0;32m    907\u001b[0m     \u001b[38;5;66;03m# See https://github.com/python/cpython/issues/113199\u001b[39;00m\n",
      "\u001b[1;31mIncompleteRead\u001b[0m: IncompleteRead(546781754 bytes read, 312039231 more expected)",
      "\nThe above exception was the direct cause of the following exception:\n",
      "\u001b[1;31mProtocolError\u001b[0m                             Traceback (most recent call last)",
      "File \u001b[1;32m~\\AppData\\Roaming\\Python\\Python310\\site-packages\\requests\\models.py:820\u001b[0m, in \u001b[0;36mResponse.iter_content.<locals>.generate\u001b[1;34m()\u001b[0m\n\u001b[0;32m    819\u001b[0m \u001b[38;5;28;01mtry\u001b[39;00m:\n\u001b[1;32m--> 820\u001b[0m     \u001b[38;5;28;01myield from\u001b[39;00m \u001b[38;5;28mself\u001b[39m\u001b[38;5;241m.\u001b[39mraw\u001b[38;5;241m.\u001b[39mstream(chunk_size, decode_content\u001b[38;5;241m=\u001b[39m\u001b[38;5;28;01mTrue\u001b[39;00m)\n\u001b[0;32m    821\u001b[0m \u001b[38;5;28;01mexcept\u001b[39;00m ProtocolError \u001b[38;5;28;01mas\u001b[39;00m e:\n",
      "File \u001b[1;32m~\\AppData\\Roaming\\Python\\Python310\\site-packages\\urllib3\\response.py:1066\u001b[0m, in \u001b[0;36mHTTPResponse.stream\u001b[1;34m(self, amt, decode_content)\u001b[0m\n\u001b[0;32m   1065\u001b[0m \u001b[38;5;28;01mwhile\u001b[39;00m \u001b[38;5;129;01mnot\u001b[39;00m is_fp_closed(\u001b[38;5;28mself\u001b[39m\u001b[38;5;241m.\u001b[39m_fp) \u001b[38;5;129;01mor\u001b[39;00m \u001b[38;5;28mlen\u001b[39m(\u001b[38;5;28mself\u001b[39m\u001b[38;5;241m.\u001b[39m_decoded_buffer) \u001b[38;5;241m>\u001b[39m \u001b[38;5;241m0\u001b[39m:\n\u001b[1;32m-> 1066\u001b[0m     data \u001b[38;5;241m=\u001b[39m \u001b[38;5;28;43mself\u001b[39;49m\u001b[38;5;241;43m.\u001b[39;49m\u001b[43mread\u001b[49m\u001b[43m(\u001b[49m\u001b[43mamt\u001b[49m\u001b[38;5;241;43m=\u001b[39;49m\u001b[43mamt\u001b[49m\u001b[43m,\u001b[49m\u001b[43m \u001b[49m\u001b[43mdecode_content\u001b[49m\u001b[38;5;241;43m=\u001b[39;49m\u001b[43mdecode_content\u001b[49m\u001b[43m)\u001b[49m\n\u001b[0;32m   1068\u001b[0m     \u001b[38;5;28;01mif\u001b[39;00m data:\n",
      "File \u001b[1;32m~\\AppData\\Roaming\\Python\\Python310\\site-packages\\urllib3\\response.py:983\u001b[0m, in \u001b[0;36mHTTPResponse.read\u001b[1;34m(self, amt, decode_content, cache_content)\u001b[0m\n\u001b[0;32m    979\u001b[0m \u001b[38;5;28;01mwhile\u001b[39;00m \u001b[38;5;28mlen\u001b[39m(\u001b[38;5;28mself\u001b[39m\u001b[38;5;241m.\u001b[39m_decoded_buffer) \u001b[38;5;241m<\u001b[39m amt \u001b[38;5;129;01mand\u001b[39;00m data:\n\u001b[0;32m    980\u001b[0m     \u001b[38;5;66;03m# TODO make sure to initially read enough data to get past the headers\u001b[39;00m\n\u001b[0;32m    981\u001b[0m     \u001b[38;5;66;03m# For example, the GZ file header takes 10 bytes, we don't want to read\u001b[39;00m\n\u001b[0;32m    982\u001b[0m     \u001b[38;5;66;03m# it one byte at a time\u001b[39;00m\n\u001b[1;32m--> 983\u001b[0m     data \u001b[38;5;241m=\u001b[39m \u001b[38;5;28;43mself\u001b[39;49m\u001b[38;5;241;43m.\u001b[39;49m\u001b[43m_raw_read\u001b[49m\u001b[43m(\u001b[49m\u001b[43mamt\u001b[49m\u001b[43m)\u001b[49m\n\u001b[0;32m    984\u001b[0m     decoded_data \u001b[38;5;241m=\u001b[39m \u001b[38;5;28mself\u001b[39m\u001b[38;5;241m.\u001b[39m_decode(data, decode_content, flush_decoder)\n",
      "File \u001b[1;32m~\\AppData\\Roaming\\Python\\Python310\\site-packages\\urllib3\\response.py:878\u001b[0m, in \u001b[0;36mHTTPResponse._raw_read\u001b[1;34m(self, amt, read1)\u001b[0m\n\u001b[0;32m    876\u001b[0m fp_closed \u001b[38;5;241m=\u001b[39m \u001b[38;5;28mgetattr\u001b[39m(\u001b[38;5;28mself\u001b[39m\u001b[38;5;241m.\u001b[39m_fp, \u001b[38;5;124m\"\u001b[39m\u001b[38;5;124mclosed\u001b[39m\u001b[38;5;124m\"\u001b[39m, \u001b[38;5;28;01mFalse\u001b[39;00m)\n\u001b[1;32m--> 878\u001b[0m \u001b[38;5;28;01mwith\u001b[39;00m \u001b[38;5;28mself\u001b[39m\u001b[38;5;241m.\u001b[39m_error_catcher():\n\u001b[0;32m    879\u001b[0m     data \u001b[38;5;241m=\u001b[39m \u001b[38;5;28mself\u001b[39m\u001b[38;5;241m.\u001b[39m_fp_read(amt, read1\u001b[38;5;241m=\u001b[39mread1) \u001b[38;5;28;01mif\u001b[39;00m \u001b[38;5;129;01mnot\u001b[39;00m fp_closed \u001b[38;5;28;01melse\u001b[39;00m \u001b[38;5;124mb\u001b[39m\u001b[38;5;124m\"\u001b[39m\u001b[38;5;124m\"\u001b[39m\n",
      "File \u001b[1;32mc:\\Program Files\\Python310\\lib\\contextlib.py:153\u001b[0m, in \u001b[0;36m_GeneratorContextManager.__exit__\u001b[1;34m(self, typ, value, traceback)\u001b[0m\n\u001b[0;32m    152\u001b[0m \u001b[38;5;28;01mtry\u001b[39;00m:\n\u001b[1;32m--> 153\u001b[0m     \u001b[38;5;28;43mself\u001b[39;49m\u001b[38;5;241;43m.\u001b[39;49m\u001b[43mgen\u001b[49m\u001b[38;5;241;43m.\u001b[39;49m\u001b[43mthrow\u001b[49m\u001b[43m(\u001b[49m\u001b[43mtyp\u001b[49m\u001b[43m,\u001b[49m\u001b[43m \u001b[49m\u001b[43mvalue\u001b[49m\u001b[43m,\u001b[49m\u001b[43m \u001b[49m\u001b[43mtraceback\u001b[49m\u001b[43m)\u001b[49m\n\u001b[0;32m    154\u001b[0m \u001b[38;5;28;01mexcept\u001b[39;00m \u001b[38;5;167;01mStopIteration\u001b[39;00m \u001b[38;5;28;01mas\u001b[39;00m exc:\n\u001b[0;32m    155\u001b[0m     \u001b[38;5;66;03m# Suppress StopIteration *unless* it's the same exception that\u001b[39;00m\n\u001b[0;32m    156\u001b[0m     \u001b[38;5;66;03m# was passed to throw().  This prevents a StopIteration\u001b[39;00m\n\u001b[0;32m    157\u001b[0m     \u001b[38;5;66;03m# raised inside the \"with\" statement from being suppressed.\u001b[39;00m\n",
      "File \u001b[1;32m~\\AppData\\Roaming\\Python\\Python310\\site-packages\\urllib3\\response.py:778\u001b[0m, in \u001b[0;36mHTTPResponse._error_catcher\u001b[1;34m(self)\u001b[0m\n\u001b[0;32m    777\u001b[0m         arg \u001b[38;5;241m=\u001b[39m \u001b[38;5;124mf\u001b[39m\u001b[38;5;124m\"\u001b[39m\u001b[38;5;124mConnection broken: \u001b[39m\u001b[38;5;132;01m{\u001b[39;00me\u001b[38;5;132;01m!r}\u001b[39;00m\u001b[38;5;124m\"\u001b[39m\n\u001b[1;32m--> 778\u001b[0m     \u001b[38;5;28;01mraise\u001b[39;00m ProtocolError(arg, e) \u001b[38;5;28;01mfrom\u001b[39;00m\u001b[38;5;250m \u001b[39m\u001b[38;5;21;01me\u001b[39;00m\n\u001b[0;32m    780\u001b[0m \u001b[38;5;28;01mexcept\u001b[39;00m (HTTPException, \u001b[38;5;167;01mOSError\u001b[39;00m) \u001b[38;5;28;01mas\u001b[39;00m e:\n",
      "\u001b[1;31mProtocolError\u001b[0m: ('Connection broken: IncompleteRead(546781754 bytes read, 312039231 more expected)', IncompleteRead(546781754 bytes read, 312039231 more expected))",
      "\nDuring handling of the above exception, another exception occurred:\n",
      "\u001b[1;31mChunkedEncodingError\u001b[0m                      Traceback (most recent call last)",
      "File \u001b[1;32m~\\AppData\\Roaming\\Python\\Python310\\site-packages\\earthaccess\\store.py:701\u001b[0m, in \u001b[0;36mStore._download_file\u001b[1;34m(self, url, directory)\u001b[0m\n\u001b[0;32m    698\u001b[0m \u001b[38;5;28;01mwith\u001b[39;00m \u001b[38;5;28mopen\u001b[39m(path, \u001b[38;5;124m\"\u001b[39m\u001b[38;5;124mwb\u001b[39m\u001b[38;5;124m\"\u001b[39m) \u001b[38;5;28;01mas\u001b[39;00m f:\n\u001b[0;32m    699\u001b[0m     \u001b[38;5;66;03m# Cap memory usage for large files at 1MB per write to disk per thread\u001b[39;00m\n\u001b[0;32m    700\u001b[0m     \u001b[38;5;66;03m# https://docs.python-requests.org/en/latest/user/quickstart/#raw-response-content\u001b[39;00m\n\u001b[1;32m--> 701\u001b[0m     \u001b[38;5;28;01mfor\u001b[39;00m chunk \u001b[38;5;129;01min\u001b[39;00m r\u001b[38;5;241m.\u001b[39miter_content(chunk_size\u001b[38;5;241m=\u001b[39m\u001b[38;5;241m1024\u001b[39m \u001b[38;5;241m*\u001b[39m \u001b[38;5;241m1024\u001b[39m):\n\u001b[0;32m    702\u001b[0m         f\u001b[38;5;241m.\u001b[39mwrite(chunk)\n",
      "File \u001b[1;32m~\\AppData\\Roaming\\Python\\Python310\\site-packages\\requests\\models.py:822\u001b[0m, in \u001b[0;36mResponse.iter_content.<locals>.generate\u001b[1;34m()\u001b[0m\n\u001b[0;32m    821\u001b[0m \u001b[38;5;28;01mexcept\u001b[39;00m ProtocolError \u001b[38;5;28;01mas\u001b[39;00m e:\n\u001b[1;32m--> 822\u001b[0m     \u001b[38;5;28;01mraise\u001b[39;00m ChunkedEncodingError(e)\n\u001b[0;32m    823\u001b[0m \u001b[38;5;28;01mexcept\u001b[39;00m DecodeError \u001b[38;5;28;01mas\u001b[39;00m e:\n",
      "\u001b[1;31mChunkedEncodingError\u001b[0m: ('Connection broken: IncompleteRead(546781754 bytes read, 312039231 more expected)', IncompleteRead(546781754 bytes read, 312039231 more expected))",
      "\nDuring handling of the above exception, another exception occurred:\n",
      "\u001b[1;31mException\u001b[0m                                 Traceback (most recent call last)",
      "Cell \u001b[1;32mIn[11], line 1\u001b[0m\n\u001b[1;32m----> 1\u001b[0m \u001b[43mearthaccess\u001b[49m\u001b[38;5;241;43m.\u001b[39;49m\u001b[43mdownload\u001b[49m\u001b[43m(\u001b[49m\u001b[43mtempo\u001b[49m\u001b[43m,\u001b[49m\u001b[43m \u001b[49m\u001b[38;5;124;43m'\u001b[39;49m\u001b[38;5;124;43mdata\u001b[39;49m\u001b[38;5;124;43m'\u001b[39;49m\u001b[43m)\u001b[49m\n",
      "File \u001b[1;32m~\\AppData\\Roaming\\Python\\Python310\\site-packages\\earthaccess\\api.py:270\u001b[0m, in \u001b[0;36mdownload\u001b[1;34m(granules, local_path, provider, threads, pqdm_kwargs)\u001b[0m\n\u001b[0;32m    267\u001b[0m     granules \u001b[38;5;241m=\u001b[39m [granules]\n\u001b[0;32m    269\u001b[0m \u001b[38;5;28;01mtry\u001b[39;00m:\n\u001b[1;32m--> 270\u001b[0m     \u001b[38;5;28;01mreturn\u001b[39;00m \u001b[43mearthaccess\u001b[49m\u001b[38;5;241;43m.\u001b[39;49m\u001b[43m__store__\u001b[49m\u001b[38;5;241;43m.\u001b[39;49m\u001b[43mget\u001b[49m\u001b[43m(\u001b[49m\n\u001b[0;32m    271\u001b[0m \u001b[43m        \u001b[49m\u001b[43mgranules\u001b[49m\u001b[43m,\u001b[49m\u001b[43m \u001b[49m\u001b[43mlocal_path\u001b[49m\u001b[43m,\u001b[49m\u001b[43m \u001b[49m\u001b[43mprovider\u001b[49m\u001b[43m,\u001b[49m\u001b[43m \u001b[49m\u001b[43mthreads\u001b[49m\u001b[43m,\u001b[49m\u001b[43m \u001b[49m\u001b[43mpqdm_kwargs\u001b[49m\u001b[38;5;241;43m=\u001b[39;49m\u001b[43mpqdm_kwargs\u001b[49m\n\u001b[0;32m    272\u001b[0m \u001b[43m    \u001b[49m\u001b[43m)\u001b[49m\n\u001b[0;32m    273\u001b[0m \u001b[38;5;28;01mexcept\u001b[39;00m \u001b[38;5;167;01mAttributeError\u001b[39;00m \u001b[38;5;28;01mas\u001b[39;00m err:\n\u001b[0;32m    274\u001b[0m     logger\u001b[38;5;241m.\u001b[39merror(\n\u001b[0;32m    275\u001b[0m         \u001b[38;5;124mf\u001b[39m\u001b[38;5;124m\"\u001b[39m\u001b[38;5;132;01m{\u001b[39;00merr\u001b[38;5;132;01m}\u001b[39;00m\u001b[38;5;124m: You must call earthaccess.login() before you can download data\u001b[39m\u001b[38;5;124m\"\u001b[39m\n\u001b[0;32m    276\u001b[0m     )\n",
      "File \u001b[1;32m~\\AppData\\Roaming\\Python\\Python310\\site-packages\\earthaccess\\store.py:535\u001b[0m, in \u001b[0;36mStore.get\u001b[1;34m(self, granules, local_path, provider, threads, pqdm_kwargs)\u001b[0m\n\u001b[0;32m    528\u001b[0m     local_path \u001b[38;5;241m=\u001b[39m Path\u001b[38;5;241m.\u001b[39mcwd() \u001b[38;5;241m/\u001b[39m \u001b[38;5;124m\"\u001b[39m\u001b[38;5;124mdata\u001b[39m\u001b[38;5;124m\"\u001b[39m \u001b[38;5;241m/\u001b[39m \u001b[38;5;124mf\u001b[39m\u001b[38;5;124m\"\u001b[39m\u001b[38;5;132;01m{\u001b[39;00mtoday\u001b[38;5;132;01m}\u001b[39;00m\u001b[38;5;124m-\u001b[39m\u001b[38;5;132;01m{\u001b[39;00muuid\u001b[38;5;132;01m}\u001b[39;00m\u001b[38;5;124m\"\u001b[39m\n\u001b[0;32m    530\u001b[0m pqdm_kwargs \u001b[38;5;241m=\u001b[39m {\n\u001b[0;32m    531\u001b[0m     \u001b[38;5;124m\"\u001b[39m\u001b[38;5;124mn_jobs\u001b[39m\u001b[38;5;124m\"\u001b[39m: threads,\n\u001b[0;32m    532\u001b[0m     \u001b[38;5;241m*\u001b[39m\u001b[38;5;241m*\u001b[39m(pqdm_kwargs \u001b[38;5;129;01mor\u001b[39;00m {}),\n\u001b[0;32m    533\u001b[0m }\n\u001b[1;32m--> 535\u001b[0m \u001b[38;5;28;01mreturn\u001b[39;00m \u001b[38;5;28;43mself\u001b[39;49m\u001b[38;5;241;43m.\u001b[39;49m\u001b[43m_get\u001b[49m\u001b[43m(\u001b[49m\u001b[43mgranules\u001b[49m\u001b[43m,\u001b[49m\u001b[43m \u001b[49m\u001b[43mPath\u001b[49m\u001b[43m(\u001b[49m\u001b[43mlocal_path\u001b[49m\u001b[43m)\u001b[49m\u001b[43m,\u001b[49m\u001b[43m \u001b[49m\u001b[43mprovider\u001b[49m\u001b[43m,\u001b[49m\u001b[43m \u001b[49m\u001b[43mpqdm_kwargs\u001b[49m\u001b[38;5;241;43m=\u001b[39;49m\u001b[43mpqdm_kwargs\u001b[49m\u001b[43m)\u001b[49m\n",
      "File \u001b[1;32m~\\AppData\\Roaming\\Python\\Python310\\site-packages\\multimethod\\__init__.py:350\u001b[0m, in \u001b[0;36mmultimethod.__call__\u001b[1;34m(self, *args, **kwargs)\u001b[0m\n\u001b[0;32m    348\u001b[0m func \u001b[38;5;241m=\u001b[39m \u001b[38;5;28mself\u001b[39m\u001b[38;5;241m.\u001b[39mdispatch(\u001b[38;5;241m*\u001b[39margs)\n\u001b[0;32m    349\u001b[0m \u001b[38;5;28;01mtry\u001b[39;00m:\n\u001b[1;32m--> 350\u001b[0m     \u001b[38;5;28;01mreturn\u001b[39;00m func(\u001b[38;5;241m*\u001b[39margs, \u001b[38;5;241m*\u001b[39m\u001b[38;5;241m*\u001b[39mkwargs)\n\u001b[0;32m    351\u001b[0m \u001b[38;5;28;01mexcept\u001b[39;00m \u001b[38;5;167;01mTypeError\u001b[39;00m \u001b[38;5;28;01mas\u001b[39;00m ex:\n\u001b[0;32m    352\u001b[0m     \u001b[38;5;28;01mraise\u001b[39;00m DispatchError(\u001b[38;5;124mf\u001b[39m\u001b[38;5;124m\"\u001b[39m\u001b[38;5;124mFunction \u001b[39m\u001b[38;5;132;01m{\u001b[39;00mfunc\u001b[38;5;241m.\u001b[39m\u001b[38;5;18m__code__\u001b[39m\u001b[38;5;132;01m}\u001b[39;00m\u001b[38;5;124m\"\u001b[39m) \u001b[38;5;28;01mfrom\u001b[39;00m\u001b[38;5;250m \u001b[39m\u001b[38;5;21;01mex\u001b[39;00m\n",
      "File \u001b[1;32m~\\AppData\\Roaming\\Python\\Python310\\site-packages\\earthaccess\\store.py:649\u001b[0m, in \u001b[0;36mStore._get_granules\u001b[1;34m(self, granules, local_path, provider, pqdm_kwargs)\u001b[0m\n\u001b[0;32m    645\u001b[0m     \u001b[38;5;28;01mreturn\u001b[39;00m downloaded_files\n\u001b[0;32m    646\u001b[0m \u001b[38;5;28;01melse\u001b[39;00m:\n\u001b[0;32m    647\u001b[0m     \u001b[38;5;66;03m# if the data are cloud-based, but we are not in AWS,\u001b[39;00m\n\u001b[0;32m    648\u001b[0m     \u001b[38;5;66;03m# it will be downloaded as if it was on prem\u001b[39;00m\n\u001b[1;32m--> 649\u001b[0m     \u001b[38;5;28;01mreturn\u001b[39;00m \u001b[38;5;28;43mself\u001b[39;49m\u001b[38;5;241;43m.\u001b[39;49m\u001b[43m_download_onprem_granules\u001b[49m\u001b[43m(\u001b[49m\n\u001b[0;32m    650\u001b[0m \u001b[43m        \u001b[49m\u001b[43mdata_links\u001b[49m\u001b[43m,\u001b[49m\u001b[43m \u001b[49m\u001b[43mlocal_path\u001b[49m\u001b[43m,\u001b[49m\u001b[43m \u001b[49m\u001b[43mpqdm_kwargs\u001b[49m\u001b[38;5;241;43m=\u001b[39;49m\u001b[43mpqdm_kwargs\u001b[49m\n\u001b[0;32m    651\u001b[0m \u001b[43m    \u001b[49m\u001b[43m)\u001b[49m\n",
      "File \u001b[1;32m~\\AppData\\Roaming\\Python\\Python310\\site-packages\\earthaccess\\store.py:747\u001b[0m, in \u001b[0;36mStore._download_onprem_granules\u001b[1;34m(self, urls, directory, pqdm_kwargs)\u001b[0m\n\u001b[0;32m    737\u001b[0m arguments \u001b[38;5;241m=\u001b[39m [(url, directory) \u001b[38;5;28;01mfor\u001b[39;00m url \u001b[38;5;129;01min\u001b[39;00m urls]\n\u001b[0;32m    739\u001b[0m pqdm_kwargs \u001b[38;5;241m=\u001b[39m {\n\u001b[0;32m    740\u001b[0m     \u001b[38;5;124m\"\u001b[39m\u001b[38;5;124mexception_behaviour\u001b[39m\u001b[38;5;124m\"\u001b[39m: \u001b[38;5;124m\"\u001b[39m\u001b[38;5;124mimmediate\u001b[39m\u001b[38;5;124m\"\u001b[39m,\n\u001b[0;32m    741\u001b[0m     \u001b[38;5;241m*\u001b[39m\u001b[38;5;241m*\u001b[39m(pqdm_kwargs \u001b[38;5;129;01mor\u001b[39;00m {}),\n\u001b[1;32m   (...)\u001b[0m\n\u001b[0;32m    744\u001b[0m     \u001b[38;5;124m\"\u001b[39m\u001b[38;5;124margument_type\u001b[39m\u001b[38;5;124m\"\u001b[39m: \u001b[38;5;124m\"\u001b[39m\u001b[38;5;124margs\u001b[39m\u001b[38;5;124m\"\u001b[39m,\n\u001b[0;32m    745\u001b[0m }\n\u001b[1;32m--> 747\u001b[0m \u001b[38;5;28;01mreturn\u001b[39;00m pqdm(arguments, \u001b[38;5;28mself\u001b[39m\u001b[38;5;241m.\u001b[39m_download_file, \u001b[38;5;241m*\u001b[39m\u001b[38;5;241m*\u001b[39mpqdm_kwargs)\n",
      "File \u001b[1;32m~\\AppData\\Roaming\\Python\\Python310\\site-packages\\pqdm\\threads.py:22\u001b[0m, in \u001b[0;36mpqdm\u001b[1;34m(array, function, n_jobs, argument_type, bounded, exception_behaviour, tqdm_class, **kwargs)\u001b[0m\n\u001b[0;32m     12\u001b[0m \u001b[38;5;28;01mdef\u001b[39;00m\u001b[38;5;250m \u001b[39m\u001b[38;5;21mpqdm\u001b[39m(\n\u001b[0;32m     13\u001b[0m     array: Iterable[Any],\n\u001b[0;32m     14\u001b[0m     function: Callable[[Any], Any],\n\u001b[1;32m   (...)\u001b[0m\n\u001b[0;32m     20\u001b[0m     \u001b[38;5;241m*\u001b[39m\u001b[38;5;241m*\u001b[39mkwargs\n\u001b[0;32m     21\u001b[0m ):\n\u001b[1;32m---> 22\u001b[0m     \u001b[38;5;28;01mreturn\u001b[39;00m _parallel_process(\n\u001b[0;32m     23\u001b[0m         iterable\u001b[38;5;241m=\u001b[39marray,\n\u001b[0;32m     24\u001b[0m         function\u001b[38;5;241m=\u001b[39mfunction,\n\u001b[0;32m     25\u001b[0m         argument_type\u001b[38;5;241m=\u001b[39margument_type,\n\u001b[0;32m     26\u001b[0m         n_jobs\u001b[38;5;241m=\u001b[39mn_jobs,\n\u001b[0;32m     27\u001b[0m         executor\u001b[38;5;241m=\u001b[39mBoundedThreadPoolExecutor \u001b[38;5;28;01mif\u001b[39;00m bounded \u001b[38;5;28;01melse\u001b[39;00m ThreadPoolExecutor,\n\u001b[0;32m     28\u001b[0m         exception_behaviour\u001b[38;5;241m=\u001b[39mexception_behaviour,\n\u001b[0;32m     29\u001b[0m         tqdm_class\u001b[38;5;241m=\u001b[39mtqdm_class,\n\u001b[0;32m     30\u001b[0m         \u001b[38;5;241m*\u001b[39m\u001b[38;5;241m*\u001b[39mkwargs\n\u001b[0;32m     31\u001b[0m     )\n",
      "File \u001b[1;32m~\\AppData\\Roaming\\Python\\Python310\\site-packages\\pqdm\\_base.py:79\u001b[0m, in \u001b[0;36m_parallel_process\u001b[1;34m(iterable, function, n_jobs, executor, argument_type, exception_behaviour, tqdm_class, **kwargs)\u001b[0m\n\u001b[0;32m     77\u001b[0m \u001b[38;5;28;01mexcept\u001b[39;00m \u001b[38;5;167;01mException\u001b[39;00m \u001b[38;5;28;01mas\u001b[39;00m e:\n\u001b[0;32m     78\u001b[0m     \u001b[38;5;28;01mif\u001b[39;00m exception_behaviour \u001b[38;5;241m==\u001b[39m ExceptionBehaviour\u001b[38;5;241m.\u001b[39mIMMEDIATE:\n\u001b[1;32m---> 79\u001b[0m         \u001b[38;5;28;01mraise\u001b[39;00m e\n\u001b[0;32m     80\u001b[0m     \u001b[38;5;28;01mif\u001b[39;00m exception_behaviour \u001b[38;5;241m==\u001b[39m ExceptionBehaviour\u001b[38;5;241m.\u001b[39mIGNORE:\n\u001b[0;32m     81\u001b[0m         results\u001b[38;5;241m.\u001b[39mappend(e)\n",
      "File \u001b[1;32m~\\AppData\\Roaming\\Python\\Python310\\site-packages\\pqdm\\_base.py:76\u001b[0m, in \u001b[0;36m_parallel_process\u001b[1;34m(iterable, function, n_jobs, executor, argument_type, exception_behaviour, tqdm_class, **kwargs)\u001b[0m\n\u001b[0;32m     74\u001b[0m \u001b[38;5;28;01mfor\u001b[39;00m i, future \u001b[38;5;129;01min\u001b[39;00m tqdm_class(\u001b[38;5;28menumerate\u001b[39m(futures), \u001b[38;5;241m*\u001b[39m\u001b[38;5;241m*\u001b[39mcollecting_opts):\n\u001b[0;32m     75\u001b[0m     \u001b[38;5;28;01mtry\u001b[39;00m:\n\u001b[1;32m---> 76\u001b[0m         results\u001b[38;5;241m.\u001b[39mappend(\u001b[43mfuture\u001b[49m\u001b[38;5;241;43m.\u001b[39;49m\u001b[43mresult\u001b[49m\u001b[43m(\u001b[49m\u001b[43m)\u001b[49m)\n\u001b[0;32m     77\u001b[0m     \u001b[38;5;28;01mexcept\u001b[39;00m \u001b[38;5;167;01mException\u001b[39;00m \u001b[38;5;28;01mas\u001b[39;00m e:\n\u001b[0;32m     78\u001b[0m         \u001b[38;5;28;01mif\u001b[39;00m exception_behaviour \u001b[38;5;241m==\u001b[39m ExceptionBehaviour\u001b[38;5;241m.\u001b[39mIMMEDIATE:\n",
      "File \u001b[1;32mc:\\Program Files\\Python310\\lib\\concurrent\\futures\\_base.py:438\u001b[0m, in \u001b[0;36mFuture.result\u001b[1;34m(self, timeout)\u001b[0m\n\u001b[0;32m    436\u001b[0m     \u001b[38;5;28;01mraise\u001b[39;00m CancelledError()\n\u001b[0;32m    437\u001b[0m \u001b[38;5;28;01melif\u001b[39;00m \u001b[38;5;28mself\u001b[39m\u001b[38;5;241m.\u001b[39m_state \u001b[38;5;241m==\u001b[39m FINISHED:\n\u001b[1;32m--> 438\u001b[0m     \u001b[38;5;28;01mreturn\u001b[39;00m \u001b[38;5;28;43mself\u001b[39;49m\u001b[38;5;241;43m.\u001b[39;49m\u001b[43m__get_result\u001b[49m\u001b[43m(\u001b[49m\u001b[43m)\u001b[49m\n\u001b[0;32m    440\u001b[0m \u001b[38;5;28mself\u001b[39m\u001b[38;5;241m.\u001b[39m_condition\u001b[38;5;241m.\u001b[39mwait(timeout)\n\u001b[0;32m    442\u001b[0m \u001b[38;5;28;01mif\u001b[39;00m \u001b[38;5;28mself\u001b[39m\u001b[38;5;241m.\u001b[39m_state \u001b[38;5;129;01min\u001b[39;00m [CANCELLED, CANCELLED_AND_NOTIFIED]:\n",
      "File \u001b[1;32mc:\\Program Files\\Python310\\lib\\concurrent\\futures\\_base.py:390\u001b[0m, in \u001b[0;36mFuture.__get_result\u001b[1;34m(self)\u001b[0m\n\u001b[0;32m    388\u001b[0m \u001b[38;5;28;01mif\u001b[39;00m \u001b[38;5;28mself\u001b[39m\u001b[38;5;241m.\u001b[39m_exception:\n\u001b[0;32m    389\u001b[0m     \u001b[38;5;28;01mtry\u001b[39;00m:\n\u001b[1;32m--> 390\u001b[0m         \u001b[38;5;28;01mraise\u001b[39;00m \u001b[38;5;28mself\u001b[39m\u001b[38;5;241m.\u001b[39m_exception\n\u001b[0;32m    391\u001b[0m     \u001b[38;5;28;01mfinally\u001b[39;00m:\n\u001b[0;32m    392\u001b[0m         \u001b[38;5;66;03m# Break a reference cycle with the exception in self._exception\u001b[39;00m\n\u001b[0;32m    393\u001b[0m         \u001b[38;5;28mself\u001b[39m \u001b[38;5;241m=\u001b[39m \u001b[38;5;28;01mNone\u001b[39;00m\n",
      "File \u001b[1;32mc:\\Program Files\\Python310\\lib\\concurrent\\futures\\thread.py:52\u001b[0m, in \u001b[0;36m_WorkItem.run\u001b[1;34m(self)\u001b[0m\n\u001b[0;32m     49\u001b[0m     \u001b[38;5;28;01mreturn\u001b[39;00m\n\u001b[0;32m     51\u001b[0m \u001b[38;5;28;01mtry\u001b[39;00m:\n\u001b[1;32m---> 52\u001b[0m     result \u001b[38;5;241m=\u001b[39m \u001b[38;5;28mself\u001b[39m\u001b[38;5;241m.\u001b[39mfn(\u001b[38;5;241m*\u001b[39m\u001b[38;5;28mself\u001b[39m\u001b[38;5;241m.\u001b[39margs, \u001b[38;5;241m*\u001b[39m\u001b[38;5;241m*\u001b[39m\u001b[38;5;28mself\u001b[39m\u001b[38;5;241m.\u001b[39mkwargs)\n\u001b[0;32m     53\u001b[0m \u001b[38;5;28;01mexcept\u001b[39;00m \u001b[38;5;167;01mBaseException\u001b[39;00m \u001b[38;5;28;01mas\u001b[39;00m exc:\n\u001b[0;32m     54\u001b[0m     \u001b[38;5;28mself\u001b[39m\u001b[38;5;241m.\u001b[39mfuture\u001b[38;5;241m.\u001b[39mset_exception(exc)\n",
      "File \u001b[1;32m~\\AppData\\Roaming\\Python\\Python310\\site-packages\\earthaccess\\store.py:705\u001b[0m, in \u001b[0;36mStore._download_file\u001b[1;34m(self, url, directory)\u001b[0m\n\u001b[0;32m    703\u001b[0m     \u001b[38;5;28;01mexcept\u001b[39;00m \u001b[38;5;167;01mException\u001b[39;00m:\n\u001b[0;32m    704\u001b[0m         logger\u001b[38;5;241m.\u001b[39mexception(\u001b[38;5;124mf\u001b[39m\u001b[38;5;124m\"\u001b[39m\u001b[38;5;124mError while downloading the file \u001b[39m\u001b[38;5;132;01m{\u001b[39;00mlocal_filename\u001b[38;5;132;01m}\u001b[39;00m\u001b[38;5;124m\"\u001b[39m)\n\u001b[1;32m--> 705\u001b[0m         \u001b[38;5;28;01mraise\u001b[39;00m \u001b[38;5;167;01mException\u001b[39;00m\n\u001b[0;32m    706\u001b[0m \u001b[38;5;28;01melse\u001b[39;00m:\n\u001b[0;32m    707\u001b[0m     logger\u001b[38;5;241m.\u001b[39minfo(\u001b[38;5;124mf\u001b[39m\u001b[38;5;124m\"\u001b[39m\u001b[38;5;124mFile \u001b[39m\u001b[38;5;132;01m{\u001b[39;00mlocal_filename\u001b[38;5;132;01m}\u001b[39;00m\u001b[38;5;124m already downloaded\u001b[39m\u001b[38;5;124m\"\u001b[39m)\n",
      "\u001b[1;31mException\u001b[0m: "
     ]
    }
   ],
   "source": [
    "earthaccess.download(tempo, 'data')"
   ]
  },
  {
   "cell_type": "code",
   "execution_count": 13,
   "id": "cc12ed61",
   "metadata": {},
   "outputs": [
    {
     "ename": "ValueError",
     "evalue": "found the following matches with the input file in xarray's IO backends: ['netcdf4', 'h5netcdf']. But their dependencies may not be installed, see:\nhttps://docs.xarray.dev/en/stable/user-guide/io.html \nhttps://docs.xarray.dev/en/stable/getting-started-guide/installing.html",
     "output_type": "error",
     "traceback": [
      "\u001b[1;31m---------------------------------------------------------------------------\u001b[0m",
      "\u001b[1;31mValueError\u001b[0m                                Traceback (most recent call last)",
      "Cell \u001b[1;32mIn[13], line 5\u001b[0m\n\u001b[0;32m      3\u001b[0m \u001b[38;5;66;03m# Load the NetCDF file\u001b[39;00m\n\u001b[0;32m      4\u001b[0m file_path \u001b[38;5;241m=\u001b[39m \u001b[38;5;124m'\u001b[39m\u001b[38;5;124mdata/TEMPO_NO2_L3_V03_20241109T134215Z_S004.nc\u001b[39m\u001b[38;5;124m'\u001b[39m\n\u001b[1;32m----> 5\u001b[0m data \u001b[38;5;241m=\u001b[39m \u001b[43mxr\u001b[49m\u001b[38;5;241;43m.\u001b[39;49m\u001b[43mopen_dataset\u001b[49m\u001b[43m(\u001b[49m\u001b[43mfile_path\u001b[49m\u001b[43m)\u001b[49m\n\u001b[0;32m      7\u001b[0m \u001b[38;5;66;03m# Display the dataset structure\u001b[39;00m\n\u001b[0;32m      8\u001b[0m \u001b[38;5;28mprint\u001b[39m(data)\n",
      "File \u001b[1;32m~\\AppData\\Roaming\\Python\\Python310\\site-packages\\xarray\\backends\\api.py:668\u001b[0m, in \u001b[0;36mopen_dataset\u001b[1;34m(filename_or_obj, engine, chunks, cache, decode_cf, mask_and_scale, decode_times, decode_timedelta, use_cftime, concat_characters, decode_coords, drop_variables, inline_array, chunked_array_type, from_array_kwargs, backend_kwargs, **kwargs)\u001b[0m\n\u001b[0;32m    665\u001b[0m     kwargs\u001b[38;5;241m.\u001b[39mupdate(backend_kwargs)\n\u001b[0;32m    667\u001b[0m \u001b[38;5;28;01mif\u001b[39;00m engine \u001b[38;5;129;01mis\u001b[39;00m \u001b[38;5;28;01mNone\u001b[39;00m:\n\u001b[1;32m--> 668\u001b[0m     engine \u001b[38;5;241m=\u001b[39m \u001b[43mplugins\u001b[49m\u001b[38;5;241;43m.\u001b[39;49m\u001b[43mguess_engine\u001b[49m\u001b[43m(\u001b[49m\u001b[43mfilename_or_obj\u001b[49m\u001b[43m)\u001b[49m\n\u001b[0;32m    670\u001b[0m \u001b[38;5;28;01mif\u001b[39;00m from_array_kwargs \u001b[38;5;129;01mis\u001b[39;00m \u001b[38;5;28;01mNone\u001b[39;00m:\n\u001b[0;32m    671\u001b[0m     from_array_kwargs \u001b[38;5;241m=\u001b[39m {}\n",
      "File \u001b[1;32m~\\AppData\\Roaming\\Python\\Python310\\site-packages\\xarray\\backends\\plugins.py:194\u001b[0m, in \u001b[0;36mguess_engine\u001b[1;34m(store_spec)\u001b[0m\n\u001b[0;32m    186\u001b[0m \u001b[38;5;28;01melse\u001b[39;00m:\n\u001b[0;32m    187\u001b[0m     error_msg \u001b[38;5;241m=\u001b[39m (\n\u001b[0;32m    188\u001b[0m         \u001b[38;5;124m\"\u001b[39m\u001b[38;5;124mfound the following matches with the input file in xarray\u001b[39m\u001b[38;5;124m'\u001b[39m\u001b[38;5;124ms IO \u001b[39m\u001b[38;5;124m\"\u001b[39m\n\u001b[0;32m    189\u001b[0m         \u001b[38;5;124mf\u001b[39m\u001b[38;5;124m\"\u001b[39m\u001b[38;5;124mbackends: \u001b[39m\u001b[38;5;132;01m{\u001b[39;00mcompatible_engines\u001b[38;5;132;01m}\u001b[39;00m\u001b[38;5;124m. But their dependencies may not be installed, see:\u001b[39m\u001b[38;5;130;01m\\n\u001b[39;00m\u001b[38;5;124m\"\u001b[39m\n\u001b[0;32m    190\u001b[0m         \u001b[38;5;124m\"\u001b[39m\u001b[38;5;124mhttps://docs.xarray.dev/en/stable/user-guide/io.html \u001b[39m\u001b[38;5;130;01m\\n\u001b[39;00m\u001b[38;5;124m\"\u001b[39m\n\u001b[0;32m    191\u001b[0m         \u001b[38;5;124m\"\u001b[39m\u001b[38;5;124mhttps://docs.xarray.dev/en/stable/getting-started-guide/installing.html\u001b[39m\u001b[38;5;124m\"\u001b[39m\n\u001b[0;32m    192\u001b[0m     )\n\u001b[1;32m--> 194\u001b[0m \u001b[38;5;28;01mraise\u001b[39;00m \u001b[38;5;167;01mValueError\u001b[39;00m(error_msg)\n",
      "\u001b[1;31mValueError\u001b[0m: found the following matches with the input file in xarray's IO backends: ['netcdf4', 'h5netcdf']. But their dependencies may not be installed, see:\nhttps://docs.xarray.dev/en/stable/user-guide/io.html \nhttps://docs.xarray.dev/en/stable/getting-started-guide/installing.html"
     ]
    }
   ],
   "source": [
    "import xarray as xr\n",
    "\n",
    "# Load the NetCDF file\n",
    "file_path = 'data/TEMPO_NO2_L3_V03_20241109T134215Z_S004.nc'\n",
    "data = xr.open_dataset(file_path)\n",
    "\n",
    "# Display the dataset structure\n",
    "print(data)\n",
    "\n",
    "# List all variables in the dataset\n",
    "print(\"Variables in the dataset:\")\n",
    "print(data.variables)\n",
    "\n",
    "# Display metadata for the dataset\n",
    "print(\"Metadata:\")\n",
    "print(data.attrs)\n",
    "\n",
    "# Plot one of the variables (e.g., NO2 concentration)\n",
    "if 'NO2' in data.variables:\n",
    "    data['NO2'].plot()\n",
    "else:\n",
    "    print(\"NO2 variable not found in the dataset.\")"
   ]
  }
 ],
 "metadata": {
  "kernelspec": {
   "display_name": "Python 3",
   "language": "python",
   "name": "python3"
  },
  "language_info": {
   "codemirror_mode": {
    "name": "ipython",
    "version": 3
   },
   "file_extension": ".py",
   "mimetype": "text/x-python",
   "name": "python",
   "nbconvert_exporter": "python",
   "pygments_lexer": "ipython3",
   "version": "3.10.0"
  }
 },
 "nbformat": 4,
 "nbformat_minor": 5
}
