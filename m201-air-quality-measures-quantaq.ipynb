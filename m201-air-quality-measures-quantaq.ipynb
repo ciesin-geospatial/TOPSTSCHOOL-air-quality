{
 "cells": [
  {
   "cell_type": "markdown",
   "metadata": {},
   "source": [
    "## QuantAQ Data\n",
    "Data are available via an API. \n",
    "\n",
    "The first step is to sign up for a free QuantAQ account: https://app.quant-aq.com/auth/sign-up\n",
    "\n",
    "<img src=\"./images/QuantAQ-SignUp.png\" alt=\"QuantAQ Signup\" width=\"400\"/>"
   ]
  },
  {
   "cell_type": "markdown",
   "metadata": {},
   "source": [
    "The next step is to obtain an API Key:\n",
    "\n",
    "From the API Documentation\n",
    "\n",
    "Obtaining an API key\n",
    "Authentication is handled using HTTP Basic Auth which consists of sending an API key that is unique to your account with each request. This key should be kept secret and not shared with anyone. This API key is tied to your user account and will only allow you to take actions within your assigned scope of permissions.\n",
    "\n",
    "You can generate an API key for your account by visiting the Developer section within the QuantAQ Cloud and clicking Generate New Key in the upper right-hand corner of your screen. It is recommended that you set this key as an environment variable on your computer with the name QUANTAQ_APIKEY.\n",
    "\n",
    "To include your API key in your request, add an HTTP Authorization header, consisting of a usernameand password. When using httpie, you can use the -aflag to indicate authorization. The API key serves as the username and the password should be left blank.\n",
    "\n",
    "<img src=\"./images/QuantAQ-Key.png\" alt=\"QuantAQ API-Key\" width=\"800\"/>"
   ]
  },
  {
   "cell_type": "markdown",
   "metadata": {},
   "source": [
    "Install the python package available for working with the API which is fully described here: https://github.com/quant-aq/py-quantaq.git"
   ]
  },
  {
   "cell_type": "code",
   "execution_count": null,
   "metadata": {},
   "outputs": [],
   "source": [
    "# install py-quantaq\n",
    "!pip install git+https://github.com/quant-aq/py-quantaq.git"
   ]
  },
  {
   "cell_type": "code",
   "execution_count": 10,
   "metadata": {},
   "outputs": [],
   "source": [
    "# import the library\n",
    "import quantaq\n",
    "import os\n",
    "# Set the API key as an environment variable within the notebook session\n",
    "os.environ['QUANTAQ_APIKEY'] = 'A2XUQ82NCPSQUIUYLA2QLX82'\n",
    "# Initialize the QuantAQ client\n",
    "client = quantaq.QuantAQAPIClient(api_key=os.environ['QUANTAQ_APIKEY'])"
   ]
  },
  {
   "cell_type": "code",
   "execution_count": 11,
   "metadata": {},
   "outputs": [
    {
     "name": "stdout",
     "output_type": "stream",
     "text": [
      "{'confirmed': True, 'email': 'km2505@columbia.edu', 'first_name': 'Kytt', 'id': 2703, 'is_administrator': False, 'last_name': 'MacManus', 'last_seen': '2025-01-30T20:24:55.112864', 'member_since': '2025-01-30T14:59:34.179734', 'role': 1, 'username': 'kyttmacmanus'}\n"
     ]
    }
   ],
   "source": [
    "# verify account information\n",
    "whoami = client.whoami()\n",
    "print (whoami)"
   ]
  },
  {
   "cell_type": "code",
   "execution_count": 12,
   "metadata": {},
   "outputs": [
    {
     "name": "stdout",
     "output_type": "stream",
     "text": [
      "[{'created_on': '2025-01-30T14:59:34.186321+00:00', 'description': 'Only you can see devices here', 'devices': [], 'id': 2573, 'members': [{'role': 'admin', 'user': 'kyttmacmanus'}], 'name': 'kyttmacmanus Sandbox 2337', 'networks': [], 'sandbox': True}]\n"
     ]
    }
   ],
   "source": [
    "# You can retrieve a list of all the organizations visible to you:\n",
    "\n",
    "organizations = client.organizations.list()\n",
    "print (organizations)"
   ]
  },
  {
   "cell_type": "code",
   "execution_count": null,
   "metadata": {},
   "outputs": [],
   "source": []
  }
 ],
 "metadata": {
  "kernelspec": {
   "display_name": "Python 3",
   "language": "python",
   "name": "python3"
  },
  "language_info": {
   "codemirror_mode": {
    "name": "ipython",
    "version": 3
   },
   "file_extension": ".py",
   "mimetype": "text/x-python",
   "name": "python",
   "nbconvert_exporter": "python",
   "pygments_lexer": "ipython3",
   "version": "3.10.0"
  }
 },
 "nbformat": 4,
 "nbformat_minor": 2
}
